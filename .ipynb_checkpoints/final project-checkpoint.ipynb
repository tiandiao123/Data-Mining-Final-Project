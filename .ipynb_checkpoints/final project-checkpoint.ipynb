{
 "cells": [
  {
   "cell_type": "code",
   "execution_count": 1,
   "metadata": {},
   "outputs": [],
   "source": [
    "import numpy as np # linear algebra\n",
    "import pandas as pd # data processing, CSV file I/O (e.g. pd.read_csv)\n",
    "%matplotlib inline\n",
    "import matplotlib.pyplot as plt  # Matlab-style plotting\n",
    "import seaborn as sns"
   ]
  },
  {
   "cell_type": "code",
   "execution_count": 2,
   "metadata": {},
   "outputs": [],
   "source": [
    "train = pd.read_csv('train.csv')\n",
    "test = pd.read_csv('test.csv')"
   ]
  },
  {
   "cell_type": "code",
   "execution_count": 3,
   "metadata": {},
   "outputs": [
    {
     "data": {
      "text/html": [
       "<div>\n",
       "<style scoped>\n",
       "    .dataframe tbody tr th:only-of-type {\n",
       "        vertical-align: middle;\n",
       "    }\n",
       "\n",
       "    .dataframe tbody tr th {\n",
       "        vertical-align: top;\n",
       "    }\n",
       "\n",
       "    .dataframe thead th {\n",
       "        text-align: right;\n",
       "    }\n",
       "</style>\n",
       "<table border=\"1\" class=\"dataframe\">\n",
       "  <thead>\n",
       "    <tr style=\"text-align: right;\">\n",
       "      <th></th>\n",
       "      <th>Elevation</th>\n",
       "      <th>Aspect</th>\n",
       "      <th>Slope</th>\n",
       "      <th>Horizontal_Distance_To_Hydrology</th>\n",
       "      <th>Vertical_Distance_To_Hydrology</th>\n",
       "      <th>Horizontal_Distance_To_Roadways</th>\n",
       "      <th>Hillshade_9am</th>\n",
       "      <th>Hillshade_Noon</th>\n",
       "      <th>Hillshade_3pm</th>\n",
       "      <th>Horizontal_Distance_To_Fire_Points</th>\n",
       "      <th>...</th>\n",
       "      <th>Soil_Type32</th>\n",
       "      <th>Soil_Type33</th>\n",
       "      <th>Soil_Type34</th>\n",
       "      <th>Soil_Type35</th>\n",
       "      <th>Soil_Type36</th>\n",
       "      <th>Soil_Type37</th>\n",
       "      <th>Soil_Type38</th>\n",
       "      <th>Soil_Type39</th>\n",
       "      <th>Soil_Type40</th>\n",
       "      <th>Cover_Type</th>\n",
       "    </tr>\n",
       "  </thead>\n",
       "  <tbody>\n",
       "    <tr>\n",
       "      <td>0</td>\n",
       "      <td>2596</td>\n",
       "      <td>51</td>\n",
       "      <td>3</td>\n",
       "      <td>258</td>\n",
       "      <td>0</td>\n",
       "      <td>510</td>\n",
       "      <td>221</td>\n",
       "      <td>232</td>\n",
       "      <td>148</td>\n",
       "      <td>6279</td>\n",
       "      <td>...</td>\n",
       "      <td>0</td>\n",
       "      <td>0</td>\n",
       "      <td>0</td>\n",
       "      <td>0</td>\n",
       "      <td>0</td>\n",
       "      <td>0</td>\n",
       "      <td>0</td>\n",
       "      <td>0</td>\n",
       "      <td>0</td>\n",
       "      <td>5</td>\n",
       "    </tr>\n",
       "    <tr>\n",
       "      <td>1</td>\n",
       "      <td>2590</td>\n",
       "      <td>56</td>\n",
       "      <td>2</td>\n",
       "      <td>212</td>\n",
       "      <td>-6</td>\n",
       "      <td>390</td>\n",
       "      <td>220</td>\n",
       "      <td>235</td>\n",
       "      <td>151</td>\n",
       "      <td>6225</td>\n",
       "      <td>...</td>\n",
       "      <td>0</td>\n",
       "      <td>0</td>\n",
       "      <td>0</td>\n",
       "      <td>0</td>\n",
       "      <td>0</td>\n",
       "      <td>0</td>\n",
       "      <td>0</td>\n",
       "      <td>0</td>\n",
       "      <td>0</td>\n",
       "      <td>5</td>\n",
       "    </tr>\n",
       "    <tr>\n",
       "      <td>2</td>\n",
       "      <td>2804</td>\n",
       "      <td>139</td>\n",
       "      <td>9</td>\n",
       "      <td>268</td>\n",
       "      <td>65</td>\n",
       "      <td>3180</td>\n",
       "      <td>234</td>\n",
       "      <td>238</td>\n",
       "      <td>135</td>\n",
       "      <td>6121</td>\n",
       "      <td>...</td>\n",
       "      <td>0</td>\n",
       "      <td>0</td>\n",
       "      <td>0</td>\n",
       "      <td>0</td>\n",
       "      <td>0</td>\n",
       "      <td>0</td>\n",
       "      <td>0</td>\n",
       "      <td>0</td>\n",
       "      <td>0</td>\n",
       "      <td>2</td>\n",
       "    </tr>\n",
       "    <tr>\n",
       "      <td>3</td>\n",
       "      <td>2785</td>\n",
       "      <td>155</td>\n",
       "      <td>18</td>\n",
       "      <td>242</td>\n",
       "      <td>118</td>\n",
       "      <td>3090</td>\n",
       "      <td>238</td>\n",
       "      <td>238</td>\n",
       "      <td>122</td>\n",
       "      <td>6211</td>\n",
       "      <td>...</td>\n",
       "      <td>0</td>\n",
       "      <td>0</td>\n",
       "      <td>0</td>\n",
       "      <td>0</td>\n",
       "      <td>0</td>\n",
       "      <td>0</td>\n",
       "      <td>0</td>\n",
       "      <td>0</td>\n",
       "      <td>0</td>\n",
       "      <td>2</td>\n",
       "    </tr>\n",
       "    <tr>\n",
       "      <td>4</td>\n",
       "      <td>2595</td>\n",
       "      <td>45</td>\n",
       "      <td>2</td>\n",
       "      <td>153</td>\n",
       "      <td>-1</td>\n",
       "      <td>391</td>\n",
       "      <td>220</td>\n",
       "      <td>234</td>\n",
       "      <td>150</td>\n",
       "      <td>6172</td>\n",
       "      <td>...</td>\n",
       "      <td>0</td>\n",
       "      <td>0</td>\n",
       "      <td>0</td>\n",
       "      <td>0</td>\n",
       "      <td>0</td>\n",
       "      <td>0</td>\n",
       "      <td>0</td>\n",
       "      <td>0</td>\n",
       "      <td>0</td>\n",
       "      <td>5</td>\n",
       "    </tr>\n",
       "  </tbody>\n",
       "</table>\n",
       "<p>5 rows × 55 columns</p>\n",
       "</div>"
      ],
      "text/plain": [
       "   Elevation  Aspect  Slope  Horizontal_Distance_To_Hydrology  \\\n",
       "0       2596      51      3                               258   \n",
       "1       2590      56      2                               212   \n",
       "2       2804     139      9                               268   \n",
       "3       2785     155     18                               242   \n",
       "4       2595      45      2                               153   \n",
       "\n",
       "   Vertical_Distance_To_Hydrology  Horizontal_Distance_To_Roadways  \\\n",
       "0                               0                              510   \n",
       "1                              -6                              390   \n",
       "2                              65                             3180   \n",
       "3                             118                             3090   \n",
       "4                              -1                              391   \n",
       "\n",
       "   Hillshade_9am  Hillshade_Noon  Hillshade_3pm  \\\n",
       "0            221             232            148   \n",
       "1            220             235            151   \n",
       "2            234             238            135   \n",
       "3            238             238            122   \n",
       "4            220             234            150   \n",
       "\n",
       "   Horizontal_Distance_To_Fire_Points  ...  Soil_Type32  Soil_Type33  \\\n",
       "0                                6279  ...            0            0   \n",
       "1                                6225  ...            0            0   \n",
       "2                                6121  ...            0            0   \n",
       "3                                6211  ...            0            0   \n",
       "4                                6172  ...            0            0   \n",
       "\n",
       "   Soil_Type34  Soil_Type35  Soil_Type36  Soil_Type37  Soil_Type38  \\\n",
       "0            0            0            0            0            0   \n",
       "1            0            0            0            0            0   \n",
       "2            0            0            0            0            0   \n",
       "3            0            0            0            0            0   \n",
       "4            0            0            0            0            0   \n",
       "\n",
       "   Soil_Type39  Soil_Type40  Cover_Type  \n",
       "0            0            0           5  \n",
       "1            0            0           5  \n",
       "2            0            0           2  \n",
       "3            0            0           2  \n",
       "4            0            0           5  \n",
       "\n",
       "[5 rows x 55 columns]"
      ]
     },
     "execution_count": 3,
     "metadata": {},
     "output_type": "execute_result"
    }
   ],
   "source": [
    "train.drop(['Id'], inplace = True, axis = 1 )\n",
    "train.head()"
   ]
  },
  {
   "cell_type": "code",
   "execution_count": 4,
   "metadata": {},
   "outputs": [
    {
     "data": {
      "text/plain": [
       "2160"
      ]
     },
     "execution_count": 4,
     "metadata": {},
     "output_type": "execute_result"
    }
   ],
   "source": [
    "train_labels = train['Cover_Type']\n",
    "np.sum(train_labels == 7)"
   ]
  },
  {
   "cell_type": "code",
   "execution_count": 5,
   "metadata": {},
   "outputs": [
    {
     "data": {
      "text/html": [
       "<div>\n",
       "<style scoped>\n",
       "    .dataframe tbody tr th:only-of-type {\n",
       "        vertical-align: middle;\n",
       "    }\n",
       "\n",
       "    .dataframe tbody tr th {\n",
       "        vertical-align: top;\n",
       "    }\n",
       "\n",
       "    .dataframe thead th {\n",
       "        text-align: right;\n",
       "    }\n",
       "</style>\n",
       "<table border=\"1\" class=\"dataframe\">\n",
       "  <thead>\n",
       "    <tr style=\"text-align: right;\">\n",
       "      <th></th>\n",
       "      <th>Elevation</th>\n",
       "      <th>Aspect</th>\n",
       "      <th>Slope</th>\n",
       "      <th>Horizontal_Distance_To_Hydrology</th>\n",
       "      <th>Vertical_Distance_To_Hydrology</th>\n",
       "      <th>Horizontal_Distance_To_Roadways</th>\n",
       "      <th>Hillshade_9am</th>\n",
       "      <th>Hillshade_Noon</th>\n",
       "      <th>Hillshade_3pm</th>\n",
       "      <th>Horizontal_Distance_To_Fire_Points</th>\n",
       "      <th>...</th>\n",
       "      <th>Soil_Type31</th>\n",
       "      <th>Soil_Type32</th>\n",
       "      <th>Soil_Type33</th>\n",
       "      <th>Soil_Type34</th>\n",
       "      <th>Soil_Type35</th>\n",
       "      <th>Soil_Type36</th>\n",
       "      <th>Soil_Type37</th>\n",
       "      <th>Soil_Type38</th>\n",
       "      <th>Soil_Type39</th>\n",
       "      <th>Soil_Type40</th>\n",
       "    </tr>\n",
       "  </thead>\n",
       "  <tbody>\n",
       "    <tr>\n",
       "      <td>0</td>\n",
       "      <td>2596</td>\n",
       "      <td>51</td>\n",
       "      <td>3</td>\n",
       "      <td>258</td>\n",
       "      <td>0</td>\n",
       "      <td>510</td>\n",
       "      <td>221</td>\n",
       "      <td>232</td>\n",
       "      <td>148</td>\n",
       "      <td>6279</td>\n",
       "      <td>...</td>\n",
       "      <td>0</td>\n",
       "      <td>0</td>\n",
       "      <td>0</td>\n",
       "      <td>0</td>\n",
       "      <td>0</td>\n",
       "      <td>0</td>\n",
       "      <td>0</td>\n",
       "      <td>0</td>\n",
       "      <td>0</td>\n",
       "      <td>0</td>\n",
       "    </tr>\n",
       "    <tr>\n",
       "      <td>1</td>\n",
       "      <td>2590</td>\n",
       "      <td>56</td>\n",
       "      <td>2</td>\n",
       "      <td>212</td>\n",
       "      <td>-6</td>\n",
       "      <td>390</td>\n",
       "      <td>220</td>\n",
       "      <td>235</td>\n",
       "      <td>151</td>\n",
       "      <td>6225</td>\n",
       "      <td>...</td>\n",
       "      <td>0</td>\n",
       "      <td>0</td>\n",
       "      <td>0</td>\n",
       "      <td>0</td>\n",
       "      <td>0</td>\n",
       "      <td>0</td>\n",
       "      <td>0</td>\n",
       "      <td>0</td>\n",
       "      <td>0</td>\n",
       "      <td>0</td>\n",
       "    </tr>\n",
       "    <tr>\n",
       "      <td>2</td>\n",
       "      <td>2804</td>\n",
       "      <td>139</td>\n",
       "      <td>9</td>\n",
       "      <td>268</td>\n",
       "      <td>65</td>\n",
       "      <td>3180</td>\n",
       "      <td>234</td>\n",
       "      <td>238</td>\n",
       "      <td>135</td>\n",
       "      <td>6121</td>\n",
       "      <td>...</td>\n",
       "      <td>0</td>\n",
       "      <td>0</td>\n",
       "      <td>0</td>\n",
       "      <td>0</td>\n",
       "      <td>0</td>\n",
       "      <td>0</td>\n",
       "      <td>0</td>\n",
       "      <td>0</td>\n",
       "      <td>0</td>\n",
       "      <td>0</td>\n",
       "    </tr>\n",
       "    <tr>\n",
       "      <td>3</td>\n",
       "      <td>2785</td>\n",
       "      <td>155</td>\n",
       "      <td>18</td>\n",
       "      <td>242</td>\n",
       "      <td>118</td>\n",
       "      <td>3090</td>\n",
       "      <td>238</td>\n",
       "      <td>238</td>\n",
       "      <td>122</td>\n",
       "      <td>6211</td>\n",
       "      <td>...</td>\n",
       "      <td>0</td>\n",
       "      <td>0</td>\n",
       "      <td>0</td>\n",
       "      <td>0</td>\n",
       "      <td>0</td>\n",
       "      <td>0</td>\n",
       "      <td>0</td>\n",
       "      <td>0</td>\n",
       "      <td>0</td>\n",
       "      <td>0</td>\n",
       "    </tr>\n",
       "    <tr>\n",
       "      <td>4</td>\n",
       "      <td>2595</td>\n",
       "      <td>45</td>\n",
       "      <td>2</td>\n",
       "      <td>153</td>\n",
       "      <td>-1</td>\n",
       "      <td>391</td>\n",
       "      <td>220</td>\n",
       "      <td>234</td>\n",
       "      <td>150</td>\n",
       "      <td>6172</td>\n",
       "      <td>...</td>\n",
       "      <td>0</td>\n",
       "      <td>0</td>\n",
       "      <td>0</td>\n",
       "      <td>0</td>\n",
       "      <td>0</td>\n",
       "      <td>0</td>\n",
       "      <td>0</td>\n",
       "      <td>0</td>\n",
       "      <td>0</td>\n",
       "      <td>0</td>\n",
       "    </tr>\n",
       "  </tbody>\n",
       "</table>\n",
       "<p>5 rows × 54 columns</p>\n",
       "</div>"
      ],
      "text/plain": [
       "   Elevation  Aspect  Slope  Horizontal_Distance_To_Hydrology  \\\n",
       "0       2596      51      3                               258   \n",
       "1       2590      56      2                               212   \n",
       "2       2804     139      9                               268   \n",
       "3       2785     155     18                               242   \n",
       "4       2595      45      2                               153   \n",
       "\n",
       "   Vertical_Distance_To_Hydrology  Horizontal_Distance_To_Roadways  \\\n",
       "0                               0                              510   \n",
       "1                              -6                              390   \n",
       "2                              65                             3180   \n",
       "3                             118                             3090   \n",
       "4                              -1                              391   \n",
       "\n",
       "   Hillshade_9am  Hillshade_Noon  Hillshade_3pm  \\\n",
       "0            221             232            148   \n",
       "1            220             235            151   \n",
       "2            234             238            135   \n",
       "3            238             238            122   \n",
       "4            220             234            150   \n",
       "\n",
       "   Horizontal_Distance_To_Fire_Points  ...  Soil_Type31  Soil_Type32  \\\n",
       "0                                6279  ...            0            0   \n",
       "1                                6225  ...            0            0   \n",
       "2                                6121  ...            0            0   \n",
       "3                                6211  ...            0            0   \n",
       "4                                6172  ...            0            0   \n",
       "\n",
       "   Soil_Type33  Soil_Type34  Soil_Type35  Soil_Type36  Soil_Type37  \\\n",
       "0            0            0            0            0            0   \n",
       "1            0            0            0            0            0   \n",
       "2            0            0            0            0            0   \n",
       "3            0            0            0            0            0   \n",
       "4            0            0            0            0            0   \n",
       "\n",
       "   Soil_Type38  Soil_Type39  Soil_Type40  \n",
       "0            0            0            0  \n",
       "1            0            0            0  \n",
       "2            0            0            0  \n",
       "3            0            0            0  \n",
       "4            0            0            0  \n",
       "\n",
       "[5 rows x 54 columns]"
      ]
     },
     "execution_count": 5,
     "metadata": {},
     "output_type": "execute_result"
    }
   ],
   "source": [
    "train.drop(['Cover_Type'], inplace = True, axis = 1 )\n",
    "train.head()"
   ]
  },
  {
   "cell_type": "code",
   "execution_count": 7,
   "metadata": {},
   "outputs": [],
   "source": [
    "from sklearn.model_selection import train_test_split\n",
    "from sklearn.neighbors import KNeighborsClassifier\n",
    "from sklearn.ensemble import GradientBoostingClassifier\n",
    "X_train, X_test, y_train, y_test = train_test_split(train, train_labels, test_size=0.2, random_state=42, shuffle=True)"
   ]
  },
  {
   "cell_type": "code",
   "execution_count": 8,
   "metadata": {},
   "outputs": [],
   "source": [
    "def train_inference_KNN(number_of_neigbor):\n",
    "    print(\"training KNN model ...\")\n",
    "    print(\"the number of neig is: \" +str(number_of_neigbor))\n",
    "    model = KNeighborsClassifier(n_neighbors=number_of_neigbor)\n",
    "    model.fit(X_train, y_train)\n",
    "    test_predictions = model.predict(X_test)\n",
    "    train_predictions = model.predict(X_train)\n",
    "    return np.sum(test_predictions == y_test)/len(y_test), np.sum(train_predictions == y_train)/len(y_train), model"
   ]
  },
  {
   "cell_type": "code",
   "execution_count": 9,
   "metadata": {},
   "outputs": [
    {
     "name": "stdout",
     "output_type": "stream",
     "text": [
      "training KNN model ...\n",
      "the number of neig is: 3\n",
      "training KNN model ...\n",
      "the number of neig is: 5\n",
      "training KNN model ...\n",
      "the number of neig is: 7\n",
      "training KNN model ...\n",
      "the number of neig is: 9\n",
      "training KNN model ...\n",
      "the number of neig is: 11\n",
      "training KNN model ...\n",
      "the number of neig is: 13\n",
      "training KNN model ...\n",
      "the number of neig is: 15\n",
      "training KNN model ...\n",
      "the number of neig is: 17\n",
      "the test accuracies are: \n",
      "[0.8207671957671958, 0.8048941798941799, 0.7876984126984127, 0.7767857142857143, 0.7592592592592593, 0.7585978835978836, 0.7529761904761905, 0.7490079365079365]\n",
      "the training accraucy are : \n",
      "[0.9132771164021164, 0.8752480158730159, 0.8516865079365079, 0.8310185185185185, 0.8158068783068783, 0.8043981481481481, 0.7964616402116402, 0.7863756613756614]\n",
      "the best accuracy is : 0.8207671957671958\n"
     ]
    }
   ],
   "source": [
    "test_accuracy = []\n",
    "train_accuracy = []\n",
    "max_acc = 0\n",
    "KNN_model = None\n",
    "for num in range(3, 19, 2):\n",
    "    test_acc, train_acc, model = train_inference_KNN(num)\n",
    "    if KNN_model == None or max_acc < test_acc:\n",
    "        max_acc = test_acc\n",
    "        KNN_model = model\n",
    "    test_accuracy.append(test_acc)\n",
    "    train_accuracy.append(train_acc)\n",
    "print(\"the test accuracies are: \")\n",
    "print(test_accuracy)\n",
    "print(\"the training accraucy are : \")\n",
    "print(train_accuracy)\n",
    "print(\"the best accuracy is : \" +str(max_acc))"
   ]
  },
  {
   "cell_type": "code",
   "execution_count": 11,
   "metadata": {},
   "outputs": [
    {
     "data": {
      "image/png": "[encoded data removed]",
      "text/plain": [
       "<Figure size 432x288 with 1 Axes>"
      ]
     },
     "metadata": {
      "needs_background": "light"
     },
     "output_type": "display_data"
    }
   ],
   "source": [
    "import matplotlib.pyplot as plt\n",
    "plt.plot(range(3, 19, 2), test_accuracy, label='testing accuracy')\n",
    "plt.plot(range(3, 19, 2), train_accuracy, label = 'training accuracy')\n",
    "plt.ylabel(\"the accuracy\")\n",
    "plt.xlabel(\"the number of neigbors in KNN model\")\n",
    "plt.legend(loc='lower left')\n",
    "plt.show()"
   ]
  },
  {
   "cell_type": "code",
   "execution_count": 12,
   "metadata": {},
   "outputs": [],
   "source": [
    "### train Desion tree model and create a function:\n",
    "from sklearn.tree import DecisionTreeClassifier\n",
    "def train_inference_DT(max_depth_):\n",
    "    print(\"train the decision tree model with maxdepth is \" +str(max_depth_))\n",
    "    model = DecisionTreeClassifier(max_depth=max_depth_)\n",
    "    model.fit(X_train, y_train)\n",
    "    test_predictions = model.predict(X_test)\n",
    "    train_predictions = model.predict(X_train)\n",
    "    return np.sum(test_predictions == y_test)/len(y_test), np.sum(train_predictions == y_train)/len(y_train), model"
   ]
  },
  {
   "cell_type": "code",
   "execution_count": 13,
   "metadata": {},
   "outputs": [
    {
     "name": "stdout",
     "output_type": "stream",
     "text": [
      "train the decision tree model with maxdepth is 5\n",
      "train the decision tree model with maxdepth is 8\n",
      "train the decision tree model with maxdepth is 11\n",
      "train the decision tree model with maxdepth is 14\n",
      "train the decision tree model with maxdepth is 17\n",
      "train the decision tree model with maxdepth is 20\n",
      "train the decision tree model with maxdepth is 23\n",
      "train the decision tree model with maxdepth is 26\n",
      "train the decision tree model with maxdepth is 29\n",
      "train the decision tree model with maxdepth is 32\n",
      "train the decision tree model with maxdepth is 35\n",
      "train the decision tree model with maxdepth is 38\n",
      "the testing accuray are: \n",
      "[0.6484788359788359, 0.732473544973545, 0.7711640211640212, 0.8009259259259259, 0.7979497354497355, 0.7933201058201058, 0.7913359788359788, 0.791005291005291, 0.7906746031746031, 0.7933201058201058, 0.7880291005291006, 0.7919973544973545]\n",
      "the training accuray are: \n",
      "[0.6653439153439153, 0.7642195767195767, 0.8540013227513228, 0.9363425925925926, 0.9775132275132276, 0.9928075396825397, 0.9978505291005291, 0.9994212962962963, 0.999917328042328, 1.0, 1.0, 1.0]\n",
      "the best accuracy is : 0.8009259259259259\n"
     ]
    }
   ],
   "source": [
    "test_accuracy = []\n",
    "train_accuracy = []\n",
    "DT_model = None\n",
    "max_acc = 0\n",
    "for num in range(5, 40, 3):\n",
    "    test_acc, train_acc, model = train_inference_DT(num)\n",
    "    if DT_model==None or max_acc < test_acc:\n",
    "        max_acc = test_acc\n",
    "        DT_model = model\n",
    "    test_accuracy.append(test_acc)\n",
    "    train_accuracy.append(train_acc)\n",
    "print(\"the testing accuray are: \")\n",
    "print(test_accuracy)\n",
    "print(\"the training accuray are: \")\n",
    "print(train_accuracy)\n",
    "print(\"the best accuracy is : \" +str(max_acc))"
   ]
  },
  {
   "cell_type": "code",
   "execution_count": 14,
   "metadata": {},
   "outputs": [
    {
     "data": {
      "image/png": "[encoded data removed]",
      "text/plain": [
       "<Figure size 432x288 with 1 Axes>"
      ]
     },
     "metadata": {
      "needs_background": "light"
     },
     "output_type": "display_data"
    }
   ],
   "source": [
    "### draw decision tree result\n",
    "import matplotlib.pyplot as plt\n",
    "plt.plot(range(5, 40, 3), test_accuracy, label='testing accuracy')\n",
    "plt.plot(range(5, 40, 3), train_accuracy, label = 'training accuracy')\n",
    "plt.ylabel(\"the accuracy\")\n",
    "plt.xlabel(\"the number of neigbors in KNN model\")\n",
    "plt.legend(loc='lower left')\n",
    "plt.show()"
   ]
  },
  {
   "cell_type": "code",
   "execution_count": 15,
   "metadata": {},
   "outputs": [],
   "source": [
    "from sklearn.ensemble import RandomForestClassifier\n",
    "# random forest tree model\n",
    "def train_inference_random_forest_tree(n_estimator_, max_depth_):\n",
    "    print(\" the number of tree is \" + str(n_estimator_))\n",
    "    print(\"train the random forest tree model with maxdepth is \" +str(max_depth_))\n",
    "    model = RandomForestClassifier(max_depth=max_depth_)\n",
    "    model.fit(X_train, y_train)\n",
    "    test_predictions = model.predict(X_test)\n",
    "    train_predictions = model.predict(X_train)\n",
    "    return np.sum(test_predictions == y_test)/len(y_test), np.sum(train_predictions == y_train)/len(y_train), model"
   ]
  },
  {
   "cell_type": "code",
   "execution_count": 16,
   "metadata": {},
   "outputs": [
    {
     "name": "stdout",
     "output_type": "stream",
     "text": [
      " the number of tree is 10\n",
      "train the random forest tree model with maxdepth is 5\n"
     ]
    },
    {
     "name": "stderr",
     "output_type": "stream",
     "text": [
      "c:\\users\\lixx3527\\anaconda2\\envs\\pytorch_new\\lib\\site-packages\\sklearn\\ensemble\\forest.py:245: FutureWarning: The default value of n_estimators will change from 10 in version 0.20 to 100 in 0.22.\n",
      "  \"10 in version 0.20 to 100 in 0.22.\", FutureWarning)\n"
     ]
    },
    {
     "name": "stdout",
     "output_type": "stream",
     "text": [
      " the number of tree is 10\n",
      "train the random forest tree model with maxdepth is 8\n"
     ]
    },
    {
     "name": "stderr",
     "output_type": "stream",
     "text": [
      "c:\\users\\lixx3527\\anaconda2\\envs\\pytorch_new\\lib\\site-packages\\sklearn\\ensemble\\forest.py:245: FutureWarning: The default value of n_estimators will change from 10 in version 0.20 to 100 in 0.22.\n",
      "  \"10 in version 0.20 to 100 in 0.22.\", FutureWarning)\n"
     ]
    },
    {
     "name": "stdout",
     "output_type": "stream",
     "text": [
      " the number of tree is 10\n",
      "train the random forest tree model with maxdepth is 11\n"
     ]
    },
    {
     "name": "stderr",
     "output_type": "stream",
     "text": [
      "c:\\users\\lixx3527\\anaconda2\\envs\\pytorch_new\\lib\\site-packages\\sklearn\\ensemble\\forest.py:245: FutureWarning: The default value of n_estimators will change from 10 in version 0.20 to 100 in 0.22.\n",
      "  \"10 in version 0.20 to 100 in 0.22.\", FutureWarning)\n"
     ]
    },
    {
     "name": "stdout",
     "output_type": "stream",
     "text": [
      " the number of tree is 10\n",
      "train the random forest tree model with maxdepth is 14\n"
     ]
    },
    {
     "name": "stderr",
     "output_type": "stream",
     "text": [
      "c:\\users\\lixx3527\\anaconda2\\envs\\pytorch_new\\lib\\site-packages\\sklearn\\ensemble\\forest.py:245: FutureWarning: The default value of n_estimators will change from 10 in version 0.20 to 100 in 0.22.\n",
      "  \"10 in version 0.20 to 100 in 0.22.\", FutureWarning)\n"
     ]
    },
    {
     "name": "stdout",
     "output_type": "stream",
     "text": [
      " the number of tree is 10\n",
      "train the random forest tree model with maxdepth is 17\n"
     ]
    },
    {
     "name": "stderr",
     "output_type": "stream",
     "text": [
      "c:\\users\\lixx3527\\anaconda2\\envs\\pytorch_new\\lib\\site-packages\\sklearn\\ensemble\\forest.py:245: FutureWarning: The default value of n_estimators will change from 10 in version 0.20 to 100 in 0.22.\n",
      "  \"10 in version 0.20 to 100 in 0.22.\", FutureWarning)\n"
     ]
    },
    {
     "name": "stdout",
     "output_type": "stream",
     "text": [
      " the number of tree is 10\n",
      "train the random forest tree model with maxdepth is 20\n"
     ]
    },
    {
     "name": "stderr",
     "output_type": "stream",
     "text": [
      "c:\\users\\lixx3527\\anaconda2\\envs\\pytorch_new\\lib\\site-packages\\sklearn\\ensemble\\forest.py:245: FutureWarning: The default value of n_estimators will change from 10 in version 0.20 to 100 in 0.22.\n",
      "  \"10 in version 0.20 to 100 in 0.22.\", FutureWarning)\n"
     ]
    },
    {
     "name": "stdout",
     "output_type": "stream",
     "text": [
      " the number of tree is 10\n",
      "train the random forest tree model with maxdepth is 23\n"
     ]
    },
    {
     "name": "stderr",
     "output_type": "stream",
     "text": [
      "c:\\users\\lixx3527\\anaconda2\\envs\\pytorch_new\\lib\\site-packages\\sklearn\\ensemble\\forest.py:245: FutureWarning: The default value of n_estimators will change from 10 in version 0.20 to 100 in 0.22.\n",
      "  \"10 in version 0.20 to 100 in 0.22.\", FutureWarning)\n"
     ]
    },
    {
     "name": "stdout",
     "output_type": "stream",
     "text": [
      " the number of tree is 10\n",
      "train the random forest tree model with maxdepth is 26\n"
     ]
    },
    {
     "name": "stderr",
     "output_type": "stream",
     "text": [
      "c:\\users\\lixx3527\\anaconda2\\envs\\pytorch_new\\lib\\site-packages\\sklearn\\ensemble\\forest.py:245: FutureWarning: The default value of n_estimators will change from 10 in version 0.20 to 100 in 0.22.\n",
      "  \"10 in version 0.20 to 100 in 0.22.\", FutureWarning)\n"
     ]
    },
    {
     "name": "stdout",
     "output_type": "stream",
     "text": [
      " the number of tree is 10\n",
      "train the random forest tree model with maxdepth is 29\n"
     ]
    },
    {
     "name": "stderr",
     "output_type": "stream",
     "text": [
      "c:\\users\\lixx3527\\anaconda2\\envs\\pytorch_new\\lib\\site-packages\\sklearn\\ensemble\\forest.py:245: FutureWarning: The default value of n_estimators will change from 10 in version 0.20 to 100 in 0.22.\n",
      "  \"10 in version 0.20 to 100 in 0.22.\", FutureWarning)\n"
     ]
    },
    {
     "name": "stdout",
     "output_type": "stream",
     "text": [
      " the number of tree is 10\n",
      "train the random forest tree model with maxdepth is 32\n"
     ]
    },
    {
     "name": "stderr",
     "output_type": "stream",
     "text": [
      "c:\\users\\lixx3527\\anaconda2\\envs\\pytorch_new\\lib\\site-packages\\sklearn\\ensemble\\forest.py:245: FutureWarning: The default value of n_estimators will change from 10 in version 0.20 to 100 in 0.22.\n",
      "  \"10 in version 0.20 to 100 in 0.22.\", FutureWarning)\n"
     ]
    },
    {
     "name": "stdout",
     "output_type": "stream",
     "text": [
      " the number of tree is 10\n",
      "train the random forest tree model with maxdepth is 35\n"
     ]
    },
    {
     "name": "stderr",
     "output_type": "stream",
     "text": [
      "c:\\users\\lixx3527\\anaconda2\\envs\\pytorch_new\\lib\\site-packages\\sklearn\\ensemble\\forest.py:245: FutureWarning: The default value of n_estimators will change from 10 in version 0.20 to 100 in 0.22.\n",
      "  \"10 in version 0.20 to 100 in 0.22.\", FutureWarning)\n"
     ]
    },
    {
     "name": "stdout",
     "output_type": "stream",
     "text": [
      " the number of tree is 10\n",
      "train the random forest tree model with maxdepth is 38\n"
     ]
    },
    {
     "name": "stderr",
     "output_type": "stream",
     "text": [
      "c:\\users\\lixx3527\\anaconda2\\envs\\pytorch_new\\lib\\site-packages\\sklearn\\ensemble\\forest.py:245: FutureWarning: The default value of n_estimators will change from 10 in version 0.20 to 100 in 0.22.\n",
      "  \"10 in version 0.20 to 100 in 0.22.\", FutureWarning)\n"
     ]
    },
    {
     "name": "stdout",
     "output_type": "stream",
     "text": [
      "the testing accuray are: \n",
      "[0.6888227513227513, 0.7334656084656085, 0.791005291005291, 0.8022486772486772, 0.8287037037037037, 0.8386243386243386, 0.8432539682539683, 0.8478835978835979, 0.8389550264550265, 0.8306878306878307, 0.832010582010582, 0.8452380952380952]\n",
      "the training accuray are: \n",
      "[0.7024636243386243, 0.7734788359788359, 0.8634259259259259, 0.9120370370370371, 0.9608961640211641, 0.9812334656084656, 0.9931382275132276, 0.9928075396825397, 0.9938822751322751, 0.9942956349206349, 0.9935515873015873, 0.9945436507936508]\n",
      "the best accuracy is : 0.8478835978835979\n"
     ]
    }
   ],
   "source": [
    "# train  random FT model and fix n_estimator == 10\n",
    "# thorugh change depth of tree to investigate the accuracy changes\n",
    "\n",
    "test_accuracy = []\n",
    "train_accuracy = []\n",
    "RFT_model = None\n",
    "max_acc = 0\n",
    "for num in range(5, 40, 3):\n",
    "    test_acc, train_acc, model = train_inference_random_forest_tree(10, num)\n",
    "    if RFT_model==None or max_acc < test_acc:\n",
    "        max_acc = test_acc\n",
    "        RFT_model = model\n",
    "    test_accuracy.append(test_acc)\n",
    "    train_accuracy.append(train_acc)\n",
    "print(\"the testing accuray are: \")\n",
    "print(test_accuracy)\n",
    "print(\"the training accuray are: \")\n",
    "print(train_accuracy)\n",
    "print(\"the best accuracy is : \" +str(max_acc))"
   ]
  },
  {
   "cell_type": "code",
   "execution_count": 17,
   "metadata": {},
   "outputs": [
    {
     "data": {
      "image/png": "[encoded data removed]",
      "text/plain": [
       "<Figure size 432x288 with 1 Axes>"
      ]
     },
     "metadata": {
      "needs_background": "light"
     },
     "output_type": "display_data"
    }
   ],
   "source": [
    "# draw random forest tree result, when we have 10 different tree\n",
    "import matplotlib.pyplot as plt\n",
    "plt.plot(range(5, 40, 3), test_accuracy, label='testing accuracy')\n",
    "plt.plot(range(5, 40, 3), train_accuracy, label = 'training accuracy')\n",
    "plt.ylabel(\"the accuracy\")\n",
    "plt.xlabel(\"the number of neigbors in KNN model\")\n",
    "plt.legend(loc='lower left')\n",
    "plt.show()"
   ]
  },
  {
   "cell_type": "code",
   "execution_count": 18,
   "metadata": {},
   "outputs": [
    {
     "name": "stdout",
     "output_type": "stream",
     "text": [
      " the number of tree is 30\n",
      "train the random forest tree model with maxdepth is 5\n"
     ]
    },
    {
     "name": "stderr",
     "output_type": "stream",
     "text": [
      "c:\\users\\lixx3527\\anaconda2\\envs\\pytorch_new\\lib\\site-packages\\sklearn\\ensemble\\forest.py:245: FutureWarning: The default value of n_estimators will change from 10 in version 0.20 to 100 in 0.22.\n",
      "  \"10 in version 0.20 to 100 in 0.22.\", FutureWarning)\n"
     ]
    },
    {
     "name": "stdout",
     "output_type": "stream",
     "text": [
      " the number of tree is 30\n",
      "train the random forest tree model with maxdepth is 8\n"
     ]
    },
    {
     "name": "stderr",
     "output_type": "stream",
     "text": [
      "c:\\users\\lixx3527\\anaconda2\\envs\\pytorch_new\\lib\\site-packages\\sklearn\\ensemble\\forest.py:245: FutureWarning: The default value of n_estimators will change from 10 in version 0.20 to 100 in 0.22.\n",
      "  \"10 in version 0.20 to 100 in 0.22.\", FutureWarning)\n"
     ]
    },
    {
     "name": "stdout",
     "output_type": "stream",
     "text": [
      " the number of tree is 30\n",
      "train the random forest tree model with maxdepth is 11\n"
     ]
    },
    {
     "name": "stderr",
     "output_type": "stream",
     "text": [
      "c:\\users\\lixx3527\\anaconda2\\envs\\pytorch_new\\lib\\site-packages\\sklearn\\ensemble\\forest.py:245: FutureWarning: The default value of n_estimators will change from 10 in version 0.20 to 100 in 0.22.\n",
      "  \"10 in version 0.20 to 100 in 0.22.\", FutureWarning)\n"
     ]
    },
    {
     "name": "stdout",
     "output_type": "stream",
     "text": [
      " the number of tree is 30\n",
      "train the random forest tree model with maxdepth is 14\n"
     ]
    },
    {
     "name": "stderr",
     "output_type": "stream",
     "text": [
      "c:\\users\\lixx3527\\anaconda2\\envs\\pytorch_new\\lib\\site-packages\\sklearn\\ensemble\\forest.py:245: FutureWarning: The default value of n_estimators will change from 10 in version 0.20 to 100 in 0.22.\n",
      "  \"10 in version 0.20 to 100 in 0.22.\", FutureWarning)\n"
     ]
    },
    {
     "name": "stdout",
     "output_type": "stream",
     "text": [
      " the number of tree is 30\n",
      "train the random forest tree model with maxdepth is 17\n"
     ]
    },
    {
     "name": "stderr",
     "output_type": "stream",
     "text": [
      "c:\\users\\lixx3527\\anaconda2\\envs\\pytorch_new\\lib\\site-packages\\sklearn\\ensemble\\forest.py:245: FutureWarning: The default value of n_estimators will change from 10 in version 0.20 to 100 in 0.22.\n",
      "  \"10 in version 0.20 to 100 in 0.22.\", FutureWarning)\n"
     ]
    },
    {
     "name": "stdout",
     "output_type": "stream",
     "text": [
      " the number of tree is 30\n",
      "train the random forest tree model with maxdepth is 20\n"
     ]
    },
    {
     "name": "stderr",
     "output_type": "stream",
     "text": [
      "c:\\users\\lixx3527\\anaconda2\\envs\\pytorch_new\\lib\\site-packages\\sklearn\\ensemble\\forest.py:245: FutureWarning: The default value of n_estimators will change from 10 in version 0.20 to 100 in 0.22.\n",
      "  \"10 in version 0.20 to 100 in 0.22.\", FutureWarning)\n"
     ]
    },
    {
     "name": "stdout",
     "output_type": "stream",
     "text": [
      " the number of tree is 30\n",
      "train the random forest tree model with maxdepth is 23\n"
     ]
    },
    {
     "name": "stderr",
     "output_type": "stream",
     "text": [
      "c:\\users\\lixx3527\\anaconda2\\envs\\pytorch_new\\lib\\site-packages\\sklearn\\ensemble\\forest.py:245: FutureWarning: The default value of n_estimators will change from 10 in version 0.20 to 100 in 0.22.\n",
      "  \"10 in version 0.20 to 100 in 0.22.\", FutureWarning)\n"
     ]
    },
    {
     "name": "stdout",
     "output_type": "stream",
     "text": [
      " the number of tree is 30\n",
      "train the random forest tree model with maxdepth is 26\n"
     ]
    },
    {
     "name": "stderr",
     "output_type": "stream",
     "text": [
      "c:\\users\\lixx3527\\anaconda2\\envs\\pytorch_new\\lib\\site-packages\\sklearn\\ensemble\\forest.py:245: FutureWarning: The default value of n_estimators will change from 10 in version 0.20 to 100 in 0.22.\n",
      "  \"10 in version 0.20 to 100 in 0.22.\", FutureWarning)\n"
     ]
    },
    {
     "name": "stdout",
     "output_type": "stream",
     "text": [
      " the number of tree is 30\n",
      "train the random forest tree model with maxdepth is 29\n"
     ]
    },
    {
     "name": "stderr",
     "output_type": "stream",
     "text": [
      "c:\\users\\lixx3527\\anaconda2\\envs\\pytorch_new\\lib\\site-packages\\sklearn\\ensemble\\forest.py:245: FutureWarning: The default value of n_estimators will change from 10 in version 0.20 to 100 in 0.22.\n",
      "  \"10 in version 0.20 to 100 in 0.22.\", FutureWarning)\n"
     ]
    },
    {
     "name": "stdout",
     "output_type": "stream",
     "text": [
      " the number of tree is 30\n",
      "train the random forest tree model with maxdepth is 32\n"
     ]
    },
    {
     "name": "stderr",
     "output_type": "stream",
     "text": [
      "c:\\users\\lixx3527\\anaconda2\\envs\\pytorch_new\\lib\\site-packages\\sklearn\\ensemble\\forest.py:245: FutureWarning: The default value of n_estimators will change from 10 in version 0.20 to 100 in 0.22.\n",
      "  \"10 in version 0.20 to 100 in 0.22.\", FutureWarning)\n"
     ]
    },
    {
     "name": "stdout",
     "output_type": "stream",
     "text": [
      " the number of tree is 30\n",
      "train the random forest tree model with maxdepth is 35\n"
     ]
    },
    {
     "name": "stderr",
     "output_type": "stream",
     "text": [
      "c:\\users\\lixx3527\\anaconda2\\envs\\pytorch_new\\lib\\site-packages\\sklearn\\ensemble\\forest.py:245: FutureWarning: The default value of n_estimators will change from 10 in version 0.20 to 100 in 0.22.\n",
      "  \"10 in version 0.20 to 100 in 0.22.\", FutureWarning)\n"
     ]
    },
    {
     "name": "stdout",
     "output_type": "stream",
     "text": [
      " the number of tree is 30\n",
      "train the random forest tree model with maxdepth is 38\n"
     ]
    },
    {
     "name": "stderr",
     "output_type": "stream",
     "text": [
      "c:\\users\\lixx3527\\anaconda2\\envs\\pytorch_new\\lib\\site-packages\\sklearn\\ensemble\\forest.py:245: FutureWarning: The default value of n_estimators will change from 10 in version 0.20 to 100 in 0.22.\n",
      "  \"10 in version 0.20 to 100 in 0.22.\", FutureWarning)\n"
     ]
    },
    {
     "name": "stdout",
     "output_type": "stream",
     "text": [
      "the testing accuray are: \n",
      "[0.6636904761904762, 0.7314814814814815, 0.7748015873015873, 0.814484126984127, 0.8379629629629629, 0.8373015873015873, 0.8310185185185185, 0.8382936507936508, 0.8409391534391535, 0.8359788359788359, 0.8402777777777778, 0.8293650793650794]\n",
      "the training accuray are: \n",
      "[0.6887400793650794, 0.7715773809523809, 0.8510251322751323, 0.9250992063492064, 0.9691633597883598, 0.9837136243386243, 0.9917328042328042, 0.9932208994708994, 0.9942956349206349, 0.9947089947089947, 0.9947089947089947, 0.9932208994708994]\n",
      "the best accuracy is : 0.8409391534391535\n"
     ]
    }
   ],
   "source": [
    "# set the number of ramdom forest tree as 30, and re_train the ramdom foreste tree model\n",
    "test_accuracy = []\n",
    "train_accuracy = []\n",
    "RFT_model = None\n",
    "max_acc = 0\n",
    "for num in range(5, 40, 3):\n",
    "    test_acc, train_acc, model = train_inference_random_forest_tree(30, num)\n",
    "    if RFT_model==None or max_acc < test_acc:\n",
    "        max_acc = test_acc\n",
    "        RFT_model = model\n",
    "    test_accuracy.append(test_acc)\n",
    "    train_accuracy.append(train_acc)\n",
    "print(\"the testing accuray are: \")\n",
    "print(test_accuracy)\n",
    "print(\"the training accuray are: \")\n",
    "print(train_accuracy)\n",
    "print(\"the best accuracy is : \" +str(max_acc))"
   ]
  },
  {
   "cell_type": "code",
   "execution_count": 19,
   "metadata": {},
   "outputs": [
    {
     "data": {
      "image/png": "[encoded data removed]",
      "text/plain": [
       "<Figure size 432x288 with 1 Axes>"
      ]
     },
     "metadata": {
      "needs_background": "light"
     },
     "output_type": "display_data"
    }
   ],
   "source": [
    "import matplotlib.pyplot as plt\n",
    "plt.plot(range(5, 40, 3), test_accuracy, label='testing accuracy')\n",
    "plt.plot(range(5, 40, 3), train_accuracy, label = 'training accuracy')\n",
    "plt.ylabel(\"the accuracy\")\n",
    "plt.xlabel(\"the number of neigbors in KNN model\")\n",
    "plt.legend(loc='lower left')\n",
    "plt.show()"
   ]
  },
  {
   "cell_type": "code",
   "execution_count": 20,
   "metadata": {},
   "outputs": [
    {
     "name": "stdout",
     "output_type": "stream",
     "text": [
      " the number of tree is 100\n",
      "train the random forest tree model with maxdepth is 5\n"
     ]
    },
    {
     "name": "stderr",
     "output_type": "stream",
     "text": [
      "c:\\users\\lixx3527\\anaconda2\\envs\\pytorch_new\\lib\\site-packages\\sklearn\\ensemble\\forest.py:245: FutureWarning: The default value of n_estimators will change from 10 in version 0.20 to 100 in 0.22.\n",
      "  \"10 in version 0.20 to 100 in 0.22.\", FutureWarning)\n"
     ]
    },
    {
     "name": "stdout",
     "output_type": "stream",
     "text": [
      " the number of tree is 100\n",
      "train the random forest tree model with maxdepth is 8\n"
     ]
    },
    {
     "name": "stderr",
     "output_type": "stream",
     "text": [
      "c:\\users\\lixx3527\\anaconda2\\envs\\pytorch_new\\lib\\site-packages\\sklearn\\ensemble\\forest.py:245: FutureWarning: The default value of n_estimators will change from 10 in version 0.20 to 100 in 0.22.\n",
      "  \"10 in version 0.20 to 100 in 0.22.\", FutureWarning)\n"
     ]
    },
    {
     "name": "stdout",
     "output_type": "stream",
     "text": [
      " the number of tree is 100\n",
      "train the random forest tree model with maxdepth is 11\n"
     ]
    },
    {
     "name": "stderr",
     "output_type": "stream",
     "text": [
      "c:\\users\\lixx3527\\anaconda2\\envs\\pytorch_new\\lib\\site-packages\\sklearn\\ensemble\\forest.py:245: FutureWarning: The default value of n_estimators will change from 10 in version 0.20 to 100 in 0.22.\n",
      "  \"10 in version 0.20 to 100 in 0.22.\", FutureWarning)\n"
     ]
    },
    {
     "name": "stdout",
     "output_type": "stream",
     "text": [
      " the number of tree is 100\n",
      "train the random forest tree model with maxdepth is 14\n"
     ]
    },
    {
     "name": "stderr",
     "output_type": "stream",
     "text": [
      "c:\\users\\lixx3527\\anaconda2\\envs\\pytorch_new\\lib\\site-packages\\sklearn\\ensemble\\forest.py:245: FutureWarning: The default value of n_estimators will change from 10 in version 0.20 to 100 in 0.22.\n",
      "  \"10 in version 0.20 to 100 in 0.22.\", FutureWarning)\n"
     ]
    },
    {
     "name": "stdout",
     "output_type": "stream",
     "text": [
      " the number of tree is 100\n",
      "train the random forest tree model with maxdepth is 17\n"
     ]
    },
    {
     "name": "stderr",
     "output_type": "stream",
     "text": [
      "c:\\users\\lixx3527\\anaconda2\\envs\\pytorch_new\\lib\\site-packages\\sklearn\\ensemble\\forest.py:245: FutureWarning: The default value of n_estimators will change from 10 in version 0.20 to 100 in 0.22.\n",
      "  \"10 in version 0.20 to 100 in 0.22.\", FutureWarning)\n"
     ]
    },
    {
     "name": "stdout",
     "output_type": "stream",
     "text": [
      " the number of tree is 100\n",
      "train the random forest tree model with maxdepth is 20\n"
     ]
    },
    {
     "name": "stderr",
     "output_type": "stream",
     "text": [
      "c:\\users\\lixx3527\\anaconda2\\envs\\pytorch_new\\lib\\site-packages\\sklearn\\ensemble\\forest.py:245: FutureWarning: The default value of n_estimators will change from 10 in version 0.20 to 100 in 0.22.\n",
      "  \"10 in version 0.20 to 100 in 0.22.\", FutureWarning)\n"
     ]
    },
    {
     "name": "stdout",
     "output_type": "stream",
     "text": [
      " the number of tree is 100\n",
      "train the random forest tree model with maxdepth is 23\n"
     ]
    },
    {
     "name": "stderr",
     "output_type": "stream",
     "text": [
      "c:\\users\\lixx3527\\anaconda2\\envs\\pytorch_new\\lib\\site-packages\\sklearn\\ensemble\\forest.py:245: FutureWarning: The default value of n_estimators will change from 10 in version 0.20 to 100 in 0.22.\n",
      "  \"10 in version 0.20 to 100 in 0.22.\", FutureWarning)\n"
     ]
    },
    {
     "name": "stdout",
     "output_type": "stream",
     "text": [
      " the number of tree is 100\n",
      "train the random forest tree model with maxdepth is 26\n"
     ]
    },
    {
     "name": "stderr",
     "output_type": "stream",
     "text": [
      "c:\\users\\lixx3527\\anaconda2\\envs\\pytorch_new\\lib\\site-packages\\sklearn\\ensemble\\forest.py:245: FutureWarning: The default value of n_estimators will change from 10 in version 0.20 to 100 in 0.22.\n",
      "  \"10 in version 0.20 to 100 in 0.22.\", FutureWarning)\n"
     ]
    },
    {
     "name": "stdout",
     "output_type": "stream",
     "text": [
      " the number of tree is 100\n",
      "train the random forest tree model with maxdepth is 29\n"
     ]
    },
    {
     "name": "stderr",
     "output_type": "stream",
     "text": [
      "c:\\users\\lixx3527\\anaconda2\\envs\\pytorch_new\\lib\\site-packages\\sklearn\\ensemble\\forest.py:245: FutureWarning: The default value of n_estimators will change from 10 in version 0.20 to 100 in 0.22.\n",
      "  \"10 in version 0.20 to 100 in 0.22.\", FutureWarning)\n"
     ]
    },
    {
     "name": "stdout",
     "output_type": "stream",
     "text": [
      " the number of tree is 100\n",
      "train the random forest tree model with maxdepth is 32\n"
     ]
    },
    {
     "name": "stderr",
     "output_type": "stream",
     "text": [
      "c:\\users\\lixx3527\\anaconda2\\envs\\pytorch_new\\lib\\site-packages\\sklearn\\ensemble\\forest.py:245: FutureWarning: The default value of n_estimators will change from 10 in version 0.20 to 100 in 0.22.\n",
      "  \"10 in version 0.20 to 100 in 0.22.\", FutureWarning)\n"
     ]
    },
    {
     "name": "stdout",
     "output_type": "stream",
     "text": [
      " the number of tree is 100\n",
      "train the random forest tree model with maxdepth is 35\n"
     ]
    },
    {
     "name": "stderr",
     "output_type": "stream",
     "text": [
      "c:\\users\\lixx3527\\anaconda2\\envs\\pytorch_new\\lib\\site-packages\\sklearn\\ensemble\\forest.py:245: FutureWarning: The default value of n_estimators will change from 10 in version 0.20 to 100 in 0.22.\n",
      "  \"10 in version 0.20 to 100 in 0.22.\", FutureWarning)\n"
     ]
    },
    {
     "name": "stdout",
     "output_type": "stream",
     "text": [
      " the number of tree is 100\n",
      "train the random forest tree model with maxdepth is 38\n"
     ]
    },
    {
     "name": "stderr",
     "output_type": "stream",
     "text": [
      "c:\\users\\lixx3527\\anaconda2\\envs\\pytorch_new\\lib\\site-packages\\sklearn\\ensemble\\forest.py:245: FutureWarning: The default value of n_estimators will change from 10 in version 0.20 to 100 in 0.22.\n",
      "  \"10 in version 0.20 to 100 in 0.22.\", FutureWarning)\n"
     ]
    },
    {
     "name": "stdout",
     "output_type": "stream",
     "text": [
      "the testing accuray are: \n",
      "[0.6653439153439153, 0.7265211640211641, 0.783068783068783, 0.8177910052910053, 0.8313492063492064, 0.8429232804232805, 0.8382936507936508, 0.8376322751322751, 0.8346560846560847, 0.8369708994708994, 0.8363095238095238, 0.8313492063492064]\n",
      "the training accuray are: \n",
      "[0.6822916666666666, 0.7578538359788359, 0.845734126984127, 0.9280753968253969, 0.9641203703703703, 0.9853670634920635, 0.9917328042328042, 0.9936342592592593, 0.9947916666666666, 0.9940476190476191, 0.9947089947089947, 0.9937169312169312]\n",
      "the best accuracy is : 0.8429232804232805\n"
     ]
    },
    {
     "data": {
      "image/png": "[encoded data removed]",
      "text/plain": [
       "<Figure size 432x288 with 1 Axes>"
      ]
     },
     "metadata": {
      "needs_background": "light"
     },
     "output_type": "display_data"
    }
   ],
   "source": [
    "# set the number of ramdom forest tree as 100, and re_train the ramdom foreste tree model\n",
    "test_accuracy = []\n",
    "train_accuracy = []\n",
    "RFT_model = None\n",
    "max_acc = 0\n",
    "for num in range(5, 40, 3):\n",
    "    test_acc, train_acc, model = train_inference_random_forest_tree(100, num)\n",
    "    if RFT_model==None or max_acc < test_acc:\n",
    "        max_acc = test_acc\n",
    "        RFT_model = model\n",
    "    test_accuracy.append(test_acc)\n",
    "    train_accuracy.append(train_acc)\n",
    "print(\"the testing accuray are: \")\n",
    "print(test_accuracy)\n",
    "print(\"the training accuray are: \")\n",
    "print(train_accuracy)\n",
    "print(\"the best accuracy is : \" +str(max_acc))\n",
    "\n",
    "\n",
    "# draw the training and test result\n",
    "plt.plot(range(5, 40, 3), test_accuracy, label='testing accuracy')\n",
    "plt.plot(range(5, 40, 3), train_accuracy, label = 'training accuracy')\n",
    "plt.ylabel(\"the accuracy\")\n",
    "plt.xlabel(\"the number of neigbors in KNN model\")\n",
    "plt.legend(loc='lower left')\n",
    "plt.show()"
   ]
  },
  {
   "cell_type": "markdown",
   "metadata": {},
   "source": [
    "### now we are going to use gradient boosting tree to improve the result, and hopefully we can get better results!\n"
   ]
  },
  {
   "cell_type": "code",
   "execution_count": 21,
   "metadata": {},
   "outputs": [],
   "source": [
    "def train_inference_GDBT(n_estimator_, max_depth_):\n",
    "    print(\" the number of tree is \" + str(n_estimator_))\n",
    "    print(\"train the GDBT tree model with maxdepth is \" +str(max_depth_))\n",
    "    model = GradientBoostingClassifier(max_depth=max_depth_, n_estimators = n_estimator_)\n",
    "    model.fit(X_train, y_train)\n",
    "    test_predictions = model.predict(X_test)\n",
    "    train_predictions = model.predict(X_train)\n",
    "    return np.sum(test_predictions == y_test)/len(y_test), np.sum(train_predictions == y_train)/len(y_train), model\n"
   ]
  },
  {
   "cell_type": "code",
   "execution_count": 22,
   "metadata": {},
   "outputs": [
    {
     "name": "stdout",
     "output_type": "stream",
     "text": [
      " the number of tree is 30\n",
      "train the GDBT tree model with maxdepth is 5\n",
      " the number of tree is 30\n",
      "train the GDBT tree model with maxdepth is 8\n",
      " the number of tree is 30\n",
      "train the GDBT tree model with maxdepth is 11\n",
      " the number of tree is 30\n",
      "train the GDBT tree model with maxdepth is 14\n",
      " the number of tree is 30\n",
      "train the GDBT tree model with maxdepth is 17\n",
      " the number of tree is 30\n",
      "train the GDBT tree model with maxdepth is 20\n",
      " the number of tree is 30\n",
      "train the GDBT tree model with maxdepth is 23\n",
      " the number of tree is 30\n",
      "train the GDBT tree model with maxdepth is 26\n",
      " the number of tree is 30\n",
      "train the GDBT tree model with maxdepth is 29\n",
      " the number of tree is 30\n",
      "train the GDBT tree model with maxdepth is 32\n",
      " the number of tree is 30\n",
      "train the GDBT tree model with maxdepth is 35\n",
      " the number of tree is 30\n",
      "train the GDBT tree model with maxdepth is 38\n",
      "the testing accuray are: \n",
      "[0.8005952380952381, 0.8505291005291006, 0.857473544973545, 0.8541666666666666, 0.8416005291005291, 0.8359788359788359, 0.816468253968254, 0.8101851851851852, 0.8012566137566137, 0.8002645502645502, 0.796957671957672, 0.7962962962962963]\n",
      "the training accuracy are: \n",
      "[0.8509424603174603, 0.9633763227513228, 0.9993386243386243, 1.0, 1.0, 1.0, 1.0, 1.0, 1.0, 1.0, 1.0, 1.0]\n",
      "the best accuracy is : 0.857473544973545\n"
     ]
    },
    {
     "data": {
      "image/png": "[encoded data removed]",
      "text/plain": [
       "<Figure size 432x288 with 1 Axes>"
      ]
     },
     "metadata": {
      "needs_background": "light"
     },
     "output_type": "display_data"
    }
   ],
   "source": [
    "test_accuracy = []\n",
    "train_accuracy = []\n",
    "GDBT_model = None\n",
    "max_acc = 0\n",
    "for num in range(5, 40, 3):\n",
    "    test_acc, train_acc, model = train_inference_GDBT(30, num)\n",
    "    if GDBT_model==None or max_acc < test_acc:\n",
    "        max_acc = test_acc\n",
    "        GDBT_model = model\n",
    "    test_accuracy.append(test_acc)\n",
    "    train_accuracy.append(train_acc)\n",
    "print(\"the testing accuray are: \")\n",
    "print(test_accuracy)\n",
    "print(\"the training accuracy are: \")\n",
    "print(train_accuracy)\n",
    "print(\"the best accuracy is : \" + str(max_acc))\n",
    "\n",
    "# draw the training and test result\n",
    "plt.plot(range(5, 40, 3), test_accuracy, label='testing accuracy')\n",
    "plt.plot(range(5, 40, 3), train_accuracy, label = 'training accuracy')\n",
    "plt.ylabel(\"the accuracy\")\n",
    "plt.xlabel(\"the number of neigbors in KNN model\")\n",
    "plt.legend(loc='lower left')\n",
    "plt.show()"
   ]
  },
  {
   "cell_type": "markdown",
   "metadata": {},
   "source": [
    "### Thus, the best model is gradient booting tree, which can acheive testing accuray as 0.85. However, the testing accuracy is a little low ,and it could be likely that we didn't do data preprecessing, Let's try PCA  method to work on cleaning data, and get the most important features of them."
   ]
  },
  {
   "cell_type": "code",
   "execution_count": 30,
   "metadata": {},
   "outputs": [],
   "source": [
    "from sklearn.preprocessing import StandardScaler\n",
    "columns = []\n",
    "for name in train.columns:\n",
    "    columns.append(name)\n",
    "\n",
    "# use PCA to preprocess data, firtly try 25 components \n",
    "from sklearn.decomposition import PCA\n",
    "X = train.loc[:,columns].values\n",
    "X = StandardScaler().fit_transform(X)\n",
    "pca = PCA(n_components=25)\n",
    "principalComponents = pca.fit_transform(X)\n",
    "principalDf = pd.DataFrame(data = principalComponents)"
   ]
  },
  {
   "cell_type": "code",
   "execution_count": 31,
   "metadata": {},
   "outputs": [
    {
     "data": {
      "text/html": [
       "<div>\n",
       "<style scoped>\n",
       "    .dataframe tbody tr th:only-of-type {\n",
       "        vertical-align: middle;\n",
       "    }\n",
       "\n",
       "    .dataframe tbody tr th {\n",
       "        vertical-align: top;\n",
       "    }\n",
       "\n",
       "    .dataframe thead th {\n",
       "        text-align: right;\n",
       "    }\n",
       "</style>\n",
       "<table border=\"1\" class=\"dataframe\">\n",
       "  <thead>\n",
       "    <tr style=\"text-align: right;\">\n",
       "      <th></th>\n",
       "      <th>0</th>\n",
       "      <th>1</th>\n",
       "      <th>2</th>\n",
       "      <th>3</th>\n",
       "      <th>4</th>\n",
       "      <th>5</th>\n",
       "      <th>6</th>\n",
       "      <th>7</th>\n",
       "      <th>8</th>\n",
       "      <th>9</th>\n",
       "      <th>...</th>\n",
       "      <th>15</th>\n",
       "      <th>16</th>\n",
       "      <th>17</th>\n",
       "      <th>18</th>\n",
       "      <th>19</th>\n",
       "      <th>20</th>\n",
       "      <th>21</th>\n",
       "      <th>22</th>\n",
       "      <th>23</th>\n",
       "      <th>24</th>\n",
       "    </tr>\n",
       "  </thead>\n",
       "  <tbody>\n",
       "    <tr>\n",
       "      <td>0</td>\n",
       "      <td>-2.377785</td>\n",
       "      <td>2.095240</td>\n",
       "      <td>-2.621965</td>\n",
       "      <td>0.871058</td>\n",
       "      <td>0.215563</td>\n",
       "      <td>-1.348762</td>\n",
       "      <td>0.523453</td>\n",
       "      <td>-0.622240</td>\n",
       "      <td>0.961429</td>\n",
       "      <td>0.090019</td>\n",
       "      <td>...</td>\n",
       "      <td>0.023174</td>\n",
       "      <td>0.609071</td>\n",
       "      <td>-0.338995</td>\n",
       "      <td>-0.191618</td>\n",
       "      <td>0.242129</td>\n",
       "      <td>0.049145</td>\n",
       "      <td>0.311306</td>\n",
       "      <td>0.101217</td>\n",
       "      <td>-0.309086</td>\n",
       "      <td>0.087330</td>\n",
       "    </tr>\n",
       "    <tr>\n",
       "      <td>1</td>\n",
       "      <td>-2.348907</td>\n",
       "      <td>1.998739</td>\n",
       "      <td>-2.818304</td>\n",
       "      <td>0.752017</td>\n",
       "      <td>0.188752</td>\n",
       "      <td>-1.295328</td>\n",
       "      <td>0.512601</td>\n",
       "      <td>-0.584567</td>\n",
       "      <td>0.957282</td>\n",
       "      <td>0.090742</td>\n",
       "      <td>...</td>\n",
       "      <td>0.026948</td>\n",
       "      <td>0.610259</td>\n",
       "      <td>-0.337779</td>\n",
       "      <td>-0.195382</td>\n",
       "      <td>0.249574</td>\n",
       "      <td>0.059523</td>\n",
       "      <td>0.309942</td>\n",
       "      <td>0.099116</td>\n",
       "      <td>-0.316355</td>\n",
       "      <td>0.089454</td>\n",
       "    </tr>\n",
       "    <tr>\n",
       "      <td>2</td>\n",
       "      <td>-3.169421</td>\n",
       "      <td>1.956017</td>\n",
       "      <td>-2.274070</td>\n",
       "      <td>1.210627</td>\n",
       "      <td>1.108836</td>\n",
       "      <td>-1.933267</td>\n",
       "      <td>1.568671</td>\n",
       "      <td>-1.292424</td>\n",
       "      <td>3.547407</td>\n",
       "      <td>0.096700</td>\n",
       "      <td>...</td>\n",
       "      <td>0.053239</td>\n",
       "      <td>-2.132350</td>\n",
       "      <td>1.053830</td>\n",
       "      <td>0.575465</td>\n",
       "      <td>-1.155795</td>\n",
       "      <td>-0.679331</td>\n",
       "      <td>-3.530743</td>\n",
       "      <td>-1.588272</td>\n",
       "      <td>0.749184</td>\n",
       "      <td>-0.763220</td>\n",
       "    </tr>\n",
       "    <tr>\n",
       "      <td>3</td>\n",
       "      <td>-2.378850</td>\n",
       "      <td>2.677587</td>\n",
       "      <td>-0.823951</td>\n",
       "      <td>1.708292</td>\n",
       "      <td>-0.066088</td>\n",
       "      <td>-0.923016</td>\n",
       "      <td>0.611298</td>\n",
       "      <td>2.474694</td>\n",
       "      <td>0.466613</td>\n",
       "      <td>-0.154285</td>\n",
       "      <td>...</td>\n",
       "      <td>-0.728321</td>\n",
       "      <td>0.191290</td>\n",
       "      <td>0.103565</td>\n",
       "      <td>-0.086528</td>\n",
       "      <td>0.010277</td>\n",
       "      <td>-0.010847</td>\n",
       "      <td>0.400415</td>\n",
       "      <td>-0.338084</td>\n",
       "      <td>0.285717</td>\n",
       "      <td>-0.429015</td>\n",
       "    </tr>\n",
       "    <tr>\n",
       "      <td>4</td>\n",
       "      <td>-2.274846</td>\n",
       "      <td>2.070305</td>\n",
       "      <td>-2.851902</td>\n",
       "      <td>0.699178</td>\n",
       "      <td>0.117866</td>\n",
       "      <td>-1.241284</td>\n",
       "      <td>0.508233</td>\n",
       "      <td>-0.598172</td>\n",
       "      <td>0.951198</td>\n",
       "      <td>0.077235</td>\n",
       "      <td>...</td>\n",
       "      <td>0.033100</td>\n",
       "      <td>0.622561</td>\n",
       "      <td>-0.339572</td>\n",
       "      <td>-0.193214</td>\n",
       "      <td>0.235251</td>\n",
       "      <td>0.063993</td>\n",
       "      <td>0.313889</td>\n",
       "      <td>0.096665</td>\n",
       "      <td>-0.318308</td>\n",
       "      <td>0.089180</td>\n",
       "    </tr>\n",
       "  </tbody>\n",
       "</table>\n",
       "<p>5 rows × 25 columns</p>\n",
       "</div>"
      ],
      "text/plain": [
       "         0         1         2         3         4         5         6   \\\n",
       "0 -2.377785  2.095240 -2.621965  0.871058  0.215563 -1.348762  0.523453   \n",
       "1 -2.348907  1.998739 -2.818304  0.752017  0.188752 -1.295328  0.512601   \n",
       "2 -3.169421  1.956017 -2.274070  1.210627  1.108836 -1.933267  1.568671   \n",
       "3 -2.378850  2.677587 -0.823951  1.708292 -0.066088 -0.923016  0.611298   \n",
       "4 -2.274846  2.070305 -2.851902  0.699178  0.117866 -1.241284  0.508233   \n",
       "\n",
       "         7         8         9   ...        15        16        17        18  \\\n",
       "0 -0.622240  0.961429  0.090019  ...  0.023174  0.609071 -0.338995 -0.191618   \n",
       "1 -0.584567  0.957282  0.090742  ...  0.026948  0.610259 -0.337779 -0.195382   \n",
       "2 -1.292424  3.547407  0.096700  ...  0.053239 -2.132350  1.053830  0.575465   \n",
       "3  2.474694  0.466613 -0.154285  ... -0.728321  0.191290  0.103565 -0.086528   \n",
       "4 -0.598172  0.951198  0.077235  ...  0.033100  0.622561 -0.339572 -0.193214   \n",
       "\n",
       "         19        20        21        22        23        24  \n",
       "0  0.242129  0.049145  0.311306  0.101217 -0.309086  0.087330  \n",
       "1  0.249574  0.059523  0.309942  0.099116 -0.316355  0.089454  \n",
       "2 -1.155795 -0.679331 -3.530743 -1.588272  0.749184 -0.763220  \n",
       "3  0.010277 -0.010847  0.400415 -0.338084  0.285717 -0.429015  \n",
       "4  0.235251  0.063993  0.313889  0.096665 -0.318308  0.089180  \n",
       "\n",
       "[5 rows x 25 columns]"
      ]
     },
     "execution_count": 31,
     "metadata": {},
     "output_type": "execute_result"
    }
   ],
   "source": [
    "principalDf.head()"
   ]
  },
  {
   "cell_type": "code",
   "execution_count": 32,
   "metadata": {},
   "outputs": [
    {
     "name": "stdout",
     "output_type": "stream",
     "text": [
      " the number of total pricipalDf is 15120\n"
     ]
    }
   ],
   "source": [
    "print(\" the number of total pricipalDf is \" + str(len(principalDf)))"
   ]
  },
  {
   "cell_type": "code",
   "execution_count": 33,
   "metadata": {},
   "outputs": [],
   "source": [
    "X_train, X_test, y_train, y_test = train_test_split(principalDf, train_labels, test_size=0.2, random_state=42, \\\n",
    "                                                    shuffle = True)"
   ]
  },
  {
   "cell_type": "code",
   "execution_count": 35,
   "metadata": {},
   "outputs": [
    {
     "name": "stdout",
     "output_type": "stream",
     "text": [
      "training KNN model ...\n",
      "the number of neig is: 3\n",
      "training KNN model ...\n",
      "the number of neig is: 5\n",
      "training KNN model ...\n",
      "the number of neig is: 7\n",
      "training KNN model ...\n",
      "the number of neig is: 9\n",
      "training KNN model ...\n",
      "the number of neig is: 11\n",
      "training KNN model ...\n",
      "the number of neig is: 13\n",
      "training KNN model ...\n",
      "the number of neig is: 15\n",
      "training KNN model ...\n",
      "the number of neig is: 17\n",
      "the test accuracies are: \n",
      "[0.7628968253968254, 0.7533068783068783, 0.751984126984127, 0.7423941798941799, 0.7374338624338624, 0.7314814814814815, 0.7268518518518519, 0.7235449735449735]\n",
      "the training accraucy are : \n",
      "[0.8753306878306878, 0.8354828042328042, 0.8088624338624338, 0.7978670634920635, 0.781332671957672, 0.7719080687830688, 0.7651289682539683, 0.7576058201058201]\n",
      "the best accuracy is : 0.7628968253968254\n"
     ]
    }
   ],
   "source": [
    "test_accuracy = []\n",
    "train_accuracy = []\n",
    "max_acc = 0\n",
    "KNN_model = None\n",
    "for num in range(3, 19, 2):\n",
    "    test_acc, train_acc, model = train_inference_KNN(num)\n",
    "    if KNN_model == None or max_acc < test_acc:\n",
    "        max_acc = test_acc\n",
    "        KNN_model = model\n",
    "    test_accuracy.append(test_acc)\n",
    "    train_accuracy.append(train_acc)\n",
    "print(\"the test accuracies are: \")\n",
    "print(test_accuracy)\n",
    "print(\"the training accraucy are : \")\n",
    "print(train_accuracy)\n",
    "print(\"the best accuracy is : \" +str(max_acc))"
   ]
  },
  {
   "cell_type": "code",
   "execution_count": 36,
   "metadata": {},
   "outputs": [
    {
     "data": {
      "image/png": "[encoded data removed]",
      "text/plain": [
       "<Figure size 432x288 with 1 Axes>"
      ]
     },
     "metadata": {
      "needs_background": "light"
     },
     "output_type": "display_data"
    }
   ],
   "source": [
    "import matplotlib.pyplot as plt\n",
    "plt.plot(range(3, 19, 2), test_accuracy, label='testing accuracy')\n",
    "plt.plot(range(3, 19, 2), train_accuracy, label = 'training accuracy')\n",
    "plt.ylabel(\"the accuracy\")\n",
    "plt.xlabel(\"the number of neigbors in KNN model\")\n",
    "plt.legend(loc='lower left')\n",
    "plt.show()"
   ]
  },
  {
   "cell_type": "code",
   "execution_count": 37,
   "metadata": {},
   "outputs": [
    {
     "name": "stdout",
     "output_type": "stream",
     "text": [
      "train the decision tree model with maxdepth is 5\n",
      "train the decision tree model with maxdepth is 8\n",
      "train the decision tree model with maxdepth is 11\n",
      "train the decision tree model with maxdepth is 14\n",
      "train the decision tree model with maxdepth is 17\n",
      "train the decision tree model with maxdepth is 20\n",
      "train the decision tree model with maxdepth is 23\n",
      "train the decision tree model with maxdepth is 26\n",
      "train the decision tree model with maxdepth is 29\n",
      "train the decision tree model with maxdepth is 32\n",
      "train the decision tree model with maxdepth is 35\n",
      "train the decision tree model with maxdepth is 38\n",
      "the testing accuray are: \n",
      "[0.6190476190476191, 0.6812169312169312, 0.7208994708994709, 0.7513227513227513, 0.769510582010582, 0.7628968253968254, 0.7609126984126984, 0.7592592592592593, 0.7566137566137566, 0.751984126984127, 0.7625661375661376, 0.7599206349206349]\n",
      "the training accuray are: \n",
      "[0.6208664021164021, 0.7195767195767195, 0.8314318783068783, 0.9131117724867724, 0.9642857142857143, 0.9830522486772487, 0.9930555555555556, 0.9984292328042328, 0.999834656084656, 1.0, 1.0, 1.0]\n",
      "the best accuracy is : 0.769510582010582\n"
     ]
    },
    {
     "data": {
      "image/png": "[encoded data removed]",
      "text/plain": [
       "<Figure size 432x288 with 1 Axes>"
      ]
     },
     "metadata": {
      "needs_background": "light"
     },
     "output_type": "display_data"
    }
   ],
   "source": [
    "# re-train decision tree on the PCA data\n",
    "test_accuracy = []\n",
    "train_accuracy = []\n",
    "DT_model = None\n",
    "max_acc = 0\n",
    "for num in range(5, 40, 3):\n",
    "    test_acc, train_acc, model = train_inference_DT(num)\n",
    "    if DT_model==None or max_acc < test_acc:\n",
    "        max_acc = test_acc\n",
    "        DT_model = model\n",
    "    test_accuracy.append(test_acc)\n",
    "    train_accuracy.append(train_acc)\n",
    "print(\"the testing accuray are: \")\n",
    "print(test_accuracy)\n",
    "print(\"the training accuray are: \")\n",
    "print(train_accuracy)\n",
    "print(\"the best accuracy is : \" +str(max_acc))\n",
    "\n",
    "# draw the training and test result\n",
    "plt.plot(range(5, 40, 3), test_accuracy, label='testing accuracy')\n",
    "plt.plot(range(5, 40, 3), train_accuracy, label = 'training accuracy')\n",
    "plt.ylabel(\"the accuracy\")\n",
    "plt.xlabel(\"the number of neigbors in KNN model\")\n",
    "plt.legend(loc='lower left')\n",
    "plt.show()"
   ]
  },
  {
   "cell_type": "code",
   "execution_count": 38,
   "metadata": {},
   "outputs": [
    {
     "name": "stdout",
     "output_type": "stream",
     "text": [
      " the number of tree is 100\n",
      "train the random forest tree model with maxdepth is 5\n"
     ]
    },
    {
     "name": "stderr",
     "output_type": "stream",
     "text": [
      "c:\\users\\lixx3527\\anaconda2\\envs\\pytorch_new\\lib\\site-packages\\sklearn\\ensemble\\forest.py:245: FutureWarning: The default value of n_estimators will change from 10 in version 0.20 to 100 in 0.22.\n",
      "  \"10 in version 0.20 to 100 in 0.22.\", FutureWarning)\n"
     ]
    },
    {
     "name": "stdout",
     "output_type": "stream",
     "text": [
      " the number of tree is 100\n",
      "train the random forest tree model with maxdepth is 8\n"
     ]
    },
    {
     "name": "stderr",
     "output_type": "stream",
     "text": [
      "c:\\users\\lixx3527\\anaconda2\\envs\\pytorch_new\\lib\\site-packages\\sklearn\\ensemble\\forest.py:245: FutureWarning: The default value of n_estimators will change from 10 in version 0.20 to 100 in 0.22.\n",
      "  \"10 in version 0.20 to 100 in 0.22.\", FutureWarning)\n"
     ]
    },
    {
     "name": "stdout",
     "output_type": "stream",
     "text": [
      " the number of tree is 100\n",
      "train the random forest tree model with maxdepth is 11\n"
     ]
    },
    {
     "name": "stderr",
     "output_type": "stream",
     "text": [
      "c:\\users\\lixx3527\\anaconda2\\envs\\pytorch_new\\lib\\site-packages\\sklearn\\ensemble\\forest.py:245: FutureWarning: The default value of n_estimators will change from 10 in version 0.20 to 100 in 0.22.\n",
      "  \"10 in version 0.20 to 100 in 0.22.\", FutureWarning)\n"
     ]
    },
    {
     "name": "stdout",
     "output_type": "stream",
     "text": [
      " the number of tree is 100\n",
      "train the random forest tree model with maxdepth is 14\n"
     ]
    },
    {
     "name": "stderr",
     "output_type": "stream",
     "text": [
      "c:\\users\\lixx3527\\anaconda2\\envs\\pytorch_new\\lib\\site-packages\\sklearn\\ensemble\\forest.py:245: FutureWarning: The default value of n_estimators will change from 10 in version 0.20 to 100 in 0.22.\n",
      "  \"10 in version 0.20 to 100 in 0.22.\", FutureWarning)\n"
     ]
    },
    {
     "name": "stdout",
     "output_type": "stream",
     "text": [
      " the number of tree is 100\n",
      "train the random forest tree model with maxdepth is 17\n"
     ]
    },
    {
     "name": "stderr",
     "output_type": "stream",
     "text": [
      "c:\\users\\lixx3527\\anaconda2\\envs\\pytorch_new\\lib\\site-packages\\sklearn\\ensemble\\forest.py:245: FutureWarning: The default value of n_estimators will change from 10 in version 0.20 to 100 in 0.22.\n",
      "  \"10 in version 0.20 to 100 in 0.22.\", FutureWarning)\n"
     ]
    },
    {
     "name": "stdout",
     "output_type": "stream",
     "text": [
      " the number of tree is 100\n",
      "train the random forest tree model with maxdepth is 20\n"
     ]
    },
    {
     "name": "stderr",
     "output_type": "stream",
     "text": [
      "c:\\users\\lixx3527\\anaconda2\\envs\\pytorch_new\\lib\\site-packages\\sklearn\\ensemble\\forest.py:245: FutureWarning: The default value of n_estimators will change from 10 in version 0.20 to 100 in 0.22.\n",
      "  \"10 in version 0.20 to 100 in 0.22.\", FutureWarning)\n"
     ]
    },
    {
     "name": "stdout",
     "output_type": "stream",
     "text": [
      " the number of tree is 100\n",
      "train the random forest tree model with maxdepth is 23\n"
     ]
    },
    {
     "name": "stderr",
     "output_type": "stream",
     "text": [
      "c:\\users\\lixx3527\\anaconda2\\envs\\pytorch_new\\lib\\site-packages\\sklearn\\ensemble\\forest.py:245: FutureWarning: The default value of n_estimators will change from 10 in version 0.20 to 100 in 0.22.\n",
      "  \"10 in version 0.20 to 100 in 0.22.\", FutureWarning)\n"
     ]
    },
    {
     "name": "stdout",
     "output_type": "stream",
     "text": [
      " the number of tree is 100\n",
      "train the random forest tree model with maxdepth is 26\n"
     ]
    },
    {
     "name": "stderr",
     "output_type": "stream",
     "text": [
      "c:\\users\\lixx3527\\anaconda2\\envs\\pytorch_new\\lib\\site-packages\\sklearn\\ensemble\\forest.py:245: FutureWarning: The default value of n_estimators will change from 10 in version 0.20 to 100 in 0.22.\n",
      "  \"10 in version 0.20 to 100 in 0.22.\", FutureWarning)\n"
     ]
    },
    {
     "name": "stdout",
     "output_type": "stream",
     "text": [
      " the number of tree is 100\n",
      "train the random forest tree model with maxdepth is 29\n"
     ]
    },
    {
     "name": "stderr",
     "output_type": "stream",
     "text": [
      "c:\\users\\lixx3527\\anaconda2\\envs\\pytorch_new\\lib\\site-packages\\sklearn\\ensemble\\forest.py:245: FutureWarning: The default value of n_estimators will change from 10 in version 0.20 to 100 in 0.22.\n",
      "  \"10 in version 0.20 to 100 in 0.22.\", FutureWarning)\n"
     ]
    },
    {
     "name": "stdout",
     "output_type": "stream",
     "text": [
      " the number of tree is 100\n",
      "train the random forest tree model with maxdepth is 32\n"
     ]
    },
    {
     "name": "stderr",
     "output_type": "stream",
     "text": [
      "c:\\users\\lixx3527\\anaconda2\\envs\\pytorch_new\\lib\\site-packages\\sklearn\\ensemble\\forest.py:245: FutureWarning: The default value of n_estimators will change from 10 in version 0.20 to 100 in 0.22.\n",
      "  \"10 in version 0.20 to 100 in 0.22.\", FutureWarning)\n"
     ]
    },
    {
     "name": "stdout",
     "output_type": "stream",
     "text": [
      " the number of tree is 100\n",
      "train the random forest tree model with maxdepth is 35\n"
     ]
    },
    {
     "name": "stderr",
     "output_type": "stream",
     "text": [
      "c:\\users\\lixx3527\\anaconda2\\envs\\pytorch_new\\lib\\site-packages\\sklearn\\ensemble\\forest.py:245: FutureWarning: The default value of n_estimators will change from 10 in version 0.20 to 100 in 0.22.\n",
      "  \"10 in version 0.20 to 100 in 0.22.\", FutureWarning)\n"
     ]
    },
    {
     "name": "stdout",
     "output_type": "stream",
     "text": [
      " the number of tree is 100\n",
      "train the random forest tree model with maxdepth is 38\n"
     ]
    },
    {
     "name": "stderr",
     "output_type": "stream",
     "text": [
      "c:\\users\\lixx3527\\anaconda2\\envs\\pytorch_new\\lib\\site-packages\\sklearn\\ensemble\\forest.py:245: FutureWarning: The default value of n_estimators will change from 10 in version 0.20 to 100 in 0.22.\n",
      "  \"10 in version 0.20 to 100 in 0.22.\", FutureWarning)\n"
     ]
    },
    {
     "name": "stdout",
     "output_type": "stream",
     "text": [
      "the testing accuray are: \n",
      "[0.6326058201058201, 0.7013888888888888, 0.7582671957671958, 0.7956349206349206, 0.7992724867724867, 0.8019179894179894, 0.7979497354497355, 0.7992724867724867, 0.8072089947089947, 0.8101851851851852, 0.8009259259259259, 0.8148148148148148]\n",
      "the training accuray are: \n",
      "[0.6364914021164021, 0.7446263227513228, 0.8611111111111112, 0.9481646825396826, 0.9752810846560847, 0.9867724867724867, 0.9907407407407407, 0.9913194444444444, 0.9929728835978836, 0.9914021164021164, 0.9909887566137566, 0.9918981481481481]\n",
      "the best accuracy is : 0.8148148148148148\n"
     ]
    },
    {
     "data": {
      "image/png": "[encoded data removed]",
      "text/plain": [
       "<Figure size 432x288 with 1 Axes>"
      ]
     },
     "metadata": {
      "needs_background": "light"
     },
     "output_type": "display_data"
    }
   ],
   "source": [
    "# set the number of ramdom forest tree as 100, and re_train the ramdom foreste tree model\n",
    "test_accuracy = []\n",
    "train_accuracy = []\n",
    "RFT_model = None\n",
    "max_acc = 0\n",
    "for num in range(5, 40, 3):\n",
    "    test_acc, train_acc, model = train_inference_random_forest_tree(100, num)\n",
    "    if RFT_model==None or max_acc < test_acc:\n",
    "        max_acc = test_acc\n",
    "        RFT_model = model\n",
    "    test_accuracy.append(test_acc)\n",
    "    train_accuracy.append(train_acc)\n",
    "print(\"the testing accuray are: \")\n",
    "print(test_accuracy)\n",
    "print(\"the training accuray are: \")\n",
    "print(train_accuracy)\n",
    "print(\"the best accuracy is : \" +str(max_acc))\n",
    "\n",
    "\n",
    "# draw the training and test result\n",
    "plt.plot(range(5, 40, 3), test_accuracy, label='testing accuracy')\n",
    "plt.plot(range(5, 40, 3), train_accuracy, label = 'training accuracy')\n",
    "plt.ylabel(\"the accuracy\")\n",
    "plt.xlabel(\"the number of neigbors in KNN model\")\n",
    "plt.legend(loc='lower left')\n",
    "plt.show()"
   ]
  },
  {
   "cell_type": "markdown",
   "metadata": {},
   "source": [
    "###  let's retrain graident boosting tree based on preprocessed data and test it!"
   ]
  },
  {
   "cell_type": "code",
   "execution_count": null,
   "metadata": {},
   "outputs": [],
   "source": [
    "test_accuracy = []\n",
    "train_accuracy = []\n",
    "GDBT_model = None\n",
    "max_acc = 0\n",
    "for num in range(5, 40, 3):\n",
    "    test_acc, train_acc, model = train_inference_GDBT(30, num)\n",
    "    if GDBT_model==None or max_acc < test_acc:\n",
    "        max_acc = test_acc\n",
    "        GDBT_model = model\n",
    "    test_accuracy.append(test_acc)\n",
    "    train_accuracy.append(train_acc)\n",
    "print(\"the testing accuray are: \")\n",
    "print(test_accuracy)\n",
    "print(\"the training accuracy are: \")\n",
    "print(train_accuracy)\n",
    "print(\"the best accuracy is : \" + str(max_acc))\n",
    "\n",
    "# draw the training and test result\n",
    "plt.plot(range(5, 40, 3), test_accuracy, label='testing accuracy')\n",
    "plt.plot(range(5, 40, 3), train_accuracy, label = 'training accuracy')\n",
    "plt.ylabel(\"the accuracy\")\n",
    "plt.xlabel(\"the number of neigbors in KNN model\")\n",
    "plt.legend(loc='lower left')\n",
    "plt.show()"
   ]
  }
 ],
 "metadata": {
  "kernelspec": {
   "display_name": "Python 3",
   "language": "python",
   "name": "python3"
  },
  "language_info": {
   "codemirror_mode": {
    "name": "ipython",
    "version": 3
   },
   "file_extension": ".py",
   "mimetype": "text/x-python",
   "name": "python",
   "nbconvert_exporter": "python",
   "pygments_lexer": "ipython3",
   "version": "3.6.2"
  }
 },
 "nbformat": 4,
 "nbformat_minor": 2
}
