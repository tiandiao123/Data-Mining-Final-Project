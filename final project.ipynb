{
 "cells": [
  {
   "cell_type": "code",
   "execution_count": 1,
   "metadata": {},
   "outputs": [],
   "source": [
    "import numpy as np # linear algebra\n",
    "import pandas as pd # data processing, CSV file I/O (e.g. pd.read_csv)\n",
    "%matplotlib inline\n",
    "import matplotlib.pyplot as plt  # Matlab-style plotting\n",
    "import seaborn as sns"
   ]
  },
  {
   "cell_type": "code",
   "execution_count": 2,
   "metadata": {},
   "outputs": [],
   "source": [
    "train = pd.read_csv('train.csv')\n",
    "test = pd.read_csv('test.csv')"
   ]
  },
  {
   "cell_type": "code",
   "execution_count": 3,
   "metadata": {},
   "outputs": [
    {
     "data": {
      "text/html": [
       "<div>\n",
       "<style scoped>\n",
       "    .dataframe tbody tr th:only-of-type {\n",
       "        vertical-align: middle;\n",
       "    }\n",
       "\n",
       "    .dataframe tbody tr th {\n",
       "        vertical-align: top;\n",
       "    }\n",
       "\n",
       "    .dataframe thead th {\n",
       "        text-align: right;\n",
       "    }\n",
       "</style>\n",
       "<table border=\"1\" class=\"dataframe\">\n",
       "  <thead>\n",
       "    <tr style=\"text-align: right;\">\n",
       "      <th></th>\n",
       "      <th>Elevation</th>\n",
       "      <th>Aspect</th>\n",
       "      <th>Slope</th>\n",
       "      <th>Horizontal_Distance_To_Hydrology</th>\n",
       "      <th>Vertical_Distance_To_Hydrology</th>\n",
       "      <th>Horizontal_Distance_To_Roadways</th>\n",
       "      <th>Hillshade_9am</th>\n",
       "      <th>Hillshade_Noon</th>\n",
       "      <th>Hillshade_3pm</th>\n",
       "      <th>Horizontal_Distance_To_Fire_Points</th>\n",
       "      <th>...</th>\n",
       "      <th>Soil_Type32</th>\n",
       "      <th>Soil_Type33</th>\n",
       "      <th>Soil_Type34</th>\n",
       "      <th>Soil_Type35</th>\n",
       "      <th>Soil_Type36</th>\n",
       "      <th>Soil_Type37</th>\n",
       "      <th>Soil_Type38</th>\n",
       "      <th>Soil_Type39</th>\n",
       "      <th>Soil_Type40</th>\n",
       "      <th>Cover_Type</th>\n",
       "    </tr>\n",
       "  </thead>\n",
       "  <tbody>\n",
       "    <tr>\n",
       "      <td>0</td>\n",
       "      <td>2596</td>\n",
       "      <td>51</td>\n",
       "      <td>3</td>\n",
       "      <td>258</td>\n",
       "      <td>0</td>\n",
       "      <td>510</td>\n",
       "      <td>221</td>\n",
       "      <td>232</td>\n",
       "      <td>148</td>\n",
       "      <td>6279</td>\n",
       "      <td>...</td>\n",
       "      <td>0</td>\n",
       "      <td>0</td>\n",
       "      <td>0</td>\n",
       "      <td>0</td>\n",
       "      <td>0</td>\n",
       "      <td>0</td>\n",
       "      <td>0</td>\n",
       "      <td>0</td>\n",
       "      <td>0</td>\n",
       "      <td>5</td>\n",
       "    </tr>\n",
       "    <tr>\n",
       "      <td>1</td>\n",
       "      <td>2590</td>\n",
       "      <td>56</td>\n",
       "      <td>2</td>\n",
       "      <td>212</td>\n",
       "      <td>-6</td>\n",
       "      <td>390</td>\n",
       "      <td>220</td>\n",
       "      <td>235</td>\n",
       "      <td>151</td>\n",
       "      <td>6225</td>\n",
       "      <td>...</td>\n",
       "      <td>0</td>\n",
       "      <td>0</td>\n",
       "      <td>0</td>\n",
       "      <td>0</td>\n",
       "      <td>0</td>\n",
       "      <td>0</td>\n",
       "      <td>0</td>\n",
       "      <td>0</td>\n",
       "      <td>0</td>\n",
       "      <td>5</td>\n",
       "    </tr>\n",
       "    <tr>\n",
       "      <td>2</td>\n",
       "      <td>2804</td>\n",
       "      <td>139</td>\n",
       "      <td>9</td>\n",
       "      <td>268</td>\n",
       "      <td>65</td>\n",
       "      <td>3180</td>\n",
       "      <td>234</td>\n",
       "      <td>238</td>\n",
       "      <td>135</td>\n",
       "      <td>6121</td>\n",
       "      <td>...</td>\n",
       "      <td>0</td>\n",
       "      <td>0</td>\n",
       "      <td>0</td>\n",
       "      <td>0</td>\n",
       "      <td>0</td>\n",
       "      <td>0</td>\n",
       "      <td>0</td>\n",
       "      <td>0</td>\n",
       "      <td>0</td>\n",
       "      <td>2</td>\n",
       "    </tr>\n",
       "    <tr>\n",
       "      <td>3</td>\n",
       "      <td>2785</td>\n",
       "      <td>155</td>\n",
       "      <td>18</td>\n",
       "      <td>242</td>\n",
       "      <td>118</td>\n",
       "      <td>3090</td>\n",
       "      <td>238</td>\n",
       "      <td>238</td>\n",
       "      <td>122</td>\n",
       "      <td>6211</td>\n",
       "      <td>...</td>\n",
       "      <td>0</td>\n",
       "      <td>0</td>\n",
       "      <td>0</td>\n",
       "      <td>0</td>\n",
       "      <td>0</td>\n",
       "      <td>0</td>\n",
       "      <td>0</td>\n",
       "      <td>0</td>\n",
       "      <td>0</td>\n",
       "      <td>2</td>\n",
       "    </tr>\n",
       "    <tr>\n",
       "      <td>4</td>\n",
       "      <td>2595</td>\n",
       "      <td>45</td>\n",
       "      <td>2</td>\n",
       "      <td>153</td>\n",
       "      <td>-1</td>\n",
       "      <td>391</td>\n",
       "      <td>220</td>\n",
       "      <td>234</td>\n",
       "      <td>150</td>\n",
       "      <td>6172</td>\n",
       "      <td>...</td>\n",
       "      <td>0</td>\n",
       "      <td>0</td>\n",
       "      <td>0</td>\n",
       "      <td>0</td>\n",
       "      <td>0</td>\n",
       "      <td>0</td>\n",
       "      <td>0</td>\n",
       "      <td>0</td>\n",
       "      <td>0</td>\n",
       "      <td>5</td>\n",
       "    </tr>\n",
       "  </tbody>\n",
       "</table>\n",
       "<p>5 rows × 55 columns</p>\n",
       "</div>"
      ],
      "text/plain": [
       "   Elevation  Aspect  Slope  Horizontal_Distance_To_Hydrology  \\\n",
       "0       2596      51      3                               258   \n",
       "1       2590      56      2                               212   \n",
       "2       2804     139      9                               268   \n",
       "3       2785     155     18                               242   \n",
       "4       2595      45      2                               153   \n",
       "\n",
       "   Vertical_Distance_To_Hydrology  Horizontal_Distance_To_Roadways  \\\n",
       "0                               0                              510   \n",
       "1                              -6                              390   \n",
       "2                              65                             3180   \n",
       "3                             118                             3090   \n",
       "4                              -1                              391   \n",
       "\n",
       "   Hillshade_9am  Hillshade_Noon  Hillshade_3pm  \\\n",
       "0            221             232            148   \n",
       "1            220             235            151   \n",
       "2            234             238            135   \n",
       "3            238             238            122   \n",
       "4            220             234            150   \n",
       "\n",
       "   Horizontal_Distance_To_Fire_Points  ...  Soil_Type32  Soil_Type33  \\\n",
       "0                                6279  ...            0            0   \n",
       "1                                6225  ...            0            0   \n",
       "2                                6121  ...            0            0   \n",
       "3                                6211  ...            0            0   \n",
       "4                                6172  ...            0            0   \n",
       "\n",
       "   Soil_Type34  Soil_Type35  Soil_Type36  Soil_Type37  Soil_Type38  \\\n",
       "0            0            0            0            0            0   \n",
       "1            0            0            0            0            0   \n",
       "2            0            0            0            0            0   \n",
       "3            0            0            0            0            0   \n",
       "4            0            0            0            0            0   \n",
       "\n",
       "   Soil_Type39  Soil_Type40  Cover_Type  \n",
       "0            0            0           5  \n",
       "1            0            0           5  \n",
       "2            0            0           2  \n",
       "3            0            0           2  \n",
       "4            0            0           5  \n",
       "\n",
       "[5 rows x 55 columns]"
      ]
     },
     "execution_count": 3,
     "metadata": {},
     "output_type": "execute_result"
    }
   ],
   "source": [
    "train.drop(['Id'], inplace = True, axis = 1 )\n",
    "train.head()"
   ]
  },
  {
   "cell_type": "code",
   "execution_count": 4,
   "metadata": {},
   "outputs": [
    {
     "data": {
      "text/plain": [
       "2160"
      ]
     },
     "execution_count": 4,
     "metadata": {},
     "output_type": "execute_result"
    }
   ],
   "source": [
    "train_labels = train['Cover_Type']\n",
    "np.sum(train_labels == 7)"
   ]
  },
  {
   "cell_type": "code",
   "execution_count": 5,
   "metadata": {},
   "outputs": [
    {
     "data": {
      "text/html": [
       "<div>\n",
       "<style scoped>\n",
       "    .dataframe tbody tr th:only-of-type {\n",
       "        vertical-align: middle;\n",
       "    }\n",
       "\n",
       "    .dataframe tbody tr th {\n",
       "        vertical-align: top;\n",
       "    }\n",
       "\n",
       "    .dataframe thead th {\n",
       "        text-align: right;\n",
       "    }\n",
       "</style>\n",
       "<table border=\"1\" class=\"dataframe\">\n",
       "  <thead>\n",
       "    <tr style=\"text-align: right;\">\n",
       "      <th></th>\n",
       "      <th>Elevation</th>\n",
       "      <th>Aspect</th>\n",
       "      <th>Slope</th>\n",
       "      <th>Horizontal_Distance_To_Hydrology</th>\n",
       "      <th>Vertical_Distance_To_Hydrology</th>\n",
       "      <th>Horizontal_Distance_To_Roadways</th>\n",
       "      <th>Hillshade_9am</th>\n",
       "      <th>Hillshade_Noon</th>\n",
       "      <th>Hillshade_3pm</th>\n",
       "      <th>Horizontal_Distance_To_Fire_Points</th>\n",
       "      <th>...</th>\n",
       "      <th>Soil_Type31</th>\n",
       "      <th>Soil_Type32</th>\n",
       "      <th>Soil_Type33</th>\n",
       "      <th>Soil_Type34</th>\n",
       "      <th>Soil_Type35</th>\n",
       "      <th>Soil_Type36</th>\n",
       "      <th>Soil_Type37</th>\n",
       "      <th>Soil_Type38</th>\n",
       "      <th>Soil_Type39</th>\n",
       "      <th>Soil_Type40</th>\n",
       "    </tr>\n",
       "  </thead>\n",
       "  <tbody>\n",
       "    <tr>\n",
       "      <td>0</td>\n",
       "      <td>2596</td>\n",
       "      <td>51</td>\n",
       "      <td>3</td>\n",
       "      <td>258</td>\n",
       "      <td>0</td>\n",
       "      <td>510</td>\n",
       "      <td>221</td>\n",
       "      <td>232</td>\n",
       "      <td>148</td>\n",
       "      <td>6279</td>\n",
       "      <td>...</td>\n",
       "      <td>0</td>\n",
       "      <td>0</td>\n",
       "      <td>0</td>\n",
       "      <td>0</td>\n",
       "      <td>0</td>\n",
       "      <td>0</td>\n",
       "      <td>0</td>\n",
       "      <td>0</td>\n",
       "      <td>0</td>\n",
       "      <td>0</td>\n",
       "    </tr>\n",
       "    <tr>\n",
       "      <td>1</td>\n",
       "      <td>2590</td>\n",
       "      <td>56</td>\n",
       "      <td>2</td>\n",
       "      <td>212</td>\n",
       "      <td>-6</td>\n",
       "      <td>390</td>\n",
       "      <td>220</td>\n",
       "      <td>235</td>\n",
       "      <td>151</td>\n",
       "      <td>6225</td>\n",
       "      <td>...</td>\n",
       "      <td>0</td>\n",
       "      <td>0</td>\n",
       "      <td>0</td>\n",
       "      <td>0</td>\n",
       "      <td>0</td>\n",
       "      <td>0</td>\n",
       "      <td>0</td>\n",
       "      <td>0</td>\n",
       "      <td>0</td>\n",
       "      <td>0</td>\n",
       "    </tr>\n",
       "    <tr>\n",
       "      <td>2</td>\n",
       "      <td>2804</td>\n",
       "      <td>139</td>\n",
       "      <td>9</td>\n",
       "      <td>268</td>\n",
       "      <td>65</td>\n",
       "      <td>3180</td>\n",
       "      <td>234</td>\n",
       "      <td>238</td>\n",
       "      <td>135</td>\n",
       "      <td>6121</td>\n",
       "      <td>...</td>\n",
       "      <td>0</td>\n",
       "      <td>0</td>\n",
       "      <td>0</td>\n",
       "      <td>0</td>\n",
       "      <td>0</td>\n",
       "      <td>0</td>\n",
       "      <td>0</td>\n",
       "      <td>0</td>\n",
       "      <td>0</td>\n",
       "      <td>0</td>\n",
       "    </tr>\n",
       "    <tr>\n",
       "      <td>3</td>\n",
       "      <td>2785</td>\n",
       "      <td>155</td>\n",
       "      <td>18</td>\n",
       "      <td>242</td>\n",
       "      <td>118</td>\n",
       "      <td>3090</td>\n",
       "      <td>238</td>\n",
       "      <td>238</td>\n",
       "      <td>122</td>\n",
       "      <td>6211</td>\n",
       "      <td>...</td>\n",
       "      <td>0</td>\n",
       "      <td>0</td>\n",
       "      <td>0</td>\n",
       "      <td>0</td>\n",
       "      <td>0</td>\n",
       "      <td>0</td>\n",
       "      <td>0</td>\n",
       "      <td>0</td>\n",
       "      <td>0</td>\n",
       "      <td>0</td>\n",
       "    </tr>\n",
       "    <tr>\n",
       "      <td>4</td>\n",
       "      <td>2595</td>\n",
       "      <td>45</td>\n",
       "      <td>2</td>\n",
       "      <td>153</td>\n",
       "      <td>-1</td>\n",
       "      <td>391</td>\n",
       "      <td>220</td>\n",
       "      <td>234</td>\n",
       "      <td>150</td>\n",
       "      <td>6172</td>\n",
       "      <td>...</td>\n",
       "      <td>0</td>\n",
       "      <td>0</td>\n",
       "      <td>0</td>\n",
       "      <td>0</td>\n",
       "      <td>0</td>\n",
       "      <td>0</td>\n",
       "      <td>0</td>\n",
       "      <td>0</td>\n",
       "      <td>0</td>\n",
       "      <td>0</td>\n",
       "    </tr>\n",
       "  </tbody>\n",
       "</table>\n",
       "<p>5 rows × 54 columns</p>\n",
       "</div>"
      ],
      "text/plain": [
       "   Elevation  Aspect  Slope  Horizontal_Distance_To_Hydrology  \\\n",
       "0       2596      51      3                               258   \n",
       "1       2590      56      2                               212   \n",
       "2       2804     139      9                               268   \n",
       "3       2785     155     18                               242   \n",
       "4       2595      45      2                               153   \n",
       "\n",
       "   Vertical_Distance_To_Hydrology  Horizontal_Distance_To_Roadways  \\\n",
       "0                               0                              510   \n",
       "1                              -6                              390   \n",
       "2                              65                             3180   \n",
       "3                             118                             3090   \n",
       "4                              -1                              391   \n",
       "\n",
       "   Hillshade_9am  Hillshade_Noon  Hillshade_3pm  \\\n",
       "0            221             232            148   \n",
       "1            220             235            151   \n",
       "2            234             238            135   \n",
       "3            238             238            122   \n",
       "4            220             234            150   \n",
       "\n",
       "   Horizontal_Distance_To_Fire_Points  ...  Soil_Type31  Soil_Type32  \\\n",
       "0                                6279  ...            0            0   \n",
       "1                                6225  ...            0            0   \n",
       "2                                6121  ...            0            0   \n",
       "3                                6211  ...            0            0   \n",
       "4                                6172  ...            0            0   \n",
       "\n",
       "   Soil_Type33  Soil_Type34  Soil_Type35  Soil_Type36  Soil_Type37  \\\n",
       "0            0            0            0            0            0   \n",
       "1            0            0            0            0            0   \n",
       "2            0            0            0            0            0   \n",
       "3            0            0            0            0            0   \n",
       "4            0            0            0            0            0   \n",
       "\n",
       "   Soil_Type38  Soil_Type39  Soil_Type40  \n",
       "0            0            0            0  \n",
       "1            0            0            0  \n",
       "2            0            0            0  \n",
       "3            0            0            0  \n",
       "4            0            0            0  \n",
       "\n",
       "[5 rows x 54 columns]"
      ]
     },
     "execution_count": 5,
     "metadata": {},
     "output_type": "execute_result"
    }
   ],
   "source": [
    "train.drop(['Cover_Type'], inplace = True, axis = 1 )\n",
    "train.head()"
   ]
  },
  {
   "cell_type": "code",
   "execution_count": 6,
   "metadata": {},
   "outputs": [],
   "source": [
    "from sklearn.model_selection import train_test_split\n",
    "from sklearn.neighbors import KNeighborsClassifier\n",
    "from sklearn.ensemble import GradientBoostingClassifier\n",
    "X_train, X_test, y_train, y_test = train_test_split(train, train_labels, test_size=0.2, random_state=42)"
   ]
  },
  {
   "cell_type": "code",
   "execution_count": 8,
   "metadata": {},
   "outputs": [],
   "source": [
    "def train_inference_KNN(number_of_neigbor):\n",
    "    print(\"training KNN model ...\")\n",
    "    print(\"the number of neig is: \" +str(number_of_neigbor))\n",
    "    model = KNeighborsClassifier(n_neighbors=number_of_neigbor)\n",
    "    model.fit(X_train, y_train)\n",
    "    test_predictions = model.predict(X_test)\n",
    "    train_predictions = model.predict(X_train)\n",
    "    return np.sum(test_predictions == y_test)/len(y_test), np.sum(train_predictions == y_train)/len(y_train), model"
   ]
  },
  {
   "cell_type": "code",
   "execution_count": 12,
   "metadata": {},
   "outputs": [
    {
     "name": "stdout",
     "output_type": "stream",
     "text": [
      "training KNN model ...\n",
      "the number of neig is: 3\n",
      "training KNN model ...\n",
      "the number of neig is: 5\n",
      "training KNN model ...\n",
      "the number of neig is: 7\n",
      "training KNN model ...\n",
      "the number of neig is: 9\n",
      "training KNN model ...\n",
      "the number of neig is: 11\n",
      "training KNN model ...\n",
      "the number of neig is: 13\n",
      "training KNN model ...\n",
      "the number of neig is: 15\n",
      "training KNN model ...\n",
      "the number of neig is: 17\n",
      "the test accuracies are: \n",
      "[0.8207671957671958, 0.8048941798941799, 0.7876984126984127, 0.7767857142857143, 0.7592592592592593, 0.7585978835978836, 0.7529761904761905, 0.7490079365079365]\n",
      "the training accraucy are : \n",
      "[0.9132771164021164, 0.8752480158730159, 0.8516865079365079, 0.8310185185185185, 0.8158068783068783, 0.8043981481481481, 0.7964616402116402, 0.7863756613756614]\n",
      "the best accuracy is : 0.8207671957671958\n"
     ]
    }
   ],
   "source": [
    "test_accuracy = []\n",
    "train_accuracy = []\n",
    "max_acc = 0\n",
    "KNN_model = None\n",
    "for num in range(3, 19, 2):\n",
    "    test_acc, train_acc, model = train_inference_KNN(num)\n",
    "    if KNN_model == None or max_acc < test_acc:\n",
    "        max_acc = test_acc\n",
    "        KNN_model = model\n",
    "    test_accuracy.append(test_acc)\n",
    "    train_accuracy.append(train_acc)\n",
    "print(\"the test accuracies are: \")\n",
    "print(test_accuracy)\n",
    "print(\"the training accraucy are : \")\n",
    "print(train_accuracy)\n",
    "print(\"the best accuracy is : \" +str(max_acc))"
   ]
  },
  {
   "cell_type": "code",
   "execution_count": 15,
   "metadata": {},
   "outputs": [
    {
     "data": {
      "image/png": "[encoded data removed]",
      "text/plain": [
       "<Figure size 432x288 with 1 Axes>"
      ]
     },
     "metadata": {
      "needs_background": "light"
     },
     "output_type": "display_data"
    }
   ],
   "source": [
    "import matplotlib.pyplot as plt\n",
    "plt.plot(range(3, 19, 2), test_accuracy, label='testing accuracy')\n",
    "plt.plot(range(3, 19, 2), train_accuracy, label = 'training accuracy')\n",
    "plt.ylabel(\"the accuracy\")\n",
    "plt.xlabel(\"the number of neigbors in KNN model\")\n",
    "plt.legend(loc='lower left')\n",
    "plt.show()"
   ]
  },
  {
   "cell_type": "code",
   "execution_count": 16,
   "metadata": {},
   "outputs": [],
   "source": [
    "### train Desion tree model and create a function:\n",
    "from sklearn.tree import DecisionTreeClassifier\n",
    "def train_inference_DT(max_depth_):\n",
    "    print(\"train the decision tree model with maxdepth is \" +str(max_depth_))\n",
    "    model = DecisionTreeClassifier(max_depth=max_depth_)\n",
    "    model.fit(X_train, y_train)\n",
    "    test_predictions = model.predict(X_test)\n",
    "    train_predictions = model.predict(X_train)\n",
    "    return np.sum(test_predictions == y_test)/len(y_test), np.sum(train_predictions == y_train)/len(y_train), model"
   ]
  },
  {
   "cell_type": "code",
   "execution_count": 19,
   "metadata": {},
   "outputs": [
    {
     "name": "stdout",
     "output_type": "stream",
     "text": [
      "train the decision tree model with maxdepth is 5\n",
      "train the decision tree model with maxdepth is 8\n",
      "train the decision tree model with maxdepth is 11\n",
      "train the decision tree model with maxdepth is 14\n",
      "train the decision tree model with maxdepth is 17\n",
      "train the decision tree model with maxdepth is 20\n",
      "train the decision tree model with maxdepth is 23\n",
      "train the decision tree model with maxdepth is 26\n",
      "train the decision tree model with maxdepth is 29\n",
      "train the decision tree model with maxdepth is 32\n",
      "train the decision tree model with maxdepth is 35\n",
      "train the decision tree model with maxdepth is 38\n",
      "the testing accuray are: \n",
      "[0.6484788359788359, 0.7331349206349206, 0.7728174603174603, 0.7999338624338624, 0.7926587301587301, 0.792989417989418, 0.7896825396825397, 0.7853835978835979, 0.7936507936507936, 0.7939814814814815, 0.7883597883597884, 0.7896825396825397]\n",
      "the training accuray are: \n",
      "[0.6653439153439153, 0.7642195767195767, 0.8540013227513228, 0.9365079365079365, 0.9775958994708994, 0.9932208994708994, 0.9978505291005291, 0.9994212962962963, 0.999917328042328, 1.0, 1.0, 1.0]\n",
      "the best accuracy is : 0.7999338624338624\n"
     ]
    }
   ],
   "source": [
    "test_accuracy = []\n",
    "train_accuracy = []\n",
    "DT_model = None\n",
    "max_acc = 0\n",
    "for num in range(5, 40, 3):\n",
    "    test_acc, train_acc, model = train_inference_DT(num)\n",
    "    if DT_model==None or max_acc < test_acc:\n",
    "        max_acc = test_acc\n",
    "        DT_model = model\n",
    "    test_accuracy.append(test_acc)\n",
    "    train_accuracy.append(train_acc)\n",
    "print(\"the testing accuray are: \")\n",
    "print(test_accuracy)\n",
    "print(\"the training accuray are: \")\n",
    "print(train_accuracy)\n",
    "print(\"the best accuracy is : \" +str(max_acc))"
   ]
  },
  {
   "cell_type": "code",
   "execution_count": 20,
   "metadata": {},
   "outputs": [
    {
     "data": {
      "image/png": "[encoded data removed]",
      "text/plain": [
       "<Figure size 432x288 with 1 Axes>"
      ]
     },
     "metadata": {
      "needs_background": "light"
     },
     "output_type": "display_data"
    }
   ],
   "source": [
    "### draw decision tree result\n",
    "import matplotlib.pyplot as plt\n",
    "plt.plot(range(5, 40, 3), test_accuracy, label='testing accuracy')\n",
    "plt.plot(range(5, 40, 3), train_accuracy, label = 'training accuracy')\n",
    "plt.ylabel(\"the accuracy\")\n",
    "plt.xlabel(\"the number of neigbors in KNN model\")\n",
    "plt.legend(loc='lower left')\n",
    "plt.show()"
   ]
  },
  {
   "cell_type": "code",
   "execution_count": 21,
   "metadata": {},
   "outputs": [],
   "source": [
    "from sklearn.ensemble import RandomForestClassifier\n",
    "# random forest tree model\n",
    "def train_inference_random_forest_tree(n_estimator_, max_depth_):\n",
    "    print(\" the number of tree is \" + str(n_estimator_))\n",
    "    print(\"train the random forest tree model with maxdepth is \" +str(max_depth_))\n",
    "    model = RandomForestClassifier(max_depth=max_depth_)\n",
    "    model.fit(X_train, y_train)\n",
    "    test_predictions = model.predict(X_test)\n",
    "    train_predictions = model.predict(X_train)\n",
    "    return np.sum(test_predictions == y_test)/len(y_test), np.sum(train_predictions == y_train)/len(y_train), model"
   ]
  },
  {
   "cell_type": "code",
   "execution_count": 22,
   "metadata": {},
   "outputs": [
    {
     "name": "stdout",
     "output_type": "stream",
     "text": [
      " the number of tree is 10\n",
      "train the random forest tree model with maxdepth is 5\n"
     ]
    },
    {
     "name": "stderr",
     "output_type": "stream",
     "text": [
      "c:\\users\\lixx3527\\anaconda2\\envs\\pytorch_new\\lib\\site-packages\\sklearn\\ensemble\\forest.py:245: FutureWarning: The default value of n_estimators will change from 10 in version 0.20 to 100 in 0.22.\n",
      "  \"10 in version 0.20 to 100 in 0.22.\", FutureWarning)\n"
     ]
    },
    {
     "name": "stdout",
     "output_type": "stream",
     "text": [
      " the number of tree is 10\n",
      "train the random forest tree model with maxdepth is 8\n"
     ]
    },
    {
     "name": "stderr",
     "output_type": "stream",
     "text": [
      "c:\\users\\lixx3527\\anaconda2\\envs\\pytorch_new\\lib\\site-packages\\sklearn\\ensemble\\forest.py:245: FutureWarning: The default value of n_estimators will change from 10 in version 0.20 to 100 in 0.22.\n",
      "  \"10 in version 0.20 to 100 in 0.22.\", FutureWarning)\n"
     ]
    },
    {
     "name": "stdout",
     "output_type": "stream",
     "text": [
      " the number of tree is 10\n",
      "train the random forest tree model with maxdepth is 11\n"
     ]
    },
    {
     "name": "stderr",
     "output_type": "stream",
     "text": [
      "c:\\users\\lixx3527\\anaconda2\\envs\\pytorch_new\\lib\\site-packages\\sklearn\\ensemble\\forest.py:245: FutureWarning: The default value of n_estimators will change from 10 in version 0.20 to 100 in 0.22.\n",
      "  \"10 in version 0.20 to 100 in 0.22.\", FutureWarning)\n"
     ]
    },
    {
     "name": "stdout",
     "output_type": "stream",
     "text": [
      " the number of tree is 10\n",
      "train the random forest tree model with maxdepth is 14\n"
     ]
    },
    {
     "name": "stderr",
     "output_type": "stream",
     "text": [
      "c:\\users\\lixx3527\\anaconda2\\envs\\pytorch_new\\lib\\site-packages\\sklearn\\ensemble\\forest.py:245: FutureWarning: The default value of n_estimators will change from 10 in version 0.20 to 100 in 0.22.\n",
      "  \"10 in version 0.20 to 100 in 0.22.\", FutureWarning)\n"
     ]
    },
    {
     "name": "stdout",
     "output_type": "stream",
     "text": [
      " the number of tree is 10\n",
      "train the random forest tree model with maxdepth is 17\n"
     ]
    },
    {
     "name": "stderr",
     "output_type": "stream",
     "text": [
      "c:\\users\\lixx3527\\anaconda2\\envs\\pytorch_new\\lib\\site-packages\\sklearn\\ensemble\\forest.py:245: FutureWarning: The default value of n_estimators will change from 10 in version 0.20 to 100 in 0.22.\n",
      "  \"10 in version 0.20 to 100 in 0.22.\", FutureWarning)\n"
     ]
    },
    {
     "name": "stdout",
     "output_type": "stream",
     "text": [
      " the number of tree is 10\n",
      "train the random forest tree model with maxdepth is 20\n"
     ]
    },
    {
     "name": "stderr",
     "output_type": "stream",
     "text": [
      "c:\\users\\lixx3527\\anaconda2\\envs\\pytorch_new\\lib\\site-packages\\sklearn\\ensemble\\forest.py:245: FutureWarning: The default value of n_estimators will change from 10 in version 0.20 to 100 in 0.22.\n",
      "  \"10 in version 0.20 to 100 in 0.22.\", FutureWarning)\n"
     ]
    },
    {
     "name": "stdout",
     "output_type": "stream",
     "text": [
      " the number of tree is 10\n",
      "train the random forest tree model with maxdepth is 23\n"
     ]
    },
    {
     "name": "stderr",
     "output_type": "stream",
     "text": [
      "c:\\users\\lixx3527\\anaconda2\\envs\\pytorch_new\\lib\\site-packages\\sklearn\\ensemble\\forest.py:245: FutureWarning: The default value of n_estimators will change from 10 in version 0.20 to 100 in 0.22.\n",
      "  \"10 in version 0.20 to 100 in 0.22.\", FutureWarning)\n"
     ]
    },
    {
     "name": "stdout",
     "output_type": "stream",
     "text": [
      " the number of tree is 10\n",
      "train the random forest tree model with maxdepth is 26\n"
     ]
    },
    {
     "name": "stderr",
     "output_type": "stream",
     "text": [
      "c:\\users\\lixx3527\\anaconda2\\envs\\pytorch_new\\lib\\site-packages\\sklearn\\ensemble\\forest.py:245: FutureWarning: The default value of n_estimators will change from 10 in version 0.20 to 100 in 0.22.\n",
      "  \"10 in version 0.20 to 100 in 0.22.\", FutureWarning)\n"
     ]
    },
    {
     "name": "stdout",
     "output_type": "stream",
     "text": [
      " the number of tree is 10\n",
      "train the random forest tree model with maxdepth is 29\n"
     ]
    },
    {
     "name": "stderr",
     "output_type": "stream",
     "text": [
      "c:\\users\\lixx3527\\anaconda2\\envs\\pytorch_new\\lib\\site-packages\\sklearn\\ensemble\\forest.py:245: FutureWarning: The default value of n_estimators will change from 10 in version 0.20 to 100 in 0.22.\n",
      "  \"10 in version 0.20 to 100 in 0.22.\", FutureWarning)\n"
     ]
    },
    {
     "name": "stdout",
     "output_type": "stream",
     "text": [
      " the number of tree is 10\n",
      "train the random forest tree model with maxdepth is 32\n"
     ]
    },
    {
     "name": "stderr",
     "output_type": "stream",
     "text": [
      "c:\\users\\lixx3527\\anaconda2\\envs\\pytorch_new\\lib\\site-packages\\sklearn\\ensemble\\forest.py:245: FutureWarning: The default value of n_estimators will change from 10 in version 0.20 to 100 in 0.22.\n",
      "  \"10 in version 0.20 to 100 in 0.22.\", FutureWarning)\n"
     ]
    },
    {
     "name": "stdout",
     "output_type": "stream",
     "text": [
      " the number of tree is 10\n",
      "train the random forest tree model with maxdepth is 35\n"
     ]
    },
    {
     "name": "stderr",
     "output_type": "stream",
     "text": [
      "c:\\users\\lixx3527\\anaconda2\\envs\\pytorch_new\\lib\\site-packages\\sklearn\\ensemble\\forest.py:245: FutureWarning: The default value of n_estimators will change from 10 in version 0.20 to 100 in 0.22.\n",
      "  \"10 in version 0.20 to 100 in 0.22.\", FutureWarning)\n"
     ]
    },
    {
     "name": "stdout",
     "output_type": "stream",
     "text": [
      " the number of tree is 10\n",
      "train the random forest tree model with maxdepth is 38\n"
     ]
    },
    {
     "name": "stderr",
     "output_type": "stream",
     "text": [
      "c:\\users\\lixx3527\\anaconda2\\envs\\pytorch_new\\lib\\site-packages\\sklearn\\ensemble\\forest.py:245: FutureWarning: The default value of n_estimators will change from 10 in version 0.20 to 100 in 0.22.\n",
      "  \"10 in version 0.20 to 100 in 0.22.\", FutureWarning)\n"
     ]
    },
    {
     "name": "stdout",
     "output_type": "stream",
     "text": [
      "the testing accuray are: \n",
      "[0.6223544973544973, 0.746031746031746, 0.7896825396825397, 0.8128306878306878, 0.8267195767195767, 0.8369708994708994, 0.8432539682539683, 0.8343253968253969, 0.8389550264550265, 0.8429232804232805, 0.8287037037037037, 0.8429232804232805]\n",
      "the training accuray are: \n",
      "[0.6354993386243386, 0.7778604497354498, 0.8582175925925926, 0.9213789682539683, 0.9654431216931217, 0.984457671957672, 0.9894179894179894, 0.9934689153439153, 0.9938822751322751, 0.9942956349206349, 0.9951223544973545, 0.9937169312169312]\n",
      "the best accuracy is : 0.8432539682539683\n"
     ]
    }
   ],
   "source": [
    "# train  random FT model and fix n_estimator == 10\n",
    "# thorugh change depth of tree to investigate the accuracy changes\n",
    "\n",
    "test_accuracy = []\n",
    "train_accuracy = []\n",
    "RFT_model = None\n",
    "max_acc = 0\n",
    "for num in range(5, 40, 3):\n",
    "    test_acc, train_acc, model = train_inference_random_forest_tree(10, num)\n",
    "    if RFT_model==None or max_acc < test_acc:\n",
    "        max_acc = test_acc\n",
    "        RFT_model = model\n",
    "    test_accuracy.append(test_acc)\n",
    "    train_accuracy.append(train_acc)\n",
    "print(\"the testing accuray are: \")\n",
    "print(test_accuracy)\n",
    "print(\"the training accuray are: \")\n",
    "print(train_accuracy)\n",
    "print(\"the best accuracy is : \" +str(max_acc))"
   ]
  },
  {
   "cell_type": "code",
   "execution_count": 24,
   "metadata": {},
   "outputs": [
    {
     "data": {
      "image/png": "[encoded data removed]",
      "text/plain": [
       "<Figure size 432x288 with 1 Axes>"
      ]
     },
     "metadata": {
      "needs_background": "light"
     },
     "output_type": "display_data"
    }
   ],
   "source": [
    "# draw random forest tree result, when we have 10 different tree\n",
    "import matplotlib.pyplot as plt\n",
    "plt.plot(range(5, 40, 3), test_accuracy, label='testing accuracy')\n",
    "plt.plot(range(5, 40, 3), train_accuracy, label = 'training accuracy')\n",
    "plt.ylabel(\"the accuracy\")\n",
    "plt.xlabel(\"the number of neigbors in KNN model\")\n",
    "plt.legend(loc='lower left')\n",
    "plt.show()"
   ]
  },
  {
   "cell_type": "code",
   "execution_count": 25,
   "metadata": {},
   "outputs": [
    {
     "name": "stdout",
     "output_type": "stream",
     "text": [
      " the number of tree is 30\n",
      "train the random forest tree model with maxdepth is 5\n"
     ]
    },
    {
     "name": "stderr",
     "output_type": "stream",
     "text": [
      "c:\\users\\lixx3527\\anaconda2\\envs\\pytorch_new\\lib\\site-packages\\sklearn\\ensemble\\forest.py:245: FutureWarning: The default value of n_estimators will change from 10 in version 0.20 to 100 in 0.22.\n",
      "  \"10 in version 0.20 to 100 in 0.22.\", FutureWarning)\n"
     ]
    },
    {
     "name": "stdout",
     "output_type": "stream",
     "text": [
      " the number of tree is 30\n",
      "train the random forest tree model with maxdepth is 8\n"
     ]
    },
    {
     "name": "stderr",
     "output_type": "stream",
     "text": [
      "c:\\users\\lixx3527\\anaconda2\\envs\\pytorch_new\\lib\\site-packages\\sklearn\\ensemble\\forest.py:245: FutureWarning: The default value of n_estimators will change from 10 in version 0.20 to 100 in 0.22.\n",
      "  \"10 in version 0.20 to 100 in 0.22.\", FutureWarning)\n"
     ]
    },
    {
     "name": "stdout",
     "output_type": "stream",
     "text": [
      " the number of tree is 30\n",
      "train the random forest tree model with maxdepth is 11\n"
     ]
    },
    {
     "name": "stderr",
     "output_type": "stream",
     "text": [
      "c:\\users\\lixx3527\\anaconda2\\envs\\pytorch_new\\lib\\site-packages\\sklearn\\ensemble\\forest.py:245: FutureWarning: The default value of n_estimators will change from 10 in version 0.20 to 100 in 0.22.\n",
      "  \"10 in version 0.20 to 100 in 0.22.\", FutureWarning)\n"
     ]
    },
    {
     "name": "stdout",
     "output_type": "stream",
     "text": [
      " the number of tree is 30\n",
      "train the random forest tree model with maxdepth is 14\n"
     ]
    },
    {
     "name": "stderr",
     "output_type": "stream",
     "text": [
      "c:\\users\\lixx3527\\anaconda2\\envs\\pytorch_new\\lib\\site-packages\\sklearn\\ensemble\\forest.py:245: FutureWarning: The default value of n_estimators will change from 10 in version 0.20 to 100 in 0.22.\n",
      "  \"10 in version 0.20 to 100 in 0.22.\", FutureWarning)\n"
     ]
    },
    {
     "name": "stdout",
     "output_type": "stream",
     "text": [
      " the number of tree is 30\n",
      "train the random forest tree model with maxdepth is 17\n"
     ]
    },
    {
     "name": "stderr",
     "output_type": "stream",
     "text": [
      "c:\\users\\lixx3527\\anaconda2\\envs\\pytorch_new\\lib\\site-packages\\sklearn\\ensemble\\forest.py:245: FutureWarning: The default value of n_estimators will change from 10 in version 0.20 to 100 in 0.22.\n",
      "  \"10 in version 0.20 to 100 in 0.22.\", FutureWarning)\n"
     ]
    },
    {
     "name": "stdout",
     "output_type": "stream",
     "text": [
      " the number of tree is 30\n",
      "train the random forest tree model with maxdepth is 20\n"
     ]
    },
    {
     "name": "stderr",
     "output_type": "stream",
     "text": [
      "c:\\users\\lixx3527\\anaconda2\\envs\\pytorch_new\\lib\\site-packages\\sklearn\\ensemble\\forest.py:245: FutureWarning: The default value of n_estimators will change from 10 in version 0.20 to 100 in 0.22.\n",
      "  \"10 in version 0.20 to 100 in 0.22.\", FutureWarning)\n"
     ]
    },
    {
     "name": "stdout",
     "output_type": "stream",
     "text": [
      " the number of tree is 30\n",
      "train the random forest tree model with maxdepth is 23\n"
     ]
    },
    {
     "name": "stderr",
     "output_type": "stream",
     "text": [
      "c:\\users\\lixx3527\\anaconda2\\envs\\pytorch_new\\lib\\site-packages\\sklearn\\ensemble\\forest.py:245: FutureWarning: The default value of n_estimators will change from 10 in version 0.20 to 100 in 0.22.\n",
      "  \"10 in version 0.20 to 100 in 0.22.\", FutureWarning)\n"
     ]
    },
    {
     "name": "stdout",
     "output_type": "stream",
     "text": [
      " the number of tree is 30\n",
      "train the random forest tree model with maxdepth is 26\n"
     ]
    },
    {
     "name": "stderr",
     "output_type": "stream",
     "text": [
      "c:\\users\\lixx3527\\anaconda2\\envs\\pytorch_new\\lib\\site-packages\\sklearn\\ensemble\\forest.py:245: FutureWarning: The default value of n_estimators will change from 10 in version 0.20 to 100 in 0.22.\n",
      "  \"10 in version 0.20 to 100 in 0.22.\", FutureWarning)\n"
     ]
    },
    {
     "name": "stdout",
     "output_type": "stream",
     "text": [
      " the number of tree is 30\n",
      "train the random forest tree model with maxdepth is 29\n"
     ]
    },
    {
     "name": "stderr",
     "output_type": "stream",
     "text": [
      "c:\\users\\lixx3527\\anaconda2\\envs\\pytorch_new\\lib\\site-packages\\sklearn\\ensemble\\forest.py:245: FutureWarning: The default value of n_estimators will change from 10 in version 0.20 to 100 in 0.22.\n",
      "  \"10 in version 0.20 to 100 in 0.22.\", FutureWarning)\n"
     ]
    },
    {
     "name": "stdout",
     "output_type": "stream",
     "text": [
      " the number of tree is 30\n",
      "train the random forest tree model with maxdepth is 32\n"
     ]
    },
    {
     "name": "stderr",
     "output_type": "stream",
     "text": [
      "c:\\users\\lixx3527\\anaconda2\\envs\\pytorch_new\\lib\\site-packages\\sklearn\\ensemble\\forest.py:245: FutureWarning: The default value of n_estimators will change from 10 in version 0.20 to 100 in 0.22.\n",
      "  \"10 in version 0.20 to 100 in 0.22.\", FutureWarning)\n"
     ]
    },
    {
     "name": "stdout",
     "output_type": "stream",
     "text": [
      " the number of tree is 30\n",
      "train the random forest tree model with maxdepth is 35\n"
     ]
    },
    {
     "name": "stderr",
     "output_type": "stream",
     "text": [
      "c:\\users\\lixx3527\\anaconda2\\envs\\pytorch_new\\lib\\site-packages\\sklearn\\ensemble\\forest.py:245: FutureWarning: The default value of n_estimators will change from 10 in version 0.20 to 100 in 0.22.\n",
      "  \"10 in version 0.20 to 100 in 0.22.\", FutureWarning)\n"
     ]
    },
    {
     "name": "stdout",
     "output_type": "stream",
     "text": [
      " the number of tree is 30\n",
      "train the random forest tree model with maxdepth is 38\n"
     ]
    },
    {
     "name": "stderr",
     "output_type": "stream",
     "text": [
      "c:\\users\\lixx3527\\anaconda2\\envs\\pytorch_new\\lib\\site-packages\\sklearn\\ensemble\\forest.py:245: FutureWarning: The default value of n_estimators will change from 10 in version 0.20 to 100 in 0.22.\n",
      "  \"10 in version 0.20 to 100 in 0.22.\", FutureWarning)\n"
     ]
    },
    {
     "name": "stdout",
     "output_type": "stream",
     "text": [
      "the testing accuray are: \n",
      "[0.65244708994709, 0.7311507936507936, 0.7906746031746031, 0.8161375661375662, 0.832010582010582, 0.8277116402116402, 0.841931216931217, 0.83994708994709, 0.8392857142857143, 0.8376322751322751, 0.8363095238095238, 0.8376322751322751]\n",
      "the training accuray are: \n",
      "[0.6771660052910053, 0.7642195767195767, 0.8523478835978836, 0.9274966931216931, 0.9698247354497355, 0.9818121693121693, 0.9909887566137566, 0.9946263227513228, 0.9937169312169312, 0.9942129629629629, 0.9948743386243386, 0.9937996031746031]\n",
      "the best accuracy is : 0.841931216931217\n"
     ]
    }
   ],
   "source": [
    "# set the number of ramdom forest tree as 30, and re_train the ramdom foreste tree model\n",
    "test_accuracy = []\n",
    "train_accuracy = []\n",
    "RFT_model = None\n",
    "max_acc = 0\n",
    "for num in range(5, 40, 3):\n",
    "    test_acc, train_acc, model = train_inference_random_forest_tree(30, num)\n",
    "    if RFT_model==None or max_acc < test_acc:\n",
    "        max_acc = test_acc\n",
    "        RFT_model = model\n",
    "    test_accuracy.append(test_acc)\n",
    "    train_accuracy.append(train_acc)\n",
    "print(\"the testing accuray are: \")\n",
    "print(test_accuracy)\n",
    "print(\"the training accuray are: \")\n",
    "print(train_accuracy)\n",
    "print(\"the best accuracy is : \" +str(max_acc))"
   ]
  },
  {
   "cell_type": "code",
   "execution_count": 26,
   "metadata": {},
   "outputs": [
    {
     "data": {
      "image/png": "[encoded data removed]",
      "text/plain": [
       "<Figure size 432x288 with 1 Axes>"
      ]
     },
     "metadata": {
      "needs_background": "light"
     },
     "output_type": "display_data"
    }
   ],
   "source": [
    "import matplotlib.pyplot as plt\n",
    "plt.plot(range(5, 40, 3), test_accuracy, label='testing accuracy')\n",
    "plt.plot(range(5, 40, 3), train_accuracy, label = 'training accuracy')\n",
    "plt.ylabel(\"the accuracy\")\n",
    "plt.xlabel(\"the number of neigbors in KNN model\")\n",
    "plt.legend(loc='lower left')\n",
    "plt.show()"
   ]
  },
  {
   "cell_type": "code",
   "execution_count": 27,
   "metadata": {},
   "outputs": [
    {
     "name": "stdout",
     "output_type": "stream",
     "text": [
      " the number of tree is 30\n",
      "train the random forest tree model with maxdepth is 5\n"
     ]
    },
    {
     "name": "stderr",
     "output_type": "stream",
     "text": [
      "c:\\users\\lixx3527\\anaconda2\\envs\\pytorch_new\\lib\\site-packages\\sklearn\\ensemble\\forest.py:245: FutureWarning: The default value of n_estimators will change from 10 in version 0.20 to 100 in 0.22.\n",
      "  \"10 in version 0.20 to 100 in 0.22.\", FutureWarning)\n"
     ]
    },
    {
     "name": "stdout",
     "output_type": "stream",
     "text": [
      " the number of tree is 30\n",
      "train the random forest tree model with maxdepth is 8\n"
     ]
    },
    {
     "name": "stderr",
     "output_type": "stream",
     "text": [
      "c:\\users\\lixx3527\\anaconda2\\envs\\pytorch_new\\lib\\site-packages\\sklearn\\ensemble\\forest.py:245: FutureWarning: The default value of n_estimators will change from 10 in version 0.20 to 100 in 0.22.\n",
      "  \"10 in version 0.20 to 100 in 0.22.\", FutureWarning)\n"
     ]
    },
    {
     "name": "stdout",
     "output_type": "stream",
     "text": [
      " the number of tree is 30\n",
      "train the random forest tree model with maxdepth is 11\n"
     ]
    },
    {
     "name": "stderr",
     "output_type": "stream",
     "text": [
      "c:\\users\\lixx3527\\anaconda2\\envs\\pytorch_new\\lib\\site-packages\\sklearn\\ensemble\\forest.py:245: FutureWarning: The default value of n_estimators will change from 10 in version 0.20 to 100 in 0.22.\n",
      "  \"10 in version 0.20 to 100 in 0.22.\", FutureWarning)\n"
     ]
    },
    {
     "name": "stdout",
     "output_type": "stream",
     "text": [
      " the number of tree is 30\n",
      "train the random forest tree model with maxdepth is 14\n"
     ]
    },
    {
     "name": "stderr",
     "output_type": "stream",
     "text": [
      "c:\\users\\lixx3527\\anaconda2\\envs\\pytorch_new\\lib\\site-packages\\sklearn\\ensemble\\forest.py:245: FutureWarning: The default value of n_estimators will change from 10 in version 0.20 to 100 in 0.22.\n",
      "  \"10 in version 0.20 to 100 in 0.22.\", FutureWarning)\n"
     ]
    },
    {
     "name": "stdout",
     "output_type": "stream",
     "text": [
      " the number of tree is 30\n",
      "train the random forest tree model with maxdepth is 17\n"
     ]
    },
    {
     "name": "stderr",
     "output_type": "stream",
     "text": [
      "c:\\users\\lixx3527\\anaconda2\\envs\\pytorch_new\\lib\\site-packages\\sklearn\\ensemble\\forest.py:245: FutureWarning: The default value of n_estimators will change from 10 in version 0.20 to 100 in 0.22.\n",
      "  \"10 in version 0.20 to 100 in 0.22.\", FutureWarning)\n"
     ]
    },
    {
     "name": "stdout",
     "output_type": "stream",
     "text": [
      " the number of tree is 30\n",
      "train the random forest tree model with maxdepth is 20\n"
     ]
    },
    {
     "name": "stderr",
     "output_type": "stream",
     "text": [
      "c:\\users\\lixx3527\\anaconda2\\envs\\pytorch_new\\lib\\site-packages\\sklearn\\ensemble\\forest.py:245: FutureWarning: The default value of n_estimators will change from 10 in version 0.20 to 100 in 0.22.\n",
      "  \"10 in version 0.20 to 100 in 0.22.\", FutureWarning)\n"
     ]
    },
    {
     "name": "stdout",
     "output_type": "stream",
     "text": [
      " the number of tree is 30\n",
      "train the random forest tree model with maxdepth is 23\n"
     ]
    },
    {
     "name": "stderr",
     "output_type": "stream",
     "text": [
      "c:\\users\\lixx3527\\anaconda2\\envs\\pytorch_new\\lib\\site-packages\\sklearn\\ensemble\\forest.py:245: FutureWarning: The default value of n_estimators will change from 10 in version 0.20 to 100 in 0.22.\n",
      "  \"10 in version 0.20 to 100 in 0.22.\", FutureWarning)\n"
     ]
    },
    {
     "name": "stdout",
     "output_type": "stream",
     "text": [
      " the number of tree is 30\n",
      "train the random forest tree model with maxdepth is 26\n"
     ]
    },
    {
     "name": "stderr",
     "output_type": "stream",
     "text": [
      "c:\\users\\lixx3527\\anaconda2\\envs\\pytorch_new\\lib\\site-packages\\sklearn\\ensemble\\forest.py:245: FutureWarning: The default value of n_estimators will change from 10 in version 0.20 to 100 in 0.22.\n",
      "  \"10 in version 0.20 to 100 in 0.22.\", FutureWarning)\n"
     ]
    },
    {
     "name": "stdout",
     "output_type": "stream",
     "text": [
      " the number of tree is 30\n",
      "train the random forest tree model with maxdepth is 29\n"
     ]
    },
    {
     "name": "stderr",
     "output_type": "stream",
     "text": [
      "c:\\users\\lixx3527\\anaconda2\\envs\\pytorch_new\\lib\\site-packages\\sklearn\\ensemble\\forest.py:245: FutureWarning: The default value of n_estimators will change from 10 in version 0.20 to 100 in 0.22.\n",
      "  \"10 in version 0.20 to 100 in 0.22.\", FutureWarning)\n"
     ]
    },
    {
     "name": "stdout",
     "output_type": "stream",
     "text": [
      " the number of tree is 30\n",
      "train the random forest tree model with maxdepth is 32\n"
     ]
    },
    {
     "name": "stderr",
     "output_type": "stream",
     "text": [
      "c:\\users\\lixx3527\\anaconda2\\envs\\pytorch_new\\lib\\site-packages\\sklearn\\ensemble\\forest.py:245: FutureWarning: The default value of n_estimators will change from 10 in version 0.20 to 100 in 0.22.\n",
      "  \"10 in version 0.20 to 100 in 0.22.\", FutureWarning)\n"
     ]
    },
    {
     "name": "stdout",
     "output_type": "stream",
     "text": [
      " the number of tree is 30\n",
      "train the random forest tree model with maxdepth is 35\n"
     ]
    },
    {
     "name": "stderr",
     "output_type": "stream",
     "text": [
      "c:\\users\\lixx3527\\anaconda2\\envs\\pytorch_new\\lib\\site-packages\\sklearn\\ensemble\\forest.py:245: FutureWarning: The default value of n_estimators will change from 10 in version 0.20 to 100 in 0.22.\n",
      "  \"10 in version 0.20 to 100 in 0.22.\", FutureWarning)\n"
     ]
    },
    {
     "name": "stdout",
     "output_type": "stream",
     "text": [
      " the number of tree is 30\n",
      "train the random forest tree model with maxdepth is 38\n"
     ]
    },
    {
     "name": "stderr",
     "output_type": "stream",
     "text": [
      "c:\\users\\lixx3527\\anaconda2\\envs\\pytorch_new\\lib\\site-packages\\sklearn\\ensemble\\forest.py:245: FutureWarning: The default value of n_estimators will change from 10 in version 0.20 to 100 in 0.22.\n",
      "  \"10 in version 0.20 to 100 in 0.22.\", FutureWarning)\n"
     ]
    },
    {
     "name": "stdout",
     "output_type": "stream",
     "text": [
      "the testing accuray are: \n",
      "[0.6706349206349206, 0.7308201058201058, 0.7817460317460317, 0.8118386243386243, 0.8227513227513228, 0.8330026455026455, 0.8416005291005291, 0.8389550264550265, 0.8349867724867724, 0.8452380952380952, 0.8356481481481481, 0.8406084656084656]\n",
      "the training accuray are: \n",
      "[0.6677414021164021, 0.7631448412698413, 0.8625165343915344, 0.9274966931216931, 0.9661871693121693, 0.9816468253968254, 0.9919808201058201, 0.9951223544973545, 0.9936342592592593, 0.9954530423280423, 0.9937169312169312, 0.9939649470899471]\n",
      "the best accuracy is : 0.8452380952380952\n"
     ]
    },
    {
     "data": {
      "image/png": "[encoded data removed]",
      "text/plain": [
       "<Figure size 432x288 with 1 Axes>"
      ]
     },
     "metadata": {
      "needs_background": "light"
     },
     "output_type": "display_data"
    }
   ],
   "source": [
    "# set the number of ramdom forest tree as 100, and re_train the ramdom foreste tree model\n",
    "test_accuracy = []\n",
    "train_accuracy = []\n",
    "RFT_model = None\n",
    "max_acc = 0\n",
    "for num in range(5, 40, 3):\n",
    "    test_acc, train_acc, model = train_inference_random_forest_tree(30, num)\n",
    "    if RFT_model==None or max_acc < test_acc:\n",
    "        max_acc = test_acc\n",
    "        RFT_model = model\n",
    "    test_accuracy.append(test_acc)\n",
    "    train_accuracy.append(train_acc)\n",
    "print(\"the testing accuray are: \")\n",
    "print(test_accuracy)\n",
    "print(\"the training accuray are: \")\n",
    "print(train_accuracy)\n",
    "print(\"the best accuracy is : \" +str(max_acc))\n",
    "\n",
    "\n",
    "# draw the training and test result\n",
    "plt.plot(range(5, 40, 3), test_accuracy, label='testing accuracy')\n",
    "plt.plot(range(5, 40, 3), train_accuracy, label = 'training accuracy')\n",
    "plt.ylabel(\"the accuracy\")\n",
    "plt.xlabel(\"the number of neigbors in KNN model\")\n",
    "plt.legend(loc='lower left')\n",
    "plt.show()"
   ]
  },
  {
   "cell_type": "markdown",
   "metadata": {},
   "source": [
    "### the reason is accuracy is a little low is that the model could be overfitting. Also, the data wasn't preprocessed, so we need to preprocess the data so that we can get better result. "
   ]
  },
  {
   "cell_type": "code",
   "execution_count": 28,
   "metadata": {},
   "outputs": [],
   "source": [
    "from sklearn.preprocessing import StandardScaler\n",
    "columns = []\n",
    "for name in train.columns:\n",
    "    columns.append(name)\n",
    "\n",
    "# use PCA to preprocess data, firtly try 7 components \n",
    "from sklearn.decomposition import PCA\n",
    "X = train.loc[:,columns].values\n",
    "X = StandardScaler().fit_transform(X)\n",
    "pca = PCA(n_components=15)\n",
    "principalComponents = pca.fit_transform(X)\n",
    "principalDf = pd.DataFrame(data = principalComponents\n",
    "             , columns = ['p1', 'p2', 'p3', 'p4', 'p5', 'p6', 'p7', 'p8', 'p9', 'p10', 'p11', 'p12', 'p13', 'p14', 'p15'])"
   ]
  },
  {
   "cell_type": "code",
   "execution_count": 29,
   "metadata": {},
   "outputs": [
    {
     "data": {
      "text/html": [
       "<div>\n",
       "<style scoped>\n",
       "    .dataframe tbody tr th:only-of-type {\n",
       "        vertical-align: middle;\n",
       "    }\n",
       "\n",
       "    .dataframe tbody tr th {\n",
       "        vertical-align: top;\n",
       "    }\n",
       "\n",
       "    .dataframe thead th {\n",
       "        text-align: right;\n",
       "    }\n",
       "</style>\n",
       "<table border=\"1\" class=\"dataframe\">\n",
       "  <thead>\n",
       "    <tr style=\"text-align: right;\">\n",
       "      <th></th>\n",
       "      <th>p1</th>\n",
       "      <th>p2</th>\n",
       "      <th>p3</th>\n",
       "      <th>p4</th>\n",
       "      <th>p5</th>\n",
       "      <th>p6</th>\n",
       "      <th>p7</th>\n",
       "      <th>p8</th>\n",
       "      <th>p9</th>\n",
       "      <th>p10</th>\n",
       "      <th>p11</th>\n",
       "      <th>p12</th>\n",
       "      <th>p13</th>\n",
       "      <th>p14</th>\n",
       "      <th>p15</th>\n",
       "    </tr>\n",
       "  </thead>\n",
       "  <tbody>\n",
       "    <tr>\n",
       "      <td>0</td>\n",
       "      <td>-2.377789</td>\n",
       "      <td>2.087455</td>\n",
       "      <td>-2.616721</td>\n",
       "      <td>0.869504</td>\n",
       "      <td>0.324516</td>\n",
       "      <td>1.197697</td>\n",
       "      <td>-0.591983</td>\n",
       "      <td>0.853697</td>\n",
       "      <td>0.525005</td>\n",
       "      <td>0.630456</td>\n",
       "      <td>-1.176891</td>\n",
       "      <td>-0.116684</td>\n",
       "      <td>-0.731289</td>\n",
       "      <td>0.483218</td>\n",
       "      <td>-0.384280</td>\n",
       "    </tr>\n",
       "    <tr>\n",
       "      <td>1</td>\n",
       "      <td>-2.348891</td>\n",
       "      <td>1.991122</td>\n",
       "      <td>-2.812908</td>\n",
       "      <td>0.750167</td>\n",
       "      <td>0.300716</td>\n",
       "      <td>1.141064</td>\n",
       "      <td>-0.568093</td>\n",
       "      <td>0.832179</td>\n",
       "      <td>0.527494</td>\n",
       "      <td>0.639633</td>\n",
       "      <td>-1.179148</td>\n",
       "      <td>-0.109954</td>\n",
       "      <td>-0.723629</td>\n",
       "      <td>0.487204</td>\n",
       "      <td>-0.378126</td>\n",
       "    </tr>\n",
       "    <tr>\n",
       "      <td>2</td>\n",
       "      <td>-3.167760</td>\n",
       "      <td>1.962532</td>\n",
       "      <td>-2.324403</td>\n",
       "      <td>1.153076</td>\n",
       "      <td>1.197500</td>\n",
       "      <td>1.858529</td>\n",
       "      <td>-1.039011</td>\n",
       "      <td>1.716831</td>\n",
       "      <td>3.875390</td>\n",
       "      <td>-1.530279</td>\n",
       "      <td>1.936691</td>\n",
       "      <td>-0.002359</td>\n",
       "      <td>0.680128</td>\n",
       "      <td>-1.375194</td>\n",
       "      <td>1.387043</td>\n",
       "    </tr>\n",
       "    <tr>\n",
       "      <td>3</td>\n",
       "      <td>-2.377792</td>\n",
       "      <td>2.682071</td>\n",
       "      <td>-0.785510</td>\n",
       "      <td>1.708052</td>\n",
       "      <td>-0.076029</td>\n",
       "      <td>0.841399</td>\n",
       "      <td>2.417976</td>\n",
       "      <td>-0.350472</td>\n",
       "      <td>0.924038</td>\n",
       "      <td>-1.127965</td>\n",
       "      <td>0.804192</td>\n",
       "      <td>0.465892</td>\n",
       "      <td>0.519611</td>\n",
       "      <td>-0.380104</td>\n",
       "      <td>-0.350624</td>\n",
       "    </tr>\n",
       "    <tr>\n",
       "      <td>4</td>\n",
       "      <td>-2.274801</td>\n",
       "      <td>2.062989</td>\n",
       "      <td>-2.846000</td>\n",
       "      <td>0.698228</td>\n",
       "      <td>0.230554</td>\n",
       "      <td>1.085716</td>\n",
       "      <td>-0.586891</td>\n",
       "      <td>0.841795</td>\n",
       "      <td>0.514487</td>\n",
       "      <td>0.665218</td>\n",
       "      <td>-1.178445</td>\n",
       "      <td>-0.113546</td>\n",
       "      <td>-0.713052</td>\n",
       "      <td>0.485071</td>\n",
       "      <td>-0.370622</td>\n",
       "    </tr>\n",
       "  </tbody>\n",
       "</table>\n",
       "</div>"
      ],
      "text/plain": [
       "         p1        p2        p3        p4        p5        p6        p7  \\\n",
       "0 -2.377789  2.087455 -2.616721  0.869504  0.324516  1.197697 -0.591983   \n",
       "1 -2.348891  1.991122 -2.812908  0.750167  0.300716  1.141064 -0.568093   \n",
       "2 -3.167760  1.962532 -2.324403  1.153076  1.197500  1.858529 -1.039011   \n",
       "3 -2.377792  2.682071 -0.785510  1.708052 -0.076029  0.841399  2.417976   \n",
       "4 -2.274801  2.062989 -2.846000  0.698228  0.230554  1.085716 -0.586891   \n",
       "\n",
       "         p8        p9       p10       p11       p12       p13       p14  \\\n",
       "0  0.853697  0.525005  0.630456 -1.176891 -0.116684 -0.731289  0.483218   \n",
       "1  0.832179  0.527494  0.639633 -1.179148 -0.109954 -0.723629  0.487204   \n",
       "2  1.716831  3.875390 -1.530279  1.936691 -0.002359  0.680128 -1.375194   \n",
       "3 -0.350472  0.924038 -1.127965  0.804192  0.465892  0.519611 -0.380104   \n",
       "4  0.841795  0.514487  0.665218 -1.178445 -0.113546 -0.713052  0.485071   \n",
       "\n",
       "        p15  \n",
       "0 -0.384280  \n",
       "1 -0.378126  \n",
       "2  1.387043  \n",
       "3 -0.350624  \n",
       "4 -0.370622  "
      ]
     },
     "execution_count": 29,
     "metadata": {},
     "output_type": "execute_result"
    }
   ],
   "source": [
    "principalDf.head()"
   ]
  },
  {
   "cell_type": "code",
   "execution_count": 30,
   "metadata": {},
   "outputs": [
    {
     "name": "stdout",
     "output_type": "stream",
     "text": [
      " the number of total pricipalDf is 15120\n"
     ]
    }
   ],
   "source": [
    "print(\" the number of total pricipalDf is \" + str(len(principalDf)))"
   ]
  },
  {
   "cell_type": "code",
   "execution_count": 31,
   "metadata": {},
   "outputs": [],
   "source": [
    "X_train, X_test, y_train, y_test = train_test_split(principalDf, train_labels, test_size=0.2, random_state=42, shuffle = True)"
   ]
  },
  {
   "cell_type": "code",
   "execution_count": 32,
   "metadata": {},
   "outputs": [
    {
     "name": "stdout",
     "output_type": "stream",
     "text": [
      "training KNN model ...\n",
      "the number of neig is: 3\n",
      "training KNN model ...\n",
      "the number of neig is: 5\n",
      "training KNN model ...\n",
      "the number of neig is: 7\n",
      "training KNN model ...\n",
      "the number of neig is: 9\n",
      "training KNN model ...\n",
      "the number of neig is: 11\n",
      "training KNN model ...\n",
      "the number of neig is: 13\n",
      "training KNN model ...\n",
      "the number of neig is: 15\n",
      "training KNN model ...\n",
      "the number of neig is: 17\n",
      "the test accuracies are: \n",
      "[0.7585978835978836, 0.7533068783068783, 0.7516534391534392, 0.7374338624338624, 0.7414021164021164, 0.732473544973545, 0.7251984126984127, 0.7195767195767195]\n",
      "the training accraucy are : \n",
      "[0.872933201058201, 0.8344907407407407, 0.8074570105820106, 0.7959656084656085, 0.781415343915344, 0.7705853174603174, 0.7634755291005291, 0.7545469576719577]\n",
      "the best accuracy is : 0.7585978835978836\n"
     ]
    }
   ],
   "source": [
    "test_accuracy = []\n",
    "train_accuracy = []\n",
    "max_acc = 0\n",
    "KNN_model = None\n",
    "for num in range(3, 19, 2):\n",
    "    test_acc, train_acc, model = train_inference_KNN(num)\n",
    "    if KNN_model == None or max_acc < test_acc:\n",
    "        max_acc = test_acc\n",
    "        KNN_model = model\n",
    "    test_accuracy.append(test_acc)\n",
    "    train_accuracy.append(train_acc)\n",
    "print(\"the test accuracies are: \")\n",
    "print(test_accuracy)\n",
    "print(\"the training accraucy are : \")\n",
    "print(train_accuracy)\n",
    "print(\"the best accuracy is : \" +str(max_acc))"
   ]
  },
  {
   "cell_type": "code",
   "execution_count": 33,
   "metadata": {},
   "outputs": [
    {
     "data": {
      "image/png": "[encoded data removed]",
      "text/plain": [
       "<Figure size 432x288 with 1 Axes>"
      ]
     },
     "metadata": {
      "needs_background": "light"
     },
     "output_type": "display_data"
    }
   ],
   "source": [
    "import matplotlib.pyplot as plt\n",
    "plt.plot(range(3, 19, 2), test_accuracy, label='testing accuracy')\n",
    "plt.plot(range(3, 19, 2), train_accuracy, label = 'training accuracy')\n",
    "plt.ylabel(\"the accuracy\")\n",
    "plt.xlabel(\"the number of neigbors in KNN model\")\n",
    "plt.legend(loc='lower left')\n",
    "plt.show()"
   ]
  },
  {
   "cell_type": "code",
   "execution_count": 22,
   "metadata": {},
   "outputs": [
    {
     "name": "stdout",
     "output_type": "stream",
     "text": [
      " the number of tree is 10\n",
      "train the random forest tree model with maxdepth is 5\n"
     ]
    },
    {
     "name": "stderr",
     "output_type": "stream",
     "text": [
      "c:\\users\\lixx3527\\anaconda2\\envs\\pytorch_new\\lib\\site-packages\\sklearn\\ensemble\\forest.py:245: FutureWarning: The default value of n_estimators will change from 10 in version 0.20 to 100 in 0.22.\n",
      "  \"10 in version 0.20 to 100 in 0.22.\", FutureWarning)\n"
     ]
    },
    {
     "name": "stdout",
     "output_type": "stream",
     "text": [
      " the number of tree is 10\n",
      "train the random forest tree model with maxdepth is 8\n"
     ]
    },
    {
     "name": "stderr",
     "output_type": "stream",
     "text": [
      "c:\\users\\lixx3527\\anaconda2\\envs\\pytorch_new\\lib\\site-packages\\sklearn\\ensemble\\forest.py:245: FutureWarning: The default value of n_estimators will change from 10 in version 0.20 to 100 in 0.22.\n",
      "  \"10 in version 0.20 to 100 in 0.22.\", FutureWarning)\n"
     ]
    },
    {
     "name": "stdout",
     "output_type": "stream",
     "text": [
      " the number of tree is 10\n",
      "train the random forest tree model with maxdepth is 11\n"
     ]
    },
    {
     "name": "stderr",
     "output_type": "stream",
     "text": [
      "c:\\users\\lixx3527\\anaconda2\\envs\\pytorch_new\\lib\\site-packages\\sklearn\\ensemble\\forest.py:245: FutureWarning: The default value of n_estimators will change from 10 in version 0.20 to 100 in 0.22.\n",
      "  \"10 in version 0.20 to 100 in 0.22.\", FutureWarning)\n"
     ]
    },
    {
     "name": "stdout",
     "output_type": "stream",
     "text": [
      " the number of tree is 10\n",
      "train the random forest tree model with maxdepth is 14\n"
     ]
    },
    {
     "name": "stderr",
     "output_type": "stream",
     "text": [
      "c:\\users\\lixx3527\\anaconda2\\envs\\pytorch_new\\lib\\site-packages\\sklearn\\ensemble\\forest.py:245: FutureWarning: The default value of n_estimators will change from 10 in version 0.20 to 100 in 0.22.\n",
      "  \"10 in version 0.20 to 100 in 0.22.\", FutureWarning)\n"
     ]
    },
    {
     "name": "stdout",
     "output_type": "stream",
     "text": [
      " the number of tree is 10\n",
      "train the random forest tree model with maxdepth is 17\n"
     ]
    },
    {
     "name": "stderr",
     "output_type": "stream",
     "text": [
      "c:\\users\\lixx3527\\anaconda2\\envs\\pytorch_new\\lib\\site-packages\\sklearn\\ensemble\\forest.py:245: FutureWarning: The default value of n_estimators will change from 10 in version 0.20 to 100 in 0.22.\n",
      "  \"10 in version 0.20 to 100 in 0.22.\", FutureWarning)\n"
     ]
    },
    {
     "name": "stdout",
     "output_type": "stream",
     "text": [
      " the number of tree is 10\n",
      "train the random forest tree model with maxdepth is 20\n"
     ]
    },
    {
     "name": "stderr",
     "output_type": "stream",
     "text": [
      "c:\\users\\lixx3527\\anaconda2\\envs\\pytorch_new\\lib\\site-packages\\sklearn\\ensemble\\forest.py:245: FutureWarning: The default value of n_estimators will change from 10 in version 0.20 to 100 in 0.22.\n",
      "  \"10 in version 0.20 to 100 in 0.22.\", FutureWarning)\n"
     ]
    },
    {
     "name": "stdout",
     "output_type": "stream",
     "text": [
      " the number of tree is 10\n",
      "train the random forest tree model with maxdepth is 23\n"
     ]
    },
    {
     "name": "stderr",
     "output_type": "stream",
     "text": [
      "c:\\users\\lixx3527\\anaconda2\\envs\\pytorch_new\\lib\\site-packages\\sklearn\\ensemble\\forest.py:245: FutureWarning: The default value of n_estimators will change from 10 in version 0.20 to 100 in 0.22.\n",
      "  \"10 in version 0.20 to 100 in 0.22.\", FutureWarning)\n"
     ]
    },
    {
     "name": "stdout",
     "output_type": "stream",
     "text": [
      " the number of tree is 10\n",
      "train the random forest tree model with maxdepth is 26\n"
     ]
    },
    {
     "name": "stderr",
     "output_type": "stream",
     "text": [
      "c:\\users\\lixx3527\\anaconda2\\envs\\pytorch_new\\lib\\site-packages\\sklearn\\ensemble\\forest.py:245: FutureWarning: The default value of n_estimators will change from 10 in version 0.20 to 100 in 0.22.\n",
      "  \"10 in version 0.20 to 100 in 0.22.\", FutureWarning)\n"
     ]
    },
    {
     "name": "stdout",
     "output_type": "stream",
     "text": [
      " the number of tree is 10\n",
      "train the random forest tree model with maxdepth is 29\n"
     ]
    },
    {
     "name": "stderr",
     "output_type": "stream",
     "text": [
      "c:\\users\\lixx3527\\anaconda2\\envs\\pytorch_new\\lib\\site-packages\\sklearn\\ensemble\\forest.py:245: FutureWarning: The default value of n_estimators will change from 10 in version 0.20 to 100 in 0.22.\n",
      "  \"10 in version 0.20 to 100 in 0.22.\", FutureWarning)\n"
     ]
    },
    {
     "name": "stdout",
     "output_type": "stream",
     "text": [
      " the number of tree is 10\n",
      "train the random forest tree model with maxdepth is 32\n"
     ]
    },
    {
     "name": "stderr",
     "output_type": "stream",
     "text": [
      "c:\\users\\lixx3527\\anaconda2\\envs\\pytorch_new\\lib\\site-packages\\sklearn\\ensemble\\forest.py:245: FutureWarning: The default value of n_estimators will change from 10 in version 0.20 to 100 in 0.22.\n",
      "  \"10 in version 0.20 to 100 in 0.22.\", FutureWarning)\n"
     ]
    },
    {
     "name": "stdout",
     "output_type": "stream",
     "text": [
      " the number of tree is 10\n",
      "train the random forest tree model with maxdepth is 35\n"
     ]
    },
    {
     "name": "stderr",
     "output_type": "stream",
     "text": [
      "c:\\users\\lixx3527\\anaconda2\\envs\\pytorch_new\\lib\\site-packages\\sklearn\\ensemble\\forest.py:245: FutureWarning: The default value of n_estimators will change from 10 in version 0.20 to 100 in 0.22.\n",
      "  \"10 in version 0.20 to 100 in 0.22.\", FutureWarning)\n"
     ]
    },
    {
     "name": "stdout",
     "output_type": "stream",
     "text": [
      " the number of tree is 10\n",
      "train the random forest tree model with maxdepth is 38\n"
     ]
    },
    {
     "name": "stderr",
     "output_type": "stream",
     "text": [
      "c:\\users\\lixx3527\\anaconda2\\envs\\pytorch_new\\lib\\site-packages\\sklearn\\ensemble\\forest.py:245: FutureWarning: The default value of n_estimators will change from 10 in version 0.20 to 100 in 0.22.\n",
      "  \"10 in version 0.20 to 100 in 0.22.\", FutureWarning)\n"
     ]
    },
    {
     "name": "stdout",
     "output_type": "stream",
     "text": [
      "[0.5859788359788359, 0.6636904761904762, 0.7106481481481481, 0.7361111111111112, 0.7496693121693122, 0.7536375661375662, 0.7516534391534392, 0.7443783068783069, 0.7509920634920635, 0.75, 0.7536375661375662, 0.7509920634920635]\n",
      "the best accuracy is : 0.7536375661375662\n"
     ]
    }
   ],
   "source": [
    "# try random forest tree using PCA \n",
    "accuracy = []\n",
    "RFT_model = None\n",
    "max_acc = 0\n",
    "for num in range(5, 40, 3):\n",
    "    cur, model = train_inference_random_forest_tree(10, num)\n",
    "    if RFT_model==None or max_acc < cur:\n",
    "        max_acc = cur\n",
    "        RFT_model = model\n",
    "    accuracy.append(cur)\n",
    "print(accuracy)\n",
    "print(\"the best accuracy is : \" +str(max_acc))"
   ]
  },
  {
   "cell_type": "code",
   "execution_count": 23,
   "metadata": {},
   "outputs": [
    {
     "data": {
      "image/png": "[encoded data removed]",
      "text/plain": [
       "<Figure size 432x288 with 1 Axes>"
      ]
     },
     "metadata": {
      "needs_background": "light"
     },
     "output_type": "display_data"
    }
   ],
   "source": [
    "plt.plot(range(5, 40, 3), accuracy)\n",
    "plt.ylabel(\"the accuracy\")\n",
    "plt.xlabel(\"max_depth in random forest tree model\")\n",
    "plt.show()"
   ]
  },
  {
   "cell_type": "markdown",
   "metadata": {},
   "source": [
    "###  The big problem over here is that we probably didn't choose correct model, let's try gradient boosting tree algorithm, and hope we can get better result"
   ]
  },
  {
   "cell_type": "code",
   "execution_count": 26,
   "metadata": {},
   "outputs": [],
   "source": [
    "def train_inference_GDBT(n_estimator_, max_depth_):\n",
    "    print(\" the number of tree is \" + str(n_estimator_))\n",
    "    print(\"train the GDBT tree model with maxdepth is \" +str(max_depth_))\n",
    "    model = GradientBoostingClassifier(max_depth=max_depth_, n_estimators = n_estimator_)\n",
    "    model.fit(X_train, y_train)\n",
    "    predictions = model.predict(X_test)\n",
    "    return np.sum(predictions == y_test)/len(y_test), model"
   ]
  },
  {
   "cell_type": "code",
   "execution_count": 27,
   "metadata": {},
   "outputs": [
    {
     "name": "stdout",
     "output_type": "stream",
     "text": [
      " the number of tree is 10\n",
      "train the GDBT tree model with maxdepth is 5\n",
      " the number of tree is 10\n",
      "train the GDBT tree model with maxdepth is 8\n",
      " the number of tree is 10\n",
      "train the GDBT tree model with maxdepth is 11\n",
      " the number of tree is 10\n",
      "train the GDBT tree model with maxdepth is 14\n",
      " the number of tree is 10\n",
      "train the GDBT tree model with maxdepth is 17\n",
      " the number of tree is 10\n",
      "train the GDBT tree model with maxdepth is 20\n",
      " the number of tree is 10\n",
      "train the GDBT tree model with maxdepth is 23\n",
      " the number of tree is 10\n",
      "train the GDBT tree model with maxdepth is 26\n",
      " the number of tree is 10\n",
      "train the GDBT tree model with maxdepth is 29\n",
      " the number of tree is 10\n",
      "train the GDBT tree model with maxdepth is 32\n",
      " the number of tree is 10\n",
      "train the GDBT tree model with maxdepth is 35\n",
      " the number of tree is 10\n",
      "train the GDBT tree model with maxdepth is 38\n",
      "[0.7493386243386243, 0.8088624338624338, 0.8283730158730159, 0.8293650793650794, 0.8250661375661376, 0.8184523809523809, 0.8121693121693122, 0.8068783068783069, 0.7986111111111112, 0.796957671957672, 0.7926587301587301, 0.792989417989418]\n",
      "the best accuracy is : 0.8293650793650794\n"
     ]
    }
   ],
   "source": [
    "X_train, X_test, y_train, y_test = train_test_split(train, train_labels, test_size=0.2, random_state=42)\n",
    "accuracy = []\n",
    "GDBT_model = None\n",
    "max_acc = 0\n",
    "for num in range(5, 40, 3):\n",
    "    cur, model = train_inference_GDBT(10, num)\n",
    "    if GDBT_model==None or max_acc < cur:\n",
    "        max_acc = cur\n",
    "        GDBT_model = model\n",
    "    accuracy.append(cur)\n",
    "print(accuracy)\n",
    "print(\"the best accuracy is : \" + str(max_acc))"
   ]
  },
  {
   "cell_type": "code",
   "execution_count": null,
   "metadata": {},
   "outputs": [],
   "source": []
  }
 ],
 "metadata": {
  "kernelspec": {
   "display_name": "Python 3",
   "language": "python",
   "name": "python3"
  },
  "language_info": {
   "codemirror_mode": {
    "name": "ipython",
    "version": 3
   },
   "file_extension": ".py",
   "mimetype": "text/x-python",
   "name": "python",
   "nbconvert_exporter": "python",
   "pygments_lexer": "ipython3",
   "version": "3.6.2"
  }
 },
 "nbformat": 4,
 "nbformat_minor": 2
}
