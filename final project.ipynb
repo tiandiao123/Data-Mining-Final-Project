{
 "cells": [
  {
   "cell_type": "code",
   "execution_count": 1,
   "metadata": {},
   "outputs": [],
   "source": [
    "import numpy as np # linear algebra\n",
    "import pandas as pd # data processing, CSV file I/O (e.g. pd.read_csv)\n",
    "%matplotlib inline\n",
    "import matplotlib.pyplot as plt  # Matlab-style plotting\n",
    "import seaborn as sns"
   ]
  },
  {
   "cell_type": "code",
   "execution_count": 2,
   "metadata": {},
   "outputs": [],
   "source": [
    "import tensorflow as tf\n",
    "train = pd.read_csv('train.csv')\n",
    "test = pd.read_csv('test.csv')"
   ]
  },
  {
   "cell_type": "code",
   "execution_count": 3,
   "metadata": {},
   "outputs": [
    {
     "data": {
      "text/html": [
       "<div>\n",
       "<style scoped>\n",
       "    .dataframe tbody tr th:only-of-type {\n",
       "        vertical-align: middle;\n",
       "    }\n",
       "\n",
       "    .dataframe tbody tr th {\n",
       "        vertical-align: top;\n",
       "    }\n",
       "\n",
       "    .dataframe thead th {\n",
       "        text-align: right;\n",
       "    }\n",
       "</style>\n",
       "<table border=\"1\" class=\"dataframe\">\n",
       "  <thead>\n",
       "    <tr style=\"text-align: right;\">\n",
       "      <th></th>\n",
       "      <th>Elevation</th>\n",
       "      <th>Aspect</th>\n",
       "      <th>Slope</th>\n",
       "      <th>Horizontal_Distance_To_Hydrology</th>\n",
       "      <th>Vertical_Distance_To_Hydrology</th>\n",
       "      <th>Horizontal_Distance_To_Roadways</th>\n",
       "      <th>Hillshade_9am</th>\n",
       "      <th>Hillshade_Noon</th>\n",
       "      <th>Hillshade_3pm</th>\n",
       "      <th>Horizontal_Distance_To_Fire_Points</th>\n",
       "      <th>...</th>\n",
       "      <th>Soil_Type32</th>\n",
       "      <th>Soil_Type33</th>\n",
       "      <th>Soil_Type34</th>\n",
       "      <th>Soil_Type35</th>\n",
       "      <th>Soil_Type36</th>\n",
       "      <th>Soil_Type37</th>\n",
       "      <th>Soil_Type38</th>\n",
       "      <th>Soil_Type39</th>\n",
       "      <th>Soil_Type40</th>\n",
       "      <th>Cover_Type</th>\n",
       "    </tr>\n",
       "  </thead>\n",
       "  <tbody>\n",
       "    <tr>\n",
       "      <th>0</th>\n",
       "      <td>2596</td>\n",
       "      <td>51</td>\n",
       "      <td>3</td>\n",
       "      <td>258</td>\n",
       "      <td>0</td>\n",
       "      <td>510</td>\n",
       "      <td>221</td>\n",
       "      <td>232</td>\n",
       "      <td>148</td>\n",
       "      <td>6279</td>\n",
       "      <td>...</td>\n",
       "      <td>0</td>\n",
       "      <td>0</td>\n",
       "      <td>0</td>\n",
       "      <td>0</td>\n",
       "      <td>0</td>\n",
       "      <td>0</td>\n",
       "      <td>0</td>\n",
       "      <td>0</td>\n",
       "      <td>0</td>\n",
       "      <td>5</td>\n",
       "    </tr>\n",
       "    <tr>\n",
       "      <th>1</th>\n",
       "      <td>2590</td>\n",
       "      <td>56</td>\n",
       "      <td>2</td>\n",
       "      <td>212</td>\n",
       "      <td>-6</td>\n",
       "      <td>390</td>\n",
       "      <td>220</td>\n",
       "      <td>235</td>\n",
       "      <td>151</td>\n",
       "      <td>6225</td>\n",
       "      <td>...</td>\n",
       "      <td>0</td>\n",
       "      <td>0</td>\n",
       "      <td>0</td>\n",
       "      <td>0</td>\n",
       "      <td>0</td>\n",
       "      <td>0</td>\n",
       "      <td>0</td>\n",
       "      <td>0</td>\n",
       "      <td>0</td>\n",
       "      <td>5</td>\n",
       "    </tr>\n",
       "    <tr>\n",
       "      <th>2</th>\n",
       "      <td>2804</td>\n",
       "      <td>139</td>\n",
       "      <td>9</td>\n",
       "      <td>268</td>\n",
       "      <td>65</td>\n",
       "      <td>3180</td>\n",
       "      <td>234</td>\n",
       "      <td>238</td>\n",
       "      <td>135</td>\n",
       "      <td>6121</td>\n",
       "      <td>...</td>\n",
       "      <td>0</td>\n",
       "      <td>0</td>\n",
       "      <td>0</td>\n",
       "      <td>0</td>\n",
       "      <td>0</td>\n",
       "      <td>0</td>\n",
       "      <td>0</td>\n",
       "      <td>0</td>\n",
       "      <td>0</td>\n",
       "      <td>2</td>\n",
       "    </tr>\n",
       "    <tr>\n",
       "      <th>3</th>\n",
       "      <td>2785</td>\n",
       "      <td>155</td>\n",
       "      <td>18</td>\n",
       "      <td>242</td>\n",
       "      <td>118</td>\n",
       "      <td>3090</td>\n",
       "      <td>238</td>\n",
       "      <td>238</td>\n",
       "      <td>122</td>\n",
       "      <td>6211</td>\n",
       "      <td>...</td>\n",
       "      <td>0</td>\n",
       "      <td>0</td>\n",
       "      <td>0</td>\n",
       "      <td>0</td>\n",
       "      <td>0</td>\n",
       "      <td>0</td>\n",
       "      <td>0</td>\n",
       "      <td>0</td>\n",
       "      <td>0</td>\n",
       "      <td>2</td>\n",
       "    </tr>\n",
       "    <tr>\n",
       "      <th>4</th>\n",
       "      <td>2595</td>\n",
       "      <td>45</td>\n",
       "      <td>2</td>\n",
       "      <td>153</td>\n",
       "      <td>-1</td>\n",
       "      <td>391</td>\n",
       "      <td>220</td>\n",
       "      <td>234</td>\n",
       "      <td>150</td>\n",
       "      <td>6172</td>\n",
       "      <td>...</td>\n",
       "      <td>0</td>\n",
       "      <td>0</td>\n",
       "      <td>0</td>\n",
       "      <td>0</td>\n",
       "      <td>0</td>\n",
       "      <td>0</td>\n",
       "      <td>0</td>\n",
       "      <td>0</td>\n",
       "      <td>0</td>\n",
       "      <td>5</td>\n",
       "    </tr>\n",
       "  </tbody>\n",
       "</table>\n",
       "<p>5 rows × 55 columns</p>\n",
       "</div>"
      ],
      "text/plain": [
       "   Elevation  Aspect  Slope  Horizontal_Distance_To_Hydrology  \\\n",
       "0       2596      51      3                               258   \n",
       "1       2590      56      2                               212   \n",
       "2       2804     139      9                               268   \n",
       "3       2785     155     18                               242   \n",
       "4       2595      45      2                               153   \n",
       "\n",
       "   Vertical_Distance_To_Hydrology  Horizontal_Distance_To_Roadways  \\\n",
       "0                               0                              510   \n",
       "1                              -6                              390   \n",
       "2                              65                             3180   \n",
       "3                             118                             3090   \n",
       "4                              -1                              391   \n",
       "\n",
       "   Hillshade_9am  Hillshade_Noon  Hillshade_3pm  \\\n",
       "0            221             232            148   \n",
       "1            220             235            151   \n",
       "2            234             238            135   \n",
       "3            238             238            122   \n",
       "4            220             234            150   \n",
       "\n",
       "   Horizontal_Distance_To_Fire_Points  ...  Soil_Type32  Soil_Type33  \\\n",
       "0                                6279  ...            0            0   \n",
       "1                                6225  ...            0            0   \n",
       "2                                6121  ...            0            0   \n",
       "3                                6211  ...            0            0   \n",
       "4                                6172  ...            0            0   \n",
       "\n",
       "   Soil_Type34  Soil_Type35  Soil_Type36  Soil_Type37  Soil_Type38  \\\n",
       "0            0            0            0            0            0   \n",
       "1            0            0            0            0            0   \n",
       "2            0            0            0            0            0   \n",
       "3            0            0            0            0            0   \n",
       "4            0            0            0            0            0   \n",
       "\n",
       "   Soil_Type39  Soil_Type40  Cover_Type  \n",
       "0            0            0           5  \n",
       "1            0            0           5  \n",
       "2            0            0           2  \n",
       "3            0            0           2  \n",
       "4            0            0           5  \n",
       "\n",
       "[5 rows x 55 columns]"
      ]
     },
     "execution_count": 3,
     "metadata": {},
     "output_type": "execute_result"
    }
   ],
   "source": [
    "train.drop(['Id'], inplace = True, axis = 1 )\n",
    "train.head()"
   ]
  },
  {
   "cell_type": "code",
   "execution_count": 4,
   "metadata": {},
   "outputs": [
    {
     "data": {
      "text/plain": [
       "2160"
      ]
     },
     "execution_count": 4,
     "metadata": {},
     "output_type": "execute_result"
    }
   ],
   "source": [
    "train_labels = train['Cover_Type']\n",
    "np.sum(train_labels == 7)"
   ]
  },
  {
   "cell_type": "code",
   "execution_count": 5,
   "metadata": {},
   "outputs": [
    {
     "data": {
      "text/html": [
       "<div>\n",
       "<style scoped>\n",
       "    .dataframe tbody tr th:only-of-type {\n",
       "        vertical-align: middle;\n",
       "    }\n",
       "\n",
       "    .dataframe tbody tr th {\n",
       "        vertical-align: top;\n",
       "    }\n",
       "\n",
       "    .dataframe thead th {\n",
       "        text-align: right;\n",
       "    }\n",
       "</style>\n",
       "<table border=\"1\" class=\"dataframe\">\n",
       "  <thead>\n",
       "    <tr style=\"text-align: right;\">\n",
       "      <th></th>\n",
       "      <th>Elevation</th>\n",
       "      <th>Aspect</th>\n",
       "      <th>Slope</th>\n",
       "      <th>Horizontal_Distance_To_Hydrology</th>\n",
       "      <th>Vertical_Distance_To_Hydrology</th>\n",
       "      <th>Horizontal_Distance_To_Roadways</th>\n",
       "      <th>Hillshade_9am</th>\n",
       "      <th>Hillshade_Noon</th>\n",
       "      <th>Hillshade_3pm</th>\n",
       "      <th>Horizontal_Distance_To_Fire_Points</th>\n",
       "      <th>...</th>\n",
       "      <th>Soil_Type31</th>\n",
       "      <th>Soil_Type32</th>\n",
       "      <th>Soil_Type33</th>\n",
       "      <th>Soil_Type34</th>\n",
       "      <th>Soil_Type35</th>\n",
       "      <th>Soil_Type36</th>\n",
       "      <th>Soil_Type37</th>\n",
       "      <th>Soil_Type38</th>\n",
       "      <th>Soil_Type39</th>\n",
       "      <th>Soil_Type40</th>\n",
       "    </tr>\n",
       "  </thead>\n",
       "  <tbody>\n",
       "    <tr>\n",
       "      <th>0</th>\n",
       "      <td>2596</td>\n",
       "      <td>51</td>\n",
       "      <td>3</td>\n",
       "      <td>258</td>\n",
       "      <td>0</td>\n",
       "      <td>510</td>\n",
       "      <td>221</td>\n",
       "      <td>232</td>\n",
       "      <td>148</td>\n",
       "      <td>6279</td>\n",
       "      <td>...</td>\n",
       "      <td>0</td>\n",
       "      <td>0</td>\n",
       "      <td>0</td>\n",
       "      <td>0</td>\n",
       "      <td>0</td>\n",
       "      <td>0</td>\n",
       "      <td>0</td>\n",
       "      <td>0</td>\n",
       "      <td>0</td>\n",
       "      <td>0</td>\n",
       "    </tr>\n",
       "    <tr>\n",
       "      <th>1</th>\n",
       "      <td>2590</td>\n",
       "      <td>56</td>\n",
       "      <td>2</td>\n",
       "      <td>212</td>\n",
       "      <td>-6</td>\n",
       "      <td>390</td>\n",
       "      <td>220</td>\n",
       "      <td>235</td>\n",
       "      <td>151</td>\n",
       "      <td>6225</td>\n",
       "      <td>...</td>\n",
       "      <td>0</td>\n",
       "      <td>0</td>\n",
       "      <td>0</td>\n",
       "      <td>0</td>\n",
       "      <td>0</td>\n",
       "      <td>0</td>\n",
       "      <td>0</td>\n",
       "      <td>0</td>\n",
       "      <td>0</td>\n",
       "      <td>0</td>\n",
       "    </tr>\n",
       "    <tr>\n",
       "      <th>2</th>\n",
       "      <td>2804</td>\n",
       "      <td>139</td>\n",
       "      <td>9</td>\n",
       "      <td>268</td>\n",
       "      <td>65</td>\n",
       "      <td>3180</td>\n",
       "      <td>234</td>\n",
       "      <td>238</td>\n",
       "      <td>135</td>\n",
       "      <td>6121</td>\n",
       "      <td>...</td>\n",
       "      <td>0</td>\n",
       "      <td>0</td>\n",
       "      <td>0</td>\n",
       "      <td>0</td>\n",
       "      <td>0</td>\n",
       "      <td>0</td>\n",
       "      <td>0</td>\n",
       "      <td>0</td>\n",
       "      <td>0</td>\n",
       "      <td>0</td>\n",
       "    </tr>\n",
       "    <tr>\n",
       "      <th>3</th>\n",
       "      <td>2785</td>\n",
       "      <td>155</td>\n",
       "      <td>18</td>\n",
       "      <td>242</td>\n",
       "      <td>118</td>\n",
       "      <td>3090</td>\n",
       "      <td>238</td>\n",
       "      <td>238</td>\n",
       "      <td>122</td>\n",
       "      <td>6211</td>\n",
       "      <td>...</td>\n",
       "      <td>0</td>\n",
       "      <td>0</td>\n",
       "      <td>0</td>\n",
       "      <td>0</td>\n",
       "      <td>0</td>\n",
       "      <td>0</td>\n",
       "      <td>0</td>\n",
       "      <td>0</td>\n",
       "      <td>0</td>\n",
       "      <td>0</td>\n",
       "    </tr>\n",
       "    <tr>\n",
       "      <th>4</th>\n",
       "      <td>2595</td>\n",
       "      <td>45</td>\n",
       "      <td>2</td>\n",
       "      <td>153</td>\n",
       "      <td>-1</td>\n",
       "      <td>391</td>\n",
       "      <td>220</td>\n",
       "      <td>234</td>\n",
       "      <td>150</td>\n",
       "      <td>6172</td>\n",
       "      <td>...</td>\n",
       "      <td>0</td>\n",
       "      <td>0</td>\n",
       "      <td>0</td>\n",
       "      <td>0</td>\n",
       "      <td>0</td>\n",
       "      <td>0</td>\n",
       "      <td>0</td>\n",
       "      <td>0</td>\n",
       "      <td>0</td>\n",
       "      <td>0</td>\n",
       "    </tr>\n",
       "  </tbody>\n",
       "</table>\n",
       "<p>5 rows × 54 columns</p>\n",
       "</div>"
      ],
      "text/plain": [
       "   Elevation  Aspect  Slope  Horizontal_Distance_To_Hydrology  \\\n",
       "0       2596      51      3                               258   \n",
       "1       2590      56      2                               212   \n",
       "2       2804     139      9                               268   \n",
       "3       2785     155     18                               242   \n",
       "4       2595      45      2                               153   \n",
       "\n",
       "   Vertical_Distance_To_Hydrology  Horizontal_Distance_To_Roadways  \\\n",
       "0                               0                              510   \n",
       "1                              -6                              390   \n",
       "2                              65                             3180   \n",
       "3                             118                             3090   \n",
       "4                              -1                              391   \n",
       "\n",
       "   Hillshade_9am  Hillshade_Noon  Hillshade_3pm  \\\n",
       "0            221             232            148   \n",
       "1            220             235            151   \n",
       "2            234             238            135   \n",
       "3            238             238            122   \n",
       "4            220             234            150   \n",
       "\n",
       "   Horizontal_Distance_To_Fire_Points  ...  Soil_Type31  Soil_Type32  \\\n",
       "0                                6279  ...            0            0   \n",
       "1                                6225  ...            0            0   \n",
       "2                                6121  ...            0            0   \n",
       "3                                6211  ...            0            0   \n",
       "4                                6172  ...            0            0   \n",
       "\n",
       "   Soil_Type33  Soil_Type34  Soil_Type35  Soil_Type36  Soil_Type37  \\\n",
       "0            0            0            0            0            0   \n",
       "1            0            0            0            0            0   \n",
       "2            0            0            0            0            0   \n",
       "3            0            0            0            0            0   \n",
       "4            0            0            0            0            0   \n",
       "\n",
       "   Soil_Type38  Soil_Type39  Soil_Type40  \n",
       "0            0            0            0  \n",
       "1            0            0            0  \n",
       "2            0            0            0  \n",
       "3            0            0            0  \n",
       "4            0            0            0  \n",
       "\n",
       "[5 rows x 54 columns]"
      ]
     },
     "execution_count": 5,
     "metadata": {},
     "output_type": "execute_result"
    }
   ],
   "source": [
    "train.drop(['Cover_Type'], inplace = True, axis = 1 )\n",
    "train.head()"
   ]
  },
  {
   "cell_type": "code",
   "execution_count": 6,
   "metadata": {},
   "outputs": [],
   "source": [
    "from sklearn.model_selection import train_test_split\n",
    "from sklearn.neighbors import KNeighborsClassifier\n",
    "from sklearn.ensemble import GradientBoostingClassifier\n",
    "X_train, X_test, y_train, y_test = train_test_split(train, train_labels, test_size=0.1, random_state=42, shuffle=True)"
   ]
  },
  {
   "cell_type": "code",
   "execution_count": 12,
   "metadata": {},
   "outputs": [],
   "source": [
    "def train_inference_KNN(number_of_neigbor):\n",
    "    print(\"training KNN model ...\")\n",
    "    print(\"the number of neig is: \" +str(number_of_neigbor))\n",
    "    model = KNeighborsClassifier(n_neighbors=number_of_neigbor)\n",
    "    model.fit(X_train, y_train)\n",
    "    test_predictions = model.predict(X_test)\n",
    "    train_predictions = model.predict(X_train)\n",
    "    return np.sum(test_predictions == y_test)/len(y_test), np.sum(train_predictions == y_train)/len(y_train), model"
   ]
  },
  {
   "cell_type": "code",
   "execution_count": 9,
   "metadata": {},
   "outputs": [
    {
     "data": {
      "text/plain": [
       "1512"
      ]
     },
     "execution_count": 9,
     "metadata": {},
     "output_type": "execute_result"
    }
   ],
   "source": [
    "len(X_test)"
   ]
  },
  {
   "cell_type": "code",
   "execution_count": 10,
   "metadata": {},
   "outputs": [
    {
     "name": "stdout",
     "output_type": "stream",
     "text": [
      "training KNN model ...\n",
      "the number of neig is: 3\n",
      "training KNN model ...\n",
      "the number of neig is: 5\n",
      "training KNN model ...\n",
      "the number of neig is: 7\n",
      "training KNN model ...\n",
      "the number of neig is: 9\n",
      "training KNN model ...\n",
      "the number of neig is: 11\n",
      "training KNN model ...\n",
      "the number of neig is: 13\n",
      "training KNN model ...\n",
      "the number of neig is: 15\n",
      "training KNN model ...\n",
      "the number of neig is: 17\n",
      "the test accuracies are: \n",
      "[0.830026455026455, 0.8247354497354498, 0.8035714285714286, 0.791005291005291, 0.7751322751322751, 0.7678571428571429, 0.7625661375661376, 0.7585978835978836]\n",
      "the training accraucy are : \n",
      "[0.9193121693121693, 0.8805114638447972, 0.8561875367430923, 0.8350235155790712, 0.8224573780129336, 0.81114050558495, 0.8032774838330394, 0.7926219870664315]\n",
      "the best accuracy is : 0.830026455026455\n"
     ]
    }
   ],
   "source": [
    "test_accuracy = []\n",
    "train_accuracy = []\n",
    "max_acc = 0\n",
    "KNN_model = None\n",
    "for num in range(3, 19, 2):\n",
    "    test_acc, train_acc, model = train_inference_KNN(num)\n",
    "    if KNN_model == None or max_acc < test_acc:\n",
    "        max_acc = test_acc\n",
    "        KNN_model = model\n",
    "    test_accuracy.append(test_acc)\n",
    "    train_accuracy.append(train_acc)\n",
    "print(\"the test accuracies are: \")\n",
    "print(test_accuracy)\n",
    "print(\"the training accraucy are : \")\n",
    "print(train_accuracy)\n",
    "print(\"the best accuracy is : \" +str(max_acc))"
   ]
  },
  {
   "cell_type": "code",
   "execution_count": 11,
   "metadata": {},
   "outputs": [
    {
     "data": {
      "image/png": "[encoded data removed]",
      "text/plain": [
       "<Figure size 432x288 with 1 Axes>"
      ]
     },
     "metadata": {
      "needs_background": "light"
     },
     "output_type": "display_data"
    }
   ],
   "source": [
    "import matplotlib.pyplot as plt\n",
    "plt.plot(range(3, 19, 2), test_accuracy, label='testing accuracy')\n",
    "plt.plot(range(3, 19, 2), train_accuracy, label = 'training accuracy')\n",
    "plt.ylabel(\"the accuracy\")\n",
    "plt.xlabel(\"the number of neigbors in KNN model\")\n",
    "plt.legend(loc='lower left')\n",
    "plt.show()"
   ]
  },
  {
   "cell_type": "code",
   "execution_count": 13,
   "metadata": {},
   "outputs": [],
   "source": [
    "### train Desion tree model and create a function:\n",
    "from sklearn.tree import DecisionTreeClassifier\n",
    "def train_inference_DT(max_depth_):\n",
    "    print(\"train the decision tree model with maxdepth is \" +str(max_depth_))\n",
    "    model = DecisionTreeClassifier(max_depth=max_depth_)\n",
    "    model.fit(X_train, y_train)\n",
    "    test_predictions = model.predict(X_test)\n",
    "    train_predictions = model.predict(X_train)\n",
    "    return np.sum(test_predictions == y_test)/len(y_test), np.sum(train_predictions == y_train)/len(y_train), model"
   ]
  },
  {
   "cell_type": "code",
   "execution_count": 13,
   "metadata": {},
   "outputs": [
    {
     "name": "stdout",
     "output_type": "stream",
     "text": [
      "train the decision tree model with maxdepth is 5\n",
      "train the decision tree model with maxdepth is 8\n",
      "train the decision tree model with maxdepth is 11\n",
      "train the decision tree model with maxdepth is 14\n",
      "train the decision tree model with maxdepth is 17\n",
      "train the decision tree model with maxdepth is 20\n",
      "train the decision tree model with maxdepth is 23\n",
      "train the decision tree model with maxdepth is 26\n",
      "train the decision tree model with maxdepth is 29\n",
      "train the decision tree model with maxdepth is 32\n",
      "train the decision tree model with maxdepth is 35\n",
      "train the decision tree model with maxdepth is 38\n",
      "the testing accuray are: \n",
      "[0.6441798941798942, 0.7202380952380952, 0.7804232804232805, 0.794973544973545, 0.7943121693121693, 0.7916666666666666, 0.7824074074074074, 0.7857142857142857, 0.7863756613756614, 0.8009259259259259, 0.7916666666666666, 0.7857142857142857]\n",
      "the training accuray are: \n",
      "[0.6712962962962963, 0.7619782480893592, 0.8594209288653734, 0.9351851851851852, 0.9767048794826573, 0.9934597295708407, 0.9976484420928865, 0.9994121105232217, 0.9998530276308054, 1.0, 1.0, 1.0]\n",
      "the best accuracy is : 0.8009259259259259\n"
     ]
    }
   ],
   "source": [
    "test_accuracy = []\n",
    "train_accuracy = []\n",
    "DT_model = None\n",
    "max_acc = 0\n",
    "for num in range(5, 40, 3):\n",
    "    test_acc, train_acc, model = train_inference_DT(num)\n",
    "    if DT_model==None or max_acc < test_acc:\n",
    "        max_acc = test_acc\n",
    "        DT_model = model\n",
    "    test_accuracy.append(test_acc)\n",
    "    train_accuracy.append(train_acc)\n",
    "print(\"the testing accuray are: \")\n",
    "print(test_accuracy)\n",
    "print(\"the training accuray are: \")\n",
    "print(train_accuracy)\n",
    "print(\"the best accuracy is : \" +str(max_acc))"
   ]
  },
  {
   "cell_type": "code",
   "execution_count": 14,
   "metadata": {},
   "outputs": [
    {
     "data": {
      "image/png": "[encoded data removed]",
      "text/plain": [
       "<Figure size 432x288 with 1 Axes>"
      ]
     },
     "metadata": {
      "needs_background": "light"
     },
     "output_type": "display_data"
    }
   ],
   "source": [
    "### draw decision tree result\n",
    "import matplotlib.pyplot as plt\n",
    "plt.plot(range(5, 40, 3), test_accuracy, label='testing accuracy')\n",
    "plt.plot(range(5, 40, 3), train_accuracy, label = 'training accuracy')\n",
    "plt.ylabel(\"the accuracy\")\n",
    "plt.xlabel(\"max_depth of decision tree model\")\n",
    "plt.legend(loc='lower left')\n",
    "plt.show()"
   ]
  },
  {
   "cell_type": "code",
   "execution_count": 14,
   "metadata": {},
   "outputs": [],
   "source": [
    "from sklearn.ensemble import RandomForestClassifier\n",
    "# random forest tree model\n",
    "def train_inference_random_forest_tree(n_estimator_, max_depth_):\n",
    "    print(\" the number of tree is \" + str(n_estimator_))\n",
    "    print(\"train the random forest tree model with maxdepth is \" +str(max_depth_))\n",
    "    model = RandomForestClassifier(max_depth=max_depth_, n_estimators=n_estimator_)\n",
    "    model.fit(X_train, y_train)\n",
    "    test_predictions = model.predict(X_test)\n",
    "    train_predictions = model.predict(X_train)\n",
    "    return np.sum(test_predictions == y_test)/len(y_test), np.sum(train_predictions == y_train)/len(y_train), model"
   ]
  },
  {
   "cell_type": "code",
   "execution_count": 16,
   "metadata": {},
   "outputs": [
    {
     "name": "stdout",
     "output_type": "stream",
     "text": [
      " the number of tree is 10\n",
      "train the random forest tree model with maxdepth is 5\n",
      " the number of tree is 10\n",
      "train the random forest tree model with maxdepth is 8\n",
      " the number of tree is 10\n",
      "train the random forest tree model with maxdepth is 11\n",
      " the number of tree is 10\n",
      "train the random forest tree model with maxdepth is 14\n",
      " the number of tree is 10\n",
      "train the random forest tree model with maxdepth is 17\n",
      " the number of tree is 10\n",
      "train the random forest tree model with maxdepth is 20\n",
      " the number of tree is 10\n",
      "train the random forest tree model with maxdepth is 23\n",
      " the number of tree is 10\n",
      "train the random forest tree model with maxdepth is 26\n",
      " the number of tree is 10\n",
      "train the random forest tree model with maxdepth is 29\n",
      " the number of tree is 10\n",
      "train the random forest tree model with maxdepth is 32\n",
      " the number of tree is 10\n",
      "train the random forest tree model with maxdepth is 35\n",
      " the number of tree is 10\n",
      "train the random forest tree model with maxdepth is 38\n",
      " the number of tree is 10\n",
      "train the random forest tree model with maxdepth is 41\n",
      " the number of tree is 10\n",
      "train the random forest tree model with maxdepth is 44\n",
      " the number of tree is 10\n",
      "train the random forest tree model with maxdepth is 47\n",
      " the number of tree is 10\n",
      "train the random forest tree model with maxdepth is 50\n",
      " the number of tree is 10\n",
      "train the random forest tree model with maxdepth is 53\n",
      " the number of tree is 10\n",
      "train the random forest tree model with maxdepth is 56\n",
      " the number of tree is 10\n",
      "train the random forest tree model with maxdepth is 59\n",
      "the testing accuray are: \n",
      "[0.6541005291005291, 0.7473544973544973, 0.8009259259259259, 0.8227513227513228, 0.8326719576719577, 0.8386243386243386, 0.8558201058201058, 0.8412698412698413, 0.8412698412698413, 0.8472222222222222, 0.8544973544973545, 0.8538359788359788, 0.8485449735449735, 0.8558201058201058, 0.8406084656084656, 0.8445767195767195, 0.8373015873015873, 0.8386243386243386, 0.8465608465608465]\n",
      "the training accuray are: \n",
      "[0.6854791299235744, 0.7831422692533804, 0.8513374485596708, 0.9146090534979424, 0.9529688418577308, 0.9842739564961788, 0.9907407407407407, 0.9928718400940623, 0.9941211052322163, 0.9939006466784245, 0.9944885361552028, 0.9945620223398001, 0.9950764256319812, 0.9952968841857731, 0.9943415637860082, 0.9943415637860082, 0.9941945914168137, 0.9941945914168137, 0.9951499118165785]\n",
      "the best accuracy is : 0.8558201058201058\n"
     ]
    }
   ],
   "source": [
    "# train  random FT model and fix n_estimator == 10\n",
    "# thorugh change depth of tree to investigate the accuracy changes\n",
    "\n",
    "test_accuracy = []\n",
    "train_accuracy = []\n",
    "RFT_model = None\n",
    "max_acc = 0\n",
    "for num in range(5, 60, 3):\n",
    "    test_acc, train_acc, model = train_inference_random_forest_tree(10, num)\n",
    "    if RFT_model==None or max_acc < test_acc:\n",
    "        max_acc = test_acc\n",
    "        RFT_model = model\n",
    "    test_accuracy.append(test_acc)\n",
    "    train_accuracy.append(train_acc)\n",
    "print(\"the testing accuray are: \")\n",
    "print(test_accuracy)\n",
    "print(\"the training accuray are: \")\n",
    "print(train_accuracy)\n",
    "print(\"the best accuracy is : \" +str(max_acc))"
   ]
  },
  {
   "cell_type": "code",
   "execution_count": 17,
   "metadata": {},
   "outputs": [
    {
     "data": {
      "image/png": "[encoded data removed]",
      "text/plain": [
       "<Figure size 432x288 with 1 Axes>"
      ]
     },
     "metadata": {
      "needs_background": "light"
     },
     "output_type": "display_data"
    }
   ],
   "source": [
    "# draw random forest tree result, when we have 10 different tree\n",
    "import matplotlib.pyplot as plt\n",
    "plt.plot(range(5, 60, 3), test_accuracy, label='testing accuracy')\n",
    "plt.plot(range(5, 60, 3), train_accuracy, label = 'training accuracy')\n",
    "plt.ylabel(\"the accuracy\")\n",
    "plt.xlabel(\"max_depth of random forest tree\")\n",
    "plt.legend(loc='lower left')\n",
    "plt.show()"
   ]
  },
  {
   "cell_type": "code",
   "execution_count": 18,
   "metadata": {},
   "outputs": [
    {
     "name": "stdout",
     "output_type": "stream",
     "text": [
      " the number of tree is 30\n",
      "train the random forest tree model with maxdepth is 5\n",
      " the number of tree is 30\n",
      "train the random forest tree model with maxdepth is 8\n",
      " the number of tree is 30\n",
      "train the random forest tree model with maxdepth is 11\n",
      " the number of tree is 30\n",
      "train the random forest tree model with maxdepth is 14\n",
      " the number of tree is 30\n",
      "train the random forest tree model with maxdepth is 17\n",
      " the number of tree is 30\n",
      "train the random forest tree model with maxdepth is 20\n",
      " the number of tree is 30\n",
      "train the random forest tree model with maxdepth is 23\n",
      " the number of tree is 30\n",
      "train the random forest tree model with maxdepth is 26\n",
      " the number of tree is 30\n",
      "train the random forest tree model with maxdepth is 29\n",
      " the number of tree is 30\n",
      "train the random forest tree model with maxdepth is 32\n",
      " the number of tree is 30\n",
      "train the random forest tree model with maxdepth is 35\n",
      " the number of tree is 30\n",
      "train the random forest tree model with maxdepth is 38\n",
      " the number of tree is 30\n",
      "train the random forest tree model with maxdepth is 41\n",
      " the number of tree is 30\n",
      "train the random forest tree model with maxdepth is 44\n",
      " the number of tree is 30\n",
      "train the random forest tree model with maxdepth is 47\n",
      " the number of tree is 30\n",
      "train the random forest tree model with maxdepth is 50\n",
      " the number of tree is 30\n",
      "train the random forest tree model with maxdepth is 53\n",
      " the number of tree is 30\n",
      "train the random forest tree model with maxdepth is 56\n",
      " the number of tree is 30\n",
      "train the random forest tree model with maxdepth is 59\n",
      "the testing accuray are: \n",
      "[0.6851851851851852, 0.7526455026455027, 0.8035714285714286, 0.8406084656084656, 0.8578042328042328, 0.8637566137566137, 0.8664021164021164, 0.8683862433862434, 0.873015873015873, 0.8670634920634921, 0.8670634920634921, 0.8591269841269841, 0.873015873015873, 0.8683862433862434, 0.8650793650793651, 0.8756613756613757, 0.8657407407407407, 0.8703703703703703, 0.8624338624338624]\n",
      "the training accuray are: \n",
      "[0.6951058201058201, 0.7864491475602586, 0.8738242210464433, 0.935405643738977, 0.9797912992357437, 0.9933862433862434, 0.998015873015873, 0.9991916519694297, 0.9996325690770135, 0.9997795414462081, 0.9996325690770135, 0.9998530276308054, 0.9997795414462081, 0.9998530276308054, 0.9997795414462081, 0.9996325690770135, 0.9995590828924162, 0.9996325690770135, 0.9996325690770135]\n",
      "the best accuracy is : 0.8756613756613757\n"
     ]
    }
   ],
   "source": [
    "# set the number of ramdom forest tree as 30, and re_train the ramdom foreste tree model\n",
    "test_accuracy = []\n",
    "train_accuracy = []\n",
    "RFT_model = None\n",
    "max_acc = 0\n",
    "for num in range(5, 60, 3):\n",
    "    test_acc, train_acc, model = train_inference_random_forest_tree(30, num)\n",
    "    if RFT_model==None or max_acc < test_acc:\n",
    "        max_acc = test_acc\n",
    "        RFT_model = model\n",
    "    test_accuracy.append(test_acc)\n",
    "    train_accuracy.append(train_acc)\n",
    "print(\"the testing accuray are: \")\n",
    "print(test_accuracy)\n",
    "print(\"the training accuray are: \")\n",
    "print(train_accuracy)\n",
    "print(\"the best accuracy is : \" +str(max_acc))"
   ]
  },
  {
   "cell_type": "code",
   "execution_count": 19,
   "metadata": {},
   "outputs": [
    {
     "data": {
      "image/png": "[encoded data removed]",
      "text/plain": [
       "<Figure size 432x288 with 1 Axes>"
      ]
     },
     "metadata": {
      "needs_background": "light"
     },
     "output_type": "display_data"
    }
   ],
   "source": [
    "import matplotlib.pyplot as plt\n",
    "plt.plot(range(5, 60, 3), test_accuracy, label='testing accuracy')\n",
    "plt.plot(range(5, 60, 3), train_accuracy, label = 'training accuracy')\n",
    "plt.ylabel(\"the accuracy\")\n",
    "plt.xlabel(\"max_depth of random forest tree\")\n",
    "plt.legend(loc='lower left')\n",
    "plt.show()"
   ]
  },
  {
   "cell_type": "code",
   "execution_count": 20,
   "metadata": {},
   "outputs": [
    {
     "name": "stdout",
     "output_type": "stream",
     "text": [
      " the number of tree is 100\n",
      "train the random forest tree model with maxdepth is 5\n",
      " the number of tree is 100\n",
      "train the random forest tree model with maxdepth is 8\n",
      " the number of tree is 100\n",
      "train the random forest tree model with maxdepth is 11\n",
      " the number of tree is 100\n",
      "train the random forest tree model with maxdepth is 14\n",
      " the number of tree is 100\n",
      "train the random forest tree model with maxdepth is 17\n",
      " the number of tree is 100\n",
      "train the random forest tree model with maxdepth is 20\n",
      " the number of tree is 100\n",
      "train the random forest tree model with maxdepth is 23\n",
      " the number of tree is 100\n",
      "train the random forest tree model with maxdepth is 26\n",
      " the number of tree is 100\n",
      "train the random forest tree model with maxdepth is 29\n",
      " the number of tree is 100\n",
      "train the random forest tree model with maxdepth is 32\n",
      " the number of tree is 100\n",
      "train the random forest tree model with maxdepth is 35\n",
      " the number of tree is 100\n",
      "train the random forest tree model with maxdepth is 38\n",
      " the number of tree is 100\n",
      "train the random forest tree model with maxdepth is 41\n",
      " the number of tree is 100\n",
      "train the random forest tree model with maxdepth is 44\n",
      " the number of tree is 100\n",
      "train the random forest tree model with maxdepth is 47\n",
      " the number of tree is 100\n",
      "train the random forest tree model with maxdepth is 50\n",
      " the number of tree is 100\n",
      "train the random forest tree model with maxdepth is 53\n",
      " the number of tree is 100\n",
      "train the random forest tree model with maxdepth is 56\n",
      " the number of tree is 100\n",
      "train the random forest tree model with maxdepth is 59\n",
      "the testing accuray are: \n",
      "[0.6845238095238095, 0.7552910052910053, 0.8187830687830688, 0.8511904761904762, 0.8584656084656085, 0.8683862433862434, 0.8690476190476191, 0.8802910052910053, 0.8763227513227513, 0.8763227513227513, 0.8703703703703703, 0.8816137566137566, 0.8723544973544973, 0.8683862433862434, 0.8763227513227513, 0.8736772486772487, 0.8743386243386243, 0.873015873015873, 0.8756613756613757]\n",
      "the training accuray are: \n",
      "[0.7074514991181657, 0.7947530864197531, 0.8824955908289241, 0.9459876543209876, 0.9847148736037625, 0.9972810111699001, 0.9995590828924162, 1.0, 1.0, 1.0, 1.0, 1.0, 1.0, 1.0, 1.0, 1.0, 1.0, 1.0, 1.0]\n",
      "the best accuracy is : 0.8816137566137566\n"
     ]
    },
    {
     "data": {
      "image/png": "[encoded data removed]",
      "text/plain": [
       "<Figure size 432x288 with 1 Axes>"
      ]
     },
     "metadata": {
      "needs_background": "light"
     },
     "output_type": "display_data"
    }
   ],
   "source": [
    "# set the number of ramdom forest tree as 100, and re_train the ramdom foreste tree model\n",
    "test_accuracy = []\n",
    "train_accuracy = []\n",
    "RFT_model = None\n",
    "max_acc = 0\n",
    "for num in range(5, 60, 3):\n",
    "    test_acc, train_acc, model = train_inference_random_forest_tree(100, num)\n",
    "    if RFT_model==None or max_acc < test_acc:\n",
    "        max_acc = test_acc\n",
    "        RFT_model = model\n",
    "    test_accuracy.append(test_acc)\n",
    "    train_accuracy.append(train_acc)\n",
    "print(\"the testing accuray are: \")\n",
    "print(test_accuracy)\n",
    "print(\"the training accuray are: \")\n",
    "print(train_accuracy)\n",
    "print(\"the best accuracy is : \" +str(max_acc))\n",
    "\n",
    "\n",
    "# draw the training and test result\n",
    "plt.plot(range(5, 60, 3), test_accuracy, label='testing accuracy')\n",
    "plt.plot(range(5, 60, 3), train_accuracy, label = 'training accuracy')\n",
    "plt.ylabel(\"the accuracy\")\n",
    "plt.xlabel(\"max depth of random forest tree with number of trees 100\")\n",
    "plt.legend(loc='lower left')\n",
    "plt.show()"
   ]
  },
  {
   "cell_type": "markdown",
   "metadata": {},
   "source": [
    "### now we are going to use gradient boosting tree to improve the result, and hopefully we can get better results!\n"
   ]
  },
  {
   "cell_type": "code",
   "execution_count": 15,
   "metadata": {},
   "outputs": [],
   "source": [
    "def train_inference_GDBT(n_estimator_, max_depth_):\n",
    "    print(\" the number of tree is \" + str(n_estimator_))\n",
    "    print(\"train the GDBT tree model with maxdepth is \" +str(max_depth_))\n",
    "    model = GradientBoostingClassifier(max_depth=max_depth_, n_estimators = n_estimator_)\n",
    "    model.fit(X_train, y_train)\n",
    "    test_predictions = model.predict(X_test)\n",
    "    train_predictions = model.predict(X_train)\n",
    "    return np.sum(test_predictions == y_test)/len(y_test), np.sum(train_predictions == y_train)/len(y_train), model"
   ]
  },
  {
   "cell_type": "code",
   "execution_count": 28,
   "metadata": {},
   "outputs": [
    {
     "name": "stdout",
     "output_type": "stream",
     "text": [
      " the number of tree is 30\n",
      "train the GDBT tree model with maxdepth is 5\n",
      " the number of tree is 30\n",
      "train the GDBT tree model with maxdepth is 8\n",
      " the number of tree is 30\n",
      "train the GDBT tree model with maxdepth is 11\n",
      " the number of tree is 30\n",
      "train the GDBT tree model with maxdepth is 14\n",
      " the number of tree is 30\n",
      "train the GDBT tree model with maxdepth is 17\n",
      " the number of tree is 30\n",
      "train the GDBT tree model with maxdepth is 20\n",
      " the number of tree is 30\n",
      "train the GDBT tree model with maxdepth is 23\n",
      " the number of tree is 30\n",
      "train the GDBT tree model with maxdepth is 26\n",
      " the number of tree is 30\n",
      "train the GDBT tree model with maxdepth is 29\n",
      " the number of tree is 30\n",
      "train the GDBT tree model with maxdepth is 32\n",
      " the number of tree is 30\n",
      "train the GDBT tree model with maxdepth is 35\n",
      " the number of tree is 30\n",
      "train the GDBT tree model with maxdepth is 38\n",
      "the testing accuray are: \n",
      "[0.8101851851851852, 0.8465608465608465, 0.8591269841269841, 0.8571428571428571, 0.8571428571428571, 0.8406084656084656, 0.8333333333333334, 0.8141534391534392, 0.8029100529100529, 0.7890211640211641, 0.7817460317460317, 0.7804232804232805]\n",
      "the training accuracy are: \n",
      "[0.8463403880070547, 0.9580393885949442, 0.9986772486772487, 1.0, 1.0, 1.0, 1.0, 1.0, 1.0, 1.0, 1.0, 1.0]\n",
      "the best accuracy is : 0.8591269841269841\n"
     ]
    },
    {
     "data": {
      "image/png": "[encoded data removed]",
      "text/plain": [
       "<Figure size 432x288 with 1 Axes>"
      ]
     },
     "metadata": {
      "needs_background": "light"
     },
     "output_type": "display_data"
    }
   ],
   "source": [
    "test_accuracy = []\n",
    "train_accuracy = []\n",
    "GDBT_model = None\n",
    "max_acc = 0\n",
    "for num in range(5, 40, 3):\n",
    "    test_acc, train_acc, model = train_inference_GDBT(30, num)\n",
    "    if GDBT_model==None or max_acc < test_acc:\n",
    "        max_acc = test_acc\n",
    "        GDBT_model = model\n",
    "    test_accuracy.append(test_acc)\n",
    "    train_accuracy.append(train_acc)\n",
    "print(\"the testing accuray are: \")\n",
    "print(test_accuracy)\n",
    "print(\"the training accuracy are: \")\n",
    "print(train_accuracy)\n",
    "print(\"the best accuracy is : \" + str(max_acc))\n",
    "\n",
    "# draw the training and test result\n",
    "plt.plot(range(5, 40, 3), test_accuracy, label='testing accuracy')\n",
    "plt.plot(range(5, 40, 3), train_accuracy, label = 'training accuracy')\n",
    "plt.ylabel(\"the accuracy\")\n",
    "plt.xlabel(\"the number of classifer in GBDT model\")\n",
    "plt.legend(loc='lower left')\n",
    "plt.show()"
   ]
  },
  {
   "cell_type": "code",
   "execution_count": 16,
   "metadata": {},
   "outputs": [],
   "source": [
    "# now let's try adaboosting tree classifier\n",
    "from sklearn.ensemble import AdaBoostClassifier\n",
    "def train_inference_AdaBoostingTree(n_estimator_):\n",
    "    print(\" the number of classifer is \" + str(n_estimator_))\n",
    "    #print(\"train the GDBT tree model with maxdepth is \" +str(max_depth_))\n",
    "    model = AdaBoostClassifier(base_estimator=RandomForestClassifier(max_depth=5, n_estimators=30),n_estimators = n_estimator_, learning_rate = 0.01, algorithm='SAMME')\n",
    "    model.fit(X_train, y_train)\n",
    "    test_predictions = model.predict(X_test)\n",
    "    train_predictions = model.predict(X_train)\n",
    "    return np.sum(test_predictions == y_test)/len(y_test), np.sum(train_predictions == y_train)/len(y_train), model"
   ]
  },
  {
   "cell_type": "code",
   "execution_count": 43,
   "metadata": {},
   "outputs": [
    {
     "name": "stdout",
     "output_type": "stream",
     "text": [
      " the number of classifer is 30\n",
      " the number of classifer is 35\n",
      " the number of classifer is 40\n",
      " the number of classifer is 45\n",
      " the number of classifer is 50\n",
      " the number of classifer is 55\n",
      " the number of classifer is 60\n",
      " the number of classifer is 65\n",
      " the number of classifer is 70\n",
      " the number of classifer is 75\n",
      " the number of classifer is 80\n",
      " the number of classifer is 85\n",
      " the number of classifer is 90\n",
      " the number of classifer is 95\n",
      " the number of classifer is 100\n",
      " the number of classifer is 105\n",
      " the number of classifer is 110\n",
      " the number of classifer is 115\n",
      " the number of classifer is 120\n",
      " the number of classifer is 125\n",
      " the number of classifer is 130\n",
      " the number of classifer is 135\n",
      " the number of classifer is 140\n",
      " the number of classifer is 145\n",
      " the number of classifer is 150\n",
      " the number of classifer is 155\n",
      " the number of classifer is 160\n",
      " the number of classifer is 165\n",
      " the number of classifer is 170\n",
      " the number of classifer is 175\n",
      " the number of classifer is 180\n",
      " the number of classifer is 185\n",
      " the number of classifer is 190\n",
      " the number of classifer is 195\n",
      "the testing accuray are: \n",
      "[0.6640211640211641, 0.6554232804232805, 0.6541005291005291, 0.6574074074074074, 0.6593915343915344, 0.6673280423280423, 0.6686507936507936, 0.6752645502645502, 0.6798941798941799, 0.6798941798941799, 0.6845238095238095, 0.6765873015873016, 0.6904761904761905, 0.6911375661375662, 0.6924603174603174, 0.6937830687830688, 0.6951058201058201, 0.6951058201058201, 0.6997354497354498, 0.7003968253968254, 0.703042328042328, 0.705026455026455, 0.7063492063492064, 0.7037037037037037, 0.7083333333333334, 0.7063492063492064, 0.708994708994709, 0.7076719576719577, 0.7096560846560847, 0.7136243386243386, 0.71494708994709, 0.7129629629629629, 0.7136243386243386, 0.7123015873015873]\n",
      "the training accuracy are: \n",
      "[0.6883450911228689, 0.6798941798941799, 0.6804820693709582, 0.6818048206937096, 0.6883450911228689, 0.6932686654908877, 0.6956937095825985, 0.7016460905349794, 0.7031893004115226, 0.7045855379188712, 0.7075249853027631, 0.7072310405643739, 0.7167842445620224, 0.718915343915344, 0.7203850676072898, 0.7217813051146384, 0.7224426807760141, 0.725382128159906, 0.7277336860670194, 0.7269988242210464, 0.7289829512051734, 0.7307466196355086, 0.7316284538506761, 0.7316284538506761, 0.7346413874191652, 0.7339065255731922, 0.7322898295120517, 0.7311875367430923, 0.732363315696649, 0.7322898295120517, 0.7344944150499706, 0.7338330393885949, 0.7356701940035273, 0.7365520282186949]\n",
      "the best accuracy is : 0.71494708994709\n"
     ]
    },
    {
     "data": {
      "image/png": "[encoded data removed]",
      "text/plain": [
       "<Figure size 432x288 with 1 Axes>"
      ]
     },
     "metadata": {
      "needs_background": "light"
     },
     "output_type": "display_data"
    }
   ],
   "source": [
    "test_accuracy = []\n",
    "train_accuracy = []\n",
    "GDBT_model = None\n",
    "max_acc = 0\n",
    "for num in range(30, 200, 5):\n",
    "    test_acc, train_acc, model = train_inference_AdaBoostingTree(num)\n",
    "    if GDBT_model==None or max_acc < test_acc:\n",
    "        max_acc = test_acc\n",
    "        GDBT_model = model\n",
    "    test_accuracy.append(test_acc)\n",
    "    train_accuracy.append(train_acc)\n",
    "print(\"the testing accuray are: \")\n",
    "print(test_accuracy)\n",
    "print(\"the training accuracy are: \")\n",
    "print(train_accuracy)\n",
    "print(\"the best accuracy is : \" + str(max_acc))\n",
    "\n",
    "# draw the training and test result\n",
    "plt.plot(range(30, 200, 5), test_accuracy, label='testing accuracy')\n",
    "plt.plot(range(30, 200, 5), train_accuracy, label = 'training accuracy')\n",
    "plt.ylabel(\"the accuracy\")\n",
    "plt.xlabel(\"the number of classifer in adaboosting tree model\")\n",
    "plt.legend(loc='lower left')\n",
    "plt.show()"
   ]
  },
  {
   "cell_type": "markdown",
   "metadata": {},
   "source": [
    "### Thus, the best model is gradient booting tree, which can acheive testing accuray as 0.85. However, the testing accuracy is a little low ,and it could be likely that we didn't do data preprecessing, Let's try PCA  method to work on cleaning data, and get the most important features of them."
   ]
  },
  {
   "cell_type": "code",
   "execution_count": 20,
   "metadata": {},
   "outputs": [],
   "source": [
    "from sklearn.preprocessing import StandardScaler\n",
    "columns = []\n",
    "for name in train.columns:\n",
    "    columns.append(name)\n",
    "\n",
    "# use PCA to preprocess data, firtly try 25 components \n",
    "from sklearn.decomposition import PCA\n",
    "X = train.loc[:,columns].values\n",
    "#X = StandardScaler().fit_transform(X)\n",
    "pca = PCA(n_components=15)\n",
    "principalComponents = pca.fit_transform(X)\n",
    "principalDf = pd.DataFrame(data = principalComponents)"
   ]
  },
  {
   "cell_type": "code",
   "execution_count": 21,
   "metadata": {},
   "outputs": [
    {
     "data": {
      "text/html": [
       "<div>\n",
       "<style scoped>\n",
       "    .dataframe tbody tr th:only-of-type {\n",
       "        vertical-align: middle;\n",
       "    }\n",
       "\n",
       "    .dataframe tbody tr th {\n",
       "        vertical-align: top;\n",
       "    }\n",
       "\n",
       "    .dataframe thead th {\n",
       "        text-align: right;\n",
       "    }\n",
       "</style>\n",
       "<table border=\"1\" class=\"dataframe\">\n",
       "  <thead>\n",
       "    <tr style=\"text-align: right;\">\n",
       "      <th></th>\n",
       "      <th>0</th>\n",
       "      <th>1</th>\n",
       "      <th>2</th>\n",
       "      <th>3</th>\n",
       "      <th>4</th>\n",
       "      <th>5</th>\n",
       "      <th>6</th>\n",
       "      <th>7</th>\n",
       "      <th>8</th>\n",
       "      <th>9</th>\n",
       "      <th>10</th>\n",
       "      <th>11</th>\n",
       "      <th>12</th>\n",
       "      <th>13</th>\n",
       "      <th>14</th>\n",
       "    </tr>\n",
       "  </thead>\n",
       "  <tbody>\n",
       "    <tr>\n",
       "      <th>0</th>\n",
       "      <td>1645.577232</td>\n",
       "      <td>4624.322593</td>\n",
       "      <td>-337.132612</td>\n",
       "      <td>94.129492</td>\n",
       "      <td>-35.684585</td>\n",
       "      <td>-63.350099</td>\n",
       "      <td>26.646540</td>\n",
       "      <td>-9.863423</td>\n",
       "      <td>-3.533134</td>\n",
       "      <td>1.988644</td>\n",
       "      <td>0.310553</td>\n",
       "      <td>0.455830</td>\n",
       "      <td>0.026057</td>\n",
       "      <td>-0.591768</td>\n",
       "      <td>-0.041422</td>\n",
       "    </tr>\n",
       "    <tr>\n",
       "      <th>1</th>\n",
       "      <td>1515.626132</td>\n",
       "      <td>4647.197867</td>\n",
       "      <td>-334.223884</td>\n",
       "      <td>49.276872</td>\n",
       "      <td>-26.064321</td>\n",
       "      <td>-61.265530</td>\n",
       "      <td>30.115836</td>\n",
       "      <td>-12.729642</td>\n",
       "      <td>-3.493966</td>\n",
       "      <td>3.021315</td>\n",
       "      <td>0.307943</td>\n",
       "      <td>0.463888</td>\n",
       "      <td>0.046364</td>\n",
       "      <td>-0.605310</td>\n",
       "      <td>-0.036798</td>\n",
       "    </tr>\n",
       "    <tr>\n",
       "      <th>2</th>\n",
       "      <td>3762.972005</td>\n",
       "      <td>2989.225209</td>\n",
       "      <td>-544.331078</td>\n",
       "      <td>114.479093</td>\n",
       "      <td>5.005117</td>\n",
       "      <td>18.278621</td>\n",
       "      <td>-0.939034</td>\n",
       "      <td>-26.006644</td>\n",
       "      <td>0.177698</td>\n",
       "      <td>0.239051</td>\n",
       "      <td>0.088164</td>\n",
       "      <td>0.040310</td>\n",
       "      <td>0.156493</td>\n",
       "      <td>0.309690</td>\n",
       "      <td>-0.025645</td>\n",
       "    </tr>\n",
       "    <tr>\n",
       "      <th>3</th>\n",
       "      <td>3735.714904</td>\n",
       "      <td>3114.406093</td>\n",
       "      <td>-561.020519</td>\n",
       "      <td>107.547793</td>\n",
       "      <td>18.533879</td>\n",
       "      <td>77.353082</td>\n",
       "      <td>2.122524</td>\n",
       "      <td>-36.004191</td>\n",
       "      <td>6.924245</td>\n",
       "      <td>-0.555085</td>\n",
       "      <td>0.202173</td>\n",
       "      <td>0.237991</td>\n",
       "      <td>0.245303</td>\n",
       "      <td>0.735144</td>\n",
       "      <td>-0.037439</td>\n",
       "    </tr>\n",
       "    <tr>\n",
       "      <th>4</th>\n",
       "      <td>1485.946176</td>\n",
       "      <td>4603.048324</td>\n",
       "      <td>-343.532710</td>\n",
       "      <td>-6.942680</td>\n",
       "      <td>-33.870539</td>\n",
       "      <td>-45.725915</td>\n",
       "      <td>39.111803</td>\n",
       "      <td>-14.461973</td>\n",
       "      <td>-4.022745</td>\n",
       "      <td>3.043386</td>\n",
       "      <td>0.301189</td>\n",
       "      <td>0.461982</td>\n",
       "      <td>0.042285</td>\n",
       "      <td>-0.613637</td>\n",
       "      <td>-0.036428</td>\n",
       "    </tr>\n",
       "  </tbody>\n",
       "</table>\n",
       "</div>"
      ],
      "text/plain": [
       "             0            1           2           3          4          5  \\\n",
       "0  1645.577232  4624.322593 -337.132612   94.129492 -35.684585 -63.350099   \n",
       "1  1515.626132  4647.197867 -334.223884   49.276872 -26.064321 -61.265530   \n",
       "2  3762.972005  2989.225209 -544.331078  114.479093   5.005117  18.278621   \n",
       "3  3735.714904  3114.406093 -561.020519  107.547793  18.533879  77.353082   \n",
       "4  1485.946176  4603.048324 -343.532710   -6.942680 -33.870539 -45.725915   \n",
       "\n",
       "           6          7         8         9        10        11        12  \\\n",
       "0  26.646540  -9.863423 -3.533134  1.988644  0.310553  0.455830  0.026057   \n",
       "1  30.115836 -12.729642 -3.493966  3.021315  0.307943  0.463888  0.046364   \n",
       "2  -0.939034 -26.006644  0.177698  0.239051  0.088164  0.040310  0.156493   \n",
       "3   2.122524 -36.004191  6.924245 -0.555085  0.202173  0.237991  0.245303   \n",
       "4  39.111803 -14.461973 -4.022745  3.043386  0.301189  0.461982  0.042285   \n",
       "\n",
       "         13        14  \n",
       "0 -0.591768 -0.041422  \n",
       "1 -0.605310 -0.036798  \n",
       "2  0.309690 -0.025645  \n",
       "3  0.735144 -0.037439  \n",
       "4 -0.613637 -0.036428  "
      ]
     },
     "execution_count": 21,
     "metadata": {},
     "output_type": "execute_result"
    }
   ],
   "source": [
    "principalDf.head()"
   ]
  },
  {
   "cell_type": "code",
   "execution_count": 22,
   "metadata": {},
   "outputs": [
    {
     "name": "stdout",
     "output_type": "stream",
     "text": [
      " the number of total pricipalDf is 15120\n"
     ]
    }
   ],
   "source": [
    "print(\" the number of total pricipalDf is \" + str(len(principalDf)))"
   ]
  },
  {
   "cell_type": "code",
   "execution_count": 23,
   "metadata": {},
   "outputs": [],
   "source": [
    "X_train, X_test, y_train, y_test = train_test_split(principalDf, train_labels, test_size=0.2, random_state=42, \\\n",
    "                                                    shuffle = True)"
   ]
  },
  {
   "cell_type": "code",
   "execution_count": 24,
   "metadata": {},
   "outputs": [
    {
     "name": "stdout",
     "output_type": "stream",
     "text": [
      "training KNN model ...\n",
      "the number of neig is: 3\n",
      "training KNN model ...\n",
      "the number of neig is: 5\n",
      "training KNN model ...\n",
      "the number of neig is: 7\n",
      "training KNN model ...\n",
      "the number of neig is: 9\n",
      "training KNN model ...\n",
      "the number of neig is: 11\n",
      "training KNN model ...\n",
      "the number of neig is: 13\n",
      "training KNN model ...\n",
      "the number of neig is: 15\n",
      "training KNN model ...\n",
      "the number of neig is: 17\n",
      "the test accuracies are: \n",
      "[0.8207671957671958, 0.8048941798941799, 0.7876984126984127, 0.7767857142857143, 0.7592592592592593, 0.7585978835978836, 0.7529761904761905, 0.7490079365079365]\n",
      "the training accraucy are : \n",
      "[0.9132771164021164, 0.875165343915344, 0.8516865079365079, 0.8310185185185185, 0.8158068783068783, 0.8043981481481481, 0.7964616402116402, 0.7863756613756614]\n",
      "the best accuracy is : 0.8207671957671958\n"
     ]
    }
   ],
   "source": [
    "test_accuracy = []\n",
    "train_accuracy = []\n",
    "max_acc = 0\n",
    "KNN_model = None\n",
    "for num in range(3, 19, 2):\n",
    "    test_acc, train_acc, model = train_inference_KNN(num)\n",
    "    if KNN_model == None or max_acc < test_acc:\n",
    "        max_acc = test_acc\n",
    "        KNN_model = model\n",
    "    test_accuracy.append(test_acc)\n",
    "    train_accuracy.append(train_acc)\n",
    "print(\"the test accuracies are: \")\n",
    "print(test_accuracy)\n",
    "print(\"the training accraucy are : \")\n",
    "print(train_accuracy)\n",
    "print(\"the best accuracy is : \" +str(max_acc))"
   ]
  },
  {
   "cell_type": "code",
   "execution_count": 25,
   "metadata": {},
   "outputs": [
    {
     "data": {
      "image/png": "[encoded data removed]",
      "text/plain": [
       "<Figure size 432x288 with 1 Axes>"
      ]
     },
     "metadata": {
      "needs_background": "light"
     },
     "output_type": "display_data"
    }
   ],
   "source": [
    "import matplotlib.pyplot as plt\n",
    "plt.plot(range(3, 19, 2), test_accuracy, label='testing accuracy')\n",
    "plt.plot(range(3, 19, 2), train_accuracy, label = 'training accuracy')\n",
    "plt.ylabel(\"the accuracy\")\n",
    "plt.xlabel(\"the number of neigbors in KNN model\")\n",
    "plt.legend(loc='lower left')\n",
    "plt.show()"
   ]
  },
  {
   "cell_type": "code",
   "execution_count": 26,
   "metadata": {},
   "outputs": [
    {
     "name": "stdout",
     "output_type": "stream",
     "text": [
      "train the decision tree model with maxdepth is 5\n",
      "train the decision tree model with maxdepth is 8\n",
      "train the decision tree model with maxdepth is 11\n",
      "train the decision tree model with maxdepth is 14\n",
      "train the decision tree model with maxdepth is 17\n",
      "train the decision tree model with maxdepth is 20\n",
      "train the decision tree model with maxdepth is 23\n",
      "train the decision tree model with maxdepth is 26\n",
      "train the decision tree model with maxdepth is 29\n",
      "train the decision tree model with maxdepth is 32\n",
      "train the decision tree model with maxdepth is 35\n",
      "train the decision tree model with maxdepth is 38\n",
      "the testing accuray are: \n",
      "[0.6223544973544973, 0.7109788359788359, 0.7622354497354498, 0.7744708994708994, 0.7817460317460317, 0.7761243386243386, 0.7764550264550265, 0.781415343915344, 0.7685185185185185, 0.7728174603174603, 0.7711640211640212, 0.7757936507936508]\n",
      "the training accuray are: \n",
      "[0.6423611111111112, 0.763558201058201, 0.8780588624338624, 0.9522156084656085, 0.9833002645502645, 0.9942129629629629, 0.9978505291005291, 0.9994212962962963, 0.999917328042328, 1.0, 1.0, 1.0]\n",
      "the best accuracy is : 0.7817460317460317\n"
     ]
    },
    {
     "data": {
      "image/png": "[encoded data removed]",
      "text/plain": [
       "<Figure size 432x288 with 1 Axes>"
      ]
     },
     "metadata": {
      "needs_background": "light"
     },
     "output_type": "display_data"
    }
   ],
   "source": [
    "# re-train decision tree on the PCA data\n",
    "test_accuracy = []\n",
    "train_accuracy = []\n",
    "DT_model = None\n",
    "max_acc = 0\n",
    "for num in range(5, 40, 3):\n",
    "    test_acc, train_acc, model = train_inference_DT(num)\n",
    "    if DT_model==None or max_acc < test_acc:\n",
    "        max_acc = test_acc\n",
    "        DT_model = model\n",
    "    test_accuracy.append(test_acc)\n",
    "    train_accuracy.append(train_acc)\n",
    "print(\"the testing accuray are: \")\n",
    "print(test_accuracy)\n",
    "print(\"the training accuray are: \")\n",
    "print(train_accuracy)\n",
    "print(\"the best accuracy is : \" +str(max_acc))\n",
    "\n",
    "# draw the training and test result\n",
    "plt.plot(range(5, 40, 3), test_accuracy, label='testing accuracy')\n",
    "plt.plot(range(5, 40, 3), train_accuracy, label = 'training accuracy')\n",
    "plt.ylabel(\"the accuracy\")\n",
    "plt.xlabel(\"the number of decision trees in the model\")\n",
    "plt.legend(loc='lower left')\n",
    "plt.show()"
   ]
  },
  {
   "cell_type": "code",
   "execution_count": 27,
   "metadata": {},
   "outputs": [
    {
     "name": "stdout",
     "output_type": "stream",
     "text": [
      " the number of tree is 100\n",
      "train the random forest tree model with maxdepth is 5\n",
      " the number of tree is 100\n",
      "train the random forest tree model with maxdepth is 8\n",
      " the number of tree is 100\n",
      "train the random forest tree model with maxdepth is 11\n",
      " the number of tree is 100\n",
      "train the random forest tree model with maxdepth is 14\n",
      " the number of tree is 100\n",
      "train the random forest tree model with maxdepth is 17\n",
      " the number of tree is 100\n",
      "train the random forest tree model with maxdepth is 20\n",
      " the number of tree is 100\n",
      "train the random forest tree model with maxdepth is 23\n",
      " the number of tree is 100\n",
      "train the random forest tree model with maxdepth is 26\n",
      " the number of tree is 100\n",
      "train the random forest tree model with maxdepth is 29\n",
      " the number of tree is 100\n",
      "train the random forest tree model with maxdepth is 32\n",
      " the number of tree is 100\n",
      "train the random forest tree model with maxdepth is 35\n",
      " the number of tree is 100\n",
      "train the random forest tree model with maxdepth is 38\n",
      "the testing accuray are: \n",
      "[0.673941798941799, 0.7662037037037037, 0.8217592592592593, 0.8495370370370371, 0.8647486772486772, 0.8677248677248677, 0.8644179894179894, 0.8657407407407407, 0.8667328042328042, 0.8690476190476191, 0.8637566137566137, 0.8683862433862434]\n",
      "the training accuray are: \n",
      "[0.687334656084656, 0.8128306878306878, 0.923941798941799, 0.9790839947089947, 0.99619708994709, 0.9994212962962963, 0.999917328042328, 1.0, 1.0, 1.0, 1.0, 1.0]\n",
      "the best accuracy is : 0.8690476190476191\n"
     ]
    },
    {
     "data": {
      "image/png": "[encoded data removed]",
      "text/plain": [
       "<Figure size 432x288 with 1 Axes>"
      ]
     },
     "metadata": {
      "needs_background": "light"
     },
     "output_type": "display_data"
    }
   ],
   "source": [
    "# set the number of ramdom forest tree as 100, and re_train the ramdom foreste tree model\n",
    "test_accuracy = []\n",
    "train_accuracy = []\n",
    "RFT_model = None\n",
    "max_acc = 0\n",
    "for num in range(5, 40, 3):\n",
    "    test_acc, train_acc, model = train_inference_random_forest_tree(100, num)\n",
    "    if RFT_model==None or max_acc < test_acc:\n",
    "        max_acc = test_acc\n",
    "        RFT_model = model\n",
    "    test_accuracy.append(test_acc)\n",
    "    train_accuracy.append(train_acc)\n",
    "print(\"the testing accuray are: \")\n",
    "print(test_accuracy)\n",
    "print(\"the training accuray are: \")\n",
    "print(train_accuracy)\n",
    "print(\"the best accuracy is : \" +str(max_acc))\n",
    "\n",
    "\n",
    "# draw the training and test result\n",
    "plt.plot(range(5, 40, 3), test_accuracy, label='testing accuracy')\n",
    "plt.plot(range(5, 40, 3), train_accuracy, label = 'training accuracy')\n",
    "plt.ylabel(\"the accuracy\")\n",
    "plt.xlabel(\"the number of random forest trees in the model\")\n",
    "plt.legend(loc='lower left')\n",
    "plt.show()"
   ]
  },
  {
   "cell_type": "markdown",
   "metadata": {},
   "source": [
    "###  let's retrain graident boosting tree based on preprocessed data and test it!"
   ]
  },
  {
   "cell_type": "code",
   "execution_count": 28,
   "metadata": {},
   "outputs": [
    {
     "name": "stdout",
     "output_type": "stream",
     "text": [
      " the number of tree is 30\n",
      "train the GDBT tree model with maxdepth is 5\n",
      " the number of tree is 30\n",
      "train the GDBT tree model with maxdepth is 8\n",
      " the number of tree is 30\n",
      "train the GDBT tree model with maxdepth is 11\n",
      " the number of tree is 30\n",
      "train the GDBT tree model with maxdepth is 14\n",
      " the number of tree is 30\n",
      "train the GDBT tree model with maxdepth is 17\n",
      " the number of tree is 30\n",
      "train the GDBT tree model with maxdepth is 20\n",
      " the number of tree is 30\n",
      "train the GDBT tree model with maxdepth is 23\n",
      " the number of tree is 30\n",
      "train the GDBT tree model with maxdepth is 26\n",
      " the number of tree is 30\n",
      "train the GDBT tree model with maxdepth is 29\n",
      " the number of tree is 30\n",
      "train the GDBT tree model with maxdepth is 32\n",
      " the number of tree is 30\n",
      "train the GDBT tree model with maxdepth is 35\n",
      " the number of tree is 30\n",
      "train the GDBT tree model with maxdepth is 38\n",
      "the testing accuray are: \n",
      "[0.8045634920634921, 0.8478835978835979, 0.8541666666666666, 0.8416005291005291, 0.8111772486772487, 0.7800925925925926, 0.7645502645502645, 0.7569444444444444, 0.7579365079365079, 0.7576058201058201, 0.7569444444444444, 0.7559523809523809]\n",
      "the training accuracy are: \n",
      "[0.8689649470899471, 0.9859457671957672, 1.0, 1.0, 1.0, 1.0, 1.0, 1.0, 1.0, 1.0, 1.0, 1.0]\n",
      "the best accuracy is : 0.8541666666666666\n"
     ]
    },
    {
     "data": {
      "image/png": "[encoded data removed]",
      "text/plain": [
       "<Figure size 432x288 with 1 Axes>"
      ]
     },
     "metadata": {
      "needs_background": "light"
     },
     "output_type": "display_data"
    }
   ],
   "source": [
    "test_accuracy = []\n",
    "train_accuracy = []\n",
    "GDBT_model = None\n",
    "max_acc = 0\n",
    "for num in range(5, 40, 3):\n",
    "    test_acc, train_acc, model = train_inference_GDBT(30, num)\n",
    "    if GDBT_model==None or max_acc < test_acc:\n",
    "        max_acc = test_acc\n",
    "        GDBT_model = model\n",
    "    test_accuracy.append(test_acc)\n",
    "    train_accuracy.append(train_acc)\n",
    "print(\"the testing accuray are: \")\n",
    "print(test_accuracy)\n",
    "print(\"the training accuracy are: \")\n",
    "print(train_accuracy)\n",
    "print(\"the best accuracy is : \" + str(max_acc))\n",
    "\n",
    "# draw the training and test result\n",
    "plt.plot(range(5, 40, 3), test_accuracy, label='testing accuracy')\n",
    "plt.plot(range(5, 40, 3), train_accuracy, label = 'training accuracy')\n",
    "plt.ylabel(\"the accuracy\")\n",
    "plt.xlabel(\"the number of classifiers in the model\")\n",
    "plt.legend(loc='lower left')\n",
    "plt.show()"
   ]
  },
  {
   "cell_type": "code",
   "execution_count": 29,
   "metadata": {},
   "outputs": [
    {
     "name": "stdout",
     "output_type": "stream",
     "text": [
      " the number of classifer is 30\n",
      " the number of classifer is 35\n",
      " the number of classifer is 40\n",
      " the number of classifer is 45\n",
      " the number of classifer is 50\n",
      " the number of classifer is 55\n",
      " the number of classifer is 60\n",
      " the number of classifer is 65\n",
      " the number of classifer is 70\n",
      " the number of classifer is 75\n",
      " the number of classifer is 80\n",
      " the number of classifer is 85\n",
      " the number of classifer is 90\n",
      " the number of classifer is 95\n",
      " the number of classifer is 100\n",
      " the number of classifer is 105\n",
      " the number of classifer is 110\n",
      " the number of classifer is 115\n",
      " the number of classifer is 120\n",
      " the number of classifer is 125\n",
      " the number of classifer is 130\n",
      " the number of classifer is 135\n",
      " the number of classifer is 140\n",
      " the number of classifer is 145\n",
      " the number of classifer is 150\n",
      " the number of classifer is 155\n",
      " the number of classifer is 160\n",
      " the number of classifer is 165\n",
      " the number of classifer is 170\n",
      " the number of classifer is 175\n",
      " the number of classifer is 180\n",
      " the number of classifer is 185\n",
      " the number of classifer is 190\n",
      " the number of classifer is 195\n",
      "the testing accuray are: \n",
      "[0.7000661375661376, 0.7043650793650794, 0.7116402116402116, 0.7109788359788359, 0.7172619047619048, 0.7208994708994709, 0.7265211640211641, 0.7294973544973545, 0.7357804232804233, 0.7367724867724867, 0.7337962962962963, 0.7384259259259259, 0.7400793650793651, 0.7414021164021164, 0.7440476190476191, 0.7420634920634921, 0.7523148148148148, 0.7533068783068783, 0.7552910052910053, 0.7552910052910053, 0.7582671957671958, 0.7602513227513228, 0.7605820105820106, 0.7622354497354498, 0.7678571428571429, 0.7671957671957672, 0.7668650793650794, 0.7668650793650794, 0.7701719576719577, 0.7724867724867724, 0.7711640211640212, 0.7698412698412699, 0.7784391534391535, 0.7741402116402116]\n",
      "the training accuracy are: \n",
      "[0.7172619047619048, 0.7266038359788359, 0.7289186507936508, 0.7313988095238095, 0.7370205026455027, 0.7464451058201058, 0.7497519841269841, 0.753885582010582, 0.7566964285714286, 0.7609126984126984, 0.7638888888888888, 0.7666997354497355, 0.771494708994709, 0.7736441798941799, 0.7761243386243386, 0.7770337301587301, 0.78125, 0.7843088624338624, 0.7887731481481481, 0.7907572751322751, 0.7935681216931217, 0.7981977513227513, 0.8014219576719577, 0.802744708994709, 0.8059689153439153, 0.8079530423280423, 0.810681216931217, 0.8133267195767195, 0.8184523809523809, 0.8177083333333334, 0.822255291005291, 0.8244874338624338, 0.8256448412698413, 0.8296957671957672]\n",
      "the best accuracy is : 0.7784391534391535\n"
     ]
    },
    {
     "data": {
      "image/png": "[encoded data removed]",
      "text/plain": [
       "<Figure size 432x288 with 1 Axes>"
      ]
     },
     "metadata": {
      "needs_background": "light"
     },
     "output_type": "display_data"
    }
   ],
   "source": [
    "## use adaboosting tree algorithm:\n",
    "test_accuracy = []\n",
    "train_accuracy = []\n",
    "GDBT_model = None\n",
    "max_acc = 0\n",
    "for num in range(30, 200, 5):\n",
    "    test_acc, train_acc, model = train_inference_AdaBoostingTree(num)\n",
    "    if GDBT_model==None or max_acc < test_acc:\n",
    "        max_acc = test_acc\n",
    "        GDBT_model = model\n",
    "    test_accuracy.append(test_acc)\n",
    "    train_accuracy.append(train_acc)\n",
    "print(\"the testing accuray are: \")\n",
    "print(test_accuracy)\n",
    "print(\"the training accuracy are: \")\n",
    "print(train_accuracy)\n",
    "print(\"the best accuracy is : \" + str(max_acc))\n",
    "\n",
    "# draw the training and test result\n",
    "plt.plot(range(30, 200, 5), test_accuracy, label='testing accuracy')\n",
    "plt.plot(range(30, 200, 5), train_accuracy, label = 'training accuracy')\n",
    "plt.ylabel(\"the accuracy\")\n",
    "plt.xlabel(\"the number of classifer in adaboosting tree model\")\n",
    "plt.legend(loc='lower left')\n",
    "plt.show()"
   ]
  },
  {
   "cell_type": "code",
   "execution_count": null,
   "metadata": {},
   "outputs": [],
   "source": []
  }
 ],
 "metadata": {
  "kernelspec": {
   "display_name": "Python 3",
   "language": "python",
   "name": "python3"
  },
  "language_info": {
   "codemirror_mode": {
    "name": "ipython",
    "version": 3
   },
   "file_extension": ".py",
   "mimetype": "text/x-python",
   "name": "python",
   "nbconvert_exporter": "python",
   "pygments_lexer": "ipython3",
   "version": "3.6.9"
  }
 },
 "nbformat": 4,
 "nbformat_minor": 2
}
