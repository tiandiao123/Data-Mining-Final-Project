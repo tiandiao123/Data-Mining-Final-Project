{
 "cells": [
  {
   "cell_type": "code",
   "execution_count": 12,
   "metadata": {},
   "outputs": [],
   "source": [
    "import numpy as np # linear algebra\n",
    "import pandas as pd # data processing, CSV file I/O (e.g. pd.read_csv)\n",
    "%matplotlib inline\n",
    "import matplotlib.pyplot as plt  # Matlab-style plotting\n",
    "import seaborn as sns"
   ]
  },
  {
   "cell_type": "code",
   "execution_count": 13,
   "metadata": {},
   "outputs": [],
   "source": [
    "train = pd.read_csv('train.csv')\n",
    "test = pd.read_csv('test.csv')"
   ]
  },
  {
   "cell_type": "code",
   "execution_count": 14,
   "metadata": {},
   "outputs": [
    {
     "data": {
      "text/html": [
       "<div>\n",
       "<style scoped>\n",
       "    .dataframe tbody tr th:only-of-type {\n",
       "        vertical-align: middle;\n",
       "    }\n",
       "\n",
       "    .dataframe tbody tr th {\n",
       "        vertical-align: top;\n",
       "    }\n",
       "\n",
       "    .dataframe thead th {\n",
       "        text-align: right;\n",
       "    }\n",
       "</style>\n",
       "<table border=\"1\" class=\"dataframe\">\n",
       "  <thead>\n",
       "    <tr style=\"text-align: right;\">\n",
       "      <th></th>\n",
       "      <th>Elevation</th>\n",
       "      <th>Aspect</th>\n",
       "      <th>Slope</th>\n",
       "      <th>Horizontal_Distance_To_Hydrology</th>\n",
       "      <th>Vertical_Distance_To_Hydrology</th>\n",
       "      <th>Horizontal_Distance_To_Roadways</th>\n",
       "      <th>Hillshade_9am</th>\n",
       "      <th>Hillshade_Noon</th>\n",
       "      <th>Hillshade_3pm</th>\n",
       "      <th>Horizontal_Distance_To_Fire_Points</th>\n",
       "      <th>...</th>\n",
       "      <th>Soil_Type32</th>\n",
       "      <th>Soil_Type33</th>\n",
       "      <th>Soil_Type34</th>\n",
       "      <th>Soil_Type35</th>\n",
       "      <th>Soil_Type36</th>\n",
       "      <th>Soil_Type37</th>\n",
       "      <th>Soil_Type38</th>\n",
       "      <th>Soil_Type39</th>\n",
       "      <th>Soil_Type40</th>\n",
       "      <th>Cover_Type</th>\n",
       "    </tr>\n",
       "  </thead>\n",
       "  <tbody>\n",
       "    <tr>\n",
       "      <td>0</td>\n",
       "      <td>2596</td>\n",
       "      <td>51</td>\n",
       "      <td>3</td>\n",
       "      <td>258</td>\n",
       "      <td>0</td>\n",
       "      <td>510</td>\n",
       "      <td>221</td>\n",
       "      <td>232</td>\n",
       "      <td>148</td>\n",
       "      <td>6279</td>\n",
       "      <td>...</td>\n",
       "      <td>0</td>\n",
       "      <td>0</td>\n",
       "      <td>0</td>\n",
       "      <td>0</td>\n",
       "      <td>0</td>\n",
       "      <td>0</td>\n",
       "      <td>0</td>\n",
       "      <td>0</td>\n",
       "      <td>0</td>\n",
       "      <td>5</td>\n",
       "    </tr>\n",
       "    <tr>\n",
       "      <td>1</td>\n",
       "      <td>2590</td>\n",
       "      <td>56</td>\n",
       "      <td>2</td>\n",
       "      <td>212</td>\n",
       "      <td>-6</td>\n",
       "      <td>390</td>\n",
       "      <td>220</td>\n",
       "      <td>235</td>\n",
       "      <td>151</td>\n",
       "      <td>6225</td>\n",
       "      <td>...</td>\n",
       "      <td>0</td>\n",
       "      <td>0</td>\n",
       "      <td>0</td>\n",
       "      <td>0</td>\n",
       "      <td>0</td>\n",
       "      <td>0</td>\n",
       "      <td>0</td>\n",
       "      <td>0</td>\n",
       "      <td>0</td>\n",
       "      <td>5</td>\n",
       "    </tr>\n",
       "    <tr>\n",
       "      <td>2</td>\n",
       "      <td>2804</td>\n",
       "      <td>139</td>\n",
       "      <td>9</td>\n",
       "      <td>268</td>\n",
       "      <td>65</td>\n",
       "      <td>3180</td>\n",
       "      <td>234</td>\n",
       "      <td>238</td>\n",
       "      <td>135</td>\n",
       "      <td>6121</td>\n",
       "      <td>...</td>\n",
       "      <td>0</td>\n",
       "      <td>0</td>\n",
       "      <td>0</td>\n",
       "      <td>0</td>\n",
       "      <td>0</td>\n",
       "      <td>0</td>\n",
       "      <td>0</td>\n",
       "      <td>0</td>\n",
       "      <td>0</td>\n",
       "      <td>2</td>\n",
       "    </tr>\n",
       "    <tr>\n",
       "      <td>3</td>\n",
       "      <td>2785</td>\n",
       "      <td>155</td>\n",
       "      <td>18</td>\n",
       "      <td>242</td>\n",
       "      <td>118</td>\n",
       "      <td>3090</td>\n",
       "      <td>238</td>\n",
       "      <td>238</td>\n",
       "      <td>122</td>\n",
       "      <td>6211</td>\n",
       "      <td>...</td>\n",
       "      <td>0</td>\n",
       "      <td>0</td>\n",
       "      <td>0</td>\n",
       "      <td>0</td>\n",
       "      <td>0</td>\n",
       "      <td>0</td>\n",
       "      <td>0</td>\n",
       "      <td>0</td>\n",
       "      <td>0</td>\n",
       "      <td>2</td>\n",
       "    </tr>\n",
       "    <tr>\n",
       "      <td>4</td>\n",
       "      <td>2595</td>\n",
       "      <td>45</td>\n",
       "      <td>2</td>\n",
       "      <td>153</td>\n",
       "      <td>-1</td>\n",
       "      <td>391</td>\n",
       "      <td>220</td>\n",
       "      <td>234</td>\n",
       "      <td>150</td>\n",
       "      <td>6172</td>\n",
       "      <td>...</td>\n",
       "      <td>0</td>\n",
       "      <td>0</td>\n",
       "      <td>0</td>\n",
       "      <td>0</td>\n",
       "      <td>0</td>\n",
       "      <td>0</td>\n",
       "      <td>0</td>\n",
       "      <td>0</td>\n",
       "      <td>0</td>\n",
       "      <td>5</td>\n",
       "    </tr>\n",
       "  </tbody>\n",
       "</table>\n",
       "<p>5 rows × 55 columns</p>\n",
       "</div>"
      ],
      "text/plain": [
       "   Elevation  Aspect  Slope  Horizontal_Distance_To_Hydrology  \\\n",
       "0       2596      51      3                               258   \n",
       "1       2590      56      2                               212   \n",
       "2       2804     139      9                               268   \n",
       "3       2785     155     18                               242   \n",
       "4       2595      45      2                               153   \n",
       "\n",
       "   Vertical_Distance_To_Hydrology  Horizontal_Distance_To_Roadways  \\\n",
       "0                               0                              510   \n",
       "1                              -6                              390   \n",
       "2                              65                             3180   \n",
       "3                             118                             3090   \n",
       "4                              -1                              391   \n",
       "\n",
       "   Hillshade_9am  Hillshade_Noon  Hillshade_3pm  \\\n",
       "0            221             232            148   \n",
       "1            220             235            151   \n",
       "2            234             238            135   \n",
       "3            238             238            122   \n",
       "4            220             234            150   \n",
       "\n",
       "   Horizontal_Distance_To_Fire_Points  ...  Soil_Type32  Soil_Type33  \\\n",
       "0                                6279  ...            0            0   \n",
       "1                                6225  ...            0            0   \n",
       "2                                6121  ...            0            0   \n",
       "3                                6211  ...            0            0   \n",
       "4                                6172  ...            0            0   \n",
       "\n",
       "   Soil_Type34  Soil_Type35  Soil_Type36  Soil_Type37  Soil_Type38  \\\n",
       "0            0            0            0            0            0   \n",
       "1            0            0            0            0            0   \n",
       "2            0            0            0            0            0   \n",
       "3            0            0            0            0            0   \n",
       "4            0            0            0            0            0   \n",
       "\n",
       "   Soil_Type39  Soil_Type40  Cover_Type  \n",
       "0            0            0           5  \n",
       "1            0            0           5  \n",
       "2            0            0           2  \n",
       "3            0            0           2  \n",
       "4            0            0           5  \n",
       "\n",
       "[5 rows x 55 columns]"
      ]
     },
     "execution_count": 14,
     "metadata": {},
     "output_type": "execute_result"
    }
   ],
   "source": [
    "train.drop(['Id'], inplace = True, axis = 1 )\n",
    "train.head()"
   ]
  },
  {
   "cell_type": "code",
   "execution_count": 15,
   "metadata": {},
   "outputs": [
    {
     "data": {
      "text/plain": [
       "2160"
      ]
     },
     "execution_count": 15,
     "metadata": {},
     "output_type": "execute_result"
    }
   ],
   "source": [
    "train_labels = train['Cover_Type']\n",
    "np.sum(train_labels == 7)"
   ]
  },
  {
   "cell_type": "code",
   "execution_count": 16,
   "metadata": {},
   "outputs": [
    {
     "data": {
      "text/html": [
       "<div>\n",
       "<style scoped>\n",
       "    .dataframe tbody tr th:only-of-type {\n",
       "        vertical-align: middle;\n",
       "    }\n",
       "\n",
       "    .dataframe tbody tr th {\n",
       "        vertical-align: top;\n",
       "    }\n",
       "\n",
       "    .dataframe thead th {\n",
       "        text-align: right;\n",
       "    }\n",
       "</style>\n",
       "<table border=\"1\" class=\"dataframe\">\n",
       "  <thead>\n",
       "    <tr style=\"text-align: right;\">\n",
       "      <th></th>\n",
       "      <th>Elevation</th>\n",
       "      <th>Aspect</th>\n",
       "      <th>Slope</th>\n",
       "      <th>Horizontal_Distance_To_Hydrology</th>\n",
       "      <th>Vertical_Distance_To_Hydrology</th>\n",
       "      <th>Horizontal_Distance_To_Roadways</th>\n",
       "      <th>Hillshade_9am</th>\n",
       "      <th>Hillshade_Noon</th>\n",
       "      <th>Hillshade_3pm</th>\n",
       "      <th>Horizontal_Distance_To_Fire_Points</th>\n",
       "      <th>...</th>\n",
       "      <th>Soil_Type31</th>\n",
       "      <th>Soil_Type32</th>\n",
       "      <th>Soil_Type33</th>\n",
       "      <th>Soil_Type34</th>\n",
       "      <th>Soil_Type35</th>\n",
       "      <th>Soil_Type36</th>\n",
       "      <th>Soil_Type37</th>\n",
       "      <th>Soil_Type38</th>\n",
       "      <th>Soil_Type39</th>\n",
       "      <th>Soil_Type40</th>\n",
       "    </tr>\n",
       "  </thead>\n",
       "  <tbody>\n",
       "    <tr>\n",
       "      <td>0</td>\n",
       "      <td>2596</td>\n",
       "      <td>51</td>\n",
       "      <td>3</td>\n",
       "      <td>258</td>\n",
       "      <td>0</td>\n",
       "      <td>510</td>\n",
       "      <td>221</td>\n",
       "      <td>232</td>\n",
       "      <td>148</td>\n",
       "      <td>6279</td>\n",
       "      <td>...</td>\n",
       "      <td>0</td>\n",
       "      <td>0</td>\n",
       "      <td>0</td>\n",
       "      <td>0</td>\n",
       "      <td>0</td>\n",
       "      <td>0</td>\n",
       "      <td>0</td>\n",
       "      <td>0</td>\n",
       "      <td>0</td>\n",
       "      <td>0</td>\n",
       "    </tr>\n",
       "    <tr>\n",
       "      <td>1</td>\n",
       "      <td>2590</td>\n",
       "      <td>56</td>\n",
       "      <td>2</td>\n",
       "      <td>212</td>\n",
       "      <td>-6</td>\n",
       "      <td>390</td>\n",
       "      <td>220</td>\n",
       "      <td>235</td>\n",
       "      <td>151</td>\n",
       "      <td>6225</td>\n",
       "      <td>...</td>\n",
       "      <td>0</td>\n",
       "      <td>0</td>\n",
       "      <td>0</td>\n",
       "      <td>0</td>\n",
       "      <td>0</td>\n",
       "      <td>0</td>\n",
       "      <td>0</td>\n",
       "      <td>0</td>\n",
       "      <td>0</td>\n",
       "      <td>0</td>\n",
       "    </tr>\n",
       "    <tr>\n",
       "      <td>2</td>\n",
       "      <td>2804</td>\n",
       "      <td>139</td>\n",
       "      <td>9</td>\n",
       "      <td>268</td>\n",
       "      <td>65</td>\n",
       "      <td>3180</td>\n",
       "      <td>234</td>\n",
       "      <td>238</td>\n",
       "      <td>135</td>\n",
       "      <td>6121</td>\n",
       "      <td>...</td>\n",
       "      <td>0</td>\n",
       "      <td>0</td>\n",
       "      <td>0</td>\n",
       "      <td>0</td>\n",
       "      <td>0</td>\n",
       "      <td>0</td>\n",
       "      <td>0</td>\n",
       "      <td>0</td>\n",
       "      <td>0</td>\n",
       "      <td>0</td>\n",
       "    </tr>\n",
       "    <tr>\n",
       "      <td>3</td>\n",
       "      <td>2785</td>\n",
       "      <td>155</td>\n",
       "      <td>18</td>\n",
       "      <td>242</td>\n",
       "      <td>118</td>\n",
       "      <td>3090</td>\n",
       "      <td>238</td>\n",
       "      <td>238</td>\n",
       "      <td>122</td>\n",
       "      <td>6211</td>\n",
       "      <td>...</td>\n",
       "      <td>0</td>\n",
       "      <td>0</td>\n",
       "      <td>0</td>\n",
       "      <td>0</td>\n",
       "      <td>0</td>\n",
       "      <td>0</td>\n",
       "      <td>0</td>\n",
       "      <td>0</td>\n",
       "      <td>0</td>\n",
       "      <td>0</td>\n",
       "    </tr>\n",
       "    <tr>\n",
       "      <td>4</td>\n",
       "      <td>2595</td>\n",
       "      <td>45</td>\n",
       "      <td>2</td>\n",
       "      <td>153</td>\n",
       "      <td>-1</td>\n",
       "      <td>391</td>\n",
       "      <td>220</td>\n",
       "      <td>234</td>\n",
       "      <td>150</td>\n",
       "      <td>6172</td>\n",
       "      <td>...</td>\n",
       "      <td>0</td>\n",
       "      <td>0</td>\n",
       "      <td>0</td>\n",
       "      <td>0</td>\n",
       "      <td>0</td>\n",
       "      <td>0</td>\n",
       "      <td>0</td>\n",
       "      <td>0</td>\n",
       "      <td>0</td>\n",
       "      <td>0</td>\n",
       "    </tr>\n",
       "  </tbody>\n",
       "</table>\n",
       "<p>5 rows × 54 columns</p>\n",
       "</div>"
      ],
      "text/plain": [
       "   Elevation  Aspect  Slope  Horizontal_Distance_To_Hydrology  \\\n",
       "0       2596      51      3                               258   \n",
       "1       2590      56      2                               212   \n",
       "2       2804     139      9                               268   \n",
       "3       2785     155     18                               242   \n",
       "4       2595      45      2                               153   \n",
       "\n",
       "   Vertical_Distance_To_Hydrology  Horizontal_Distance_To_Roadways  \\\n",
       "0                               0                              510   \n",
       "1                              -6                              390   \n",
       "2                              65                             3180   \n",
       "3                             118                             3090   \n",
       "4                              -1                              391   \n",
       "\n",
       "   Hillshade_9am  Hillshade_Noon  Hillshade_3pm  \\\n",
       "0            221             232            148   \n",
       "1            220             235            151   \n",
       "2            234             238            135   \n",
       "3            238             238            122   \n",
       "4            220             234            150   \n",
       "\n",
       "   Horizontal_Distance_To_Fire_Points  ...  Soil_Type31  Soil_Type32  \\\n",
       "0                                6279  ...            0            0   \n",
       "1                                6225  ...            0            0   \n",
       "2                                6121  ...            0            0   \n",
       "3                                6211  ...            0            0   \n",
       "4                                6172  ...            0            0   \n",
       "\n",
       "   Soil_Type33  Soil_Type34  Soil_Type35  Soil_Type36  Soil_Type37  \\\n",
       "0            0            0            0            0            0   \n",
       "1            0            0            0            0            0   \n",
       "2            0            0            0            0            0   \n",
       "3            0            0            0            0            0   \n",
       "4            0            0            0            0            0   \n",
       "\n",
       "   Soil_Type38  Soil_Type39  Soil_Type40  \n",
       "0            0            0            0  \n",
       "1            0            0            0  \n",
       "2            0            0            0  \n",
       "3            0            0            0  \n",
       "4            0            0            0  \n",
       "\n",
       "[5 rows x 54 columns]"
      ]
     },
     "execution_count": 16,
     "metadata": {},
     "output_type": "execute_result"
    }
   ],
   "source": [
    "train.drop(['Cover_Type'], inplace = True, axis = 1 )\n",
    "train.head()"
   ]
  },
  {
   "cell_type": "code",
   "execution_count": 17,
   "metadata": {},
   "outputs": [],
   "source": [
    "from sklearn.model_selection import train_test_split\n",
    "from sklearn.neighbors import KNeighborsClassifier\n",
    "from sklearn.ensemble import GradientBoostingClassifier\n",
    "X_train, X_test, y_train, y_test = train_test_split(train, train_labels, test_size=0.1, random_state=42, shuffle=True)"
   ]
  },
  {
   "cell_type": "code",
   "execution_count": 18,
   "metadata": {},
   "outputs": [],
   "source": [
    "def train_inference_KNN(number_of_neigbor):\n",
    "    print(\"training KNN model ...\")\n",
    "    print(\"the number of neig is: \" +str(number_of_neigbor))\n",
    "    model = KNeighborsClassifier(n_neighbors=number_of_neigbor)\n",
    "    model.fit(X_train, y_train)\n",
    "    test_predictions = model.predict(X_test)\n",
    "    train_predictions = model.predict(X_train)\n",
    "    return np.sum(test_predictions == y_test)/len(y_test), np.sum(train_predictions == y_train)/len(y_train), model"
   ]
  },
  {
   "cell_type": "code",
   "execution_count": 22,
   "metadata": {},
   "outputs": [
    {
     "data": {
      "text/plain": [
       "1512"
      ]
     },
     "execution_count": 22,
     "metadata": {},
     "output_type": "execute_result"
    }
   ],
   "source": [
    "len(X_test)"
   ]
  },
  {
   "cell_type": "code",
   "execution_count": 23,
   "metadata": {},
   "outputs": [
    {
     "name": "stdout",
     "output_type": "stream",
     "text": [
      "training KNN model ...\n",
      "the number of neig is: 3\n",
      "training KNN model ...\n",
      "the number of neig is: 5\n",
      "training KNN model ...\n",
      "the number of neig is: 7\n",
      "training KNN model ...\n",
      "the number of neig is: 9\n",
      "training KNN model ...\n",
      "the number of neig is: 11\n",
      "training KNN model ...\n",
      "the number of neig is: 13\n",
      "training KNN model ...\n",
      "the number of neig is: 15\n",
      "training KNN model ...\n",
      "the number of neig is: 17\n",
      "the test accuracies are: \n",
      "[0.830026455026455, 0.8247354497354498, 0.8035714285714286, 0.791005291005291, 0.7751322751322751, 0.7678571428571429, 0.7625661375661376, 0.7585978835978836]\n",
      "the training accraucy are : \n",
      "[0.9193121693121693, 0.8805114638447972, 0.8561875367430923, 0.8350235155790712, 0.8224573780129336, 0.81114050558495, 0.8032774838330394, 0.7926219870664315]\n",
      "the best accuracy is : 0.830026455026455\n"
     ]
    }
   ],
   "source": [
    "test_accuracy = []\n",
    "train_accuracy = []\n",
    "max_acc = 0\n",
    "KNN_model = None\n",
    "for num in range(3, 19, 2):\n",
    "    test_acc, train_acc, model = train_inference_KNN(num)\n",
    "    if KNN_model == None or max_acc < test_acc:\n",
    "        max_acc = test_acc\n",
    "        KNN_model = model\n",
    "    test_accuracy.append(test_acc)\n",
    "    train_accuracy.append(train_acc)\n",
    "print(\"the test accuracies are: \")\n",
    "print(test_accuracy)\n",
    "print(\"the training accraucy are : \")\n",
    "print(train_accuracy)\n",
    "print(\"the best accuracy is : \" +str(max_acc))"
   ]
  },
  {
   "cell_type": "code",
   "execution_count": 24,
   "metadata": {},
   "outputs": [
    {
     "data": {
      "image/png": "[encoded data removed]",
      "text/plain": [
       "<Figure size 432x288 with 1 Axes>"
      ]
     },
     "metadata": {
      "needs_background": "light"
     },
     "output_type": "display_data"
    }
   ],
   "source": [
    "import matplotlib.pyplot as plt\n",
    "plt.plot(range(3, 19, 2), test_accuracy, label='testing accuracy')\n",
    "plt.plot(range(3, 19, 2), train_accuracy, label = 'training accuracy')\n",
    "plt.ylabel(\"the accuracy\")\n",
    "plt.xlabel(\"the number of neigbors in KNN model\")\n",
    "plt.legend(loc='lower left')\n",
    "plt.show()"
   ]
  },
  {
   "cell_type": "code",
   "execution_count": 25,
   "metadata": {},
   "outputs": [],
   "source": [
    "### train Desion tree model and create a function:\n",
    "from sklearn.tree import DecisionTreeClassifier\n",
    "def train_inference_DT(max_depth_):\n",
    "    print(\"train the decision tree model with maxdepth is \" +str(max_depth_))\n",
    "    model = DecisionTreeClassifier(max_depth=max_depth_)\n",
    "    model.fit(X_train, y_train)\n",
    "    test_predictions = model.predict(X_test)\n",
    "    train_predictions = model.predict(X_train)\n",
    "    return np.sum(test_predictions == y_test)/len(y_test), np.sum(train_predictions == y_train)/len(y_train), model"
   ]
  },
  {
   "cell_type": "code",
   "execution_count": 26,
   "metadata": {},
   "outputs": [
    {
     "name": "stdout",
     "output_type": "stream",
     "text": [
      "train the decision tree model with maxdepth is 5\n",
      "train the decision tree model with maxdepth is 8\n",
      "train the decision tree model with maxdepth is 11\n",
      "train the decision tree model with maxdepth is 14\n",
      "train the decision tree model with maxdepth is 17\n",
      "train the decision tree model with maxdepth is 20\n",
      "train the decision tree model with maxdepth is 23\n",
      "train the decision tree model with maxdepth is 26\n",
      "train the decision tree model with maxdepth is 29\n",
      "train the decision tree model with maxdepth is 32\n",
      "train the decision tree model with maxdepth is 35\n",
      "train the decision tree model with maxdepth is 38\n",
      "the testing accuray are: \n",
      "[0.6441798941798942, 0.7195767195767195, 0.7791005291005291, 0.7883597883597884, 0.791005291005291, 0.7936507936507936, 0.7870370370370371, 0.7896825396825397, 0.7824074074074074, 0.7876984126984127, 0.7890211640211641, 0.7883597883597884]\n",
      "the training accuray are: \n",
      "[0.6712962962962963, 0.76168430335097, 0.859347442680776, 0.9349647266313933, 0.9764844209288653, 0.9933127572016461, 0.9976484420928865, 0.9994121105232217, 0.9998530276308054, 1.0, 1.0, 1.0]\n",
      "the best accuracy is : 0.7936507936507936\n"
     ]
    }
   ],
   "source": [
    "test_accuracy = []\n",
    "train_accuracy = []\n",
    "DT_model = None\n",
    "max_acc = 0\n",
    "for num in range(5, 40, 3):\n",
    "    test_acc, train_acc, model = train_inference_DT(num)\n",
    "    if DT_model==None or max_acc < test_acc:\n",
    "        max_acc = test_acc\n",
    "        DT_model = model\n",
    "    test_accuracy.append(test_acc)\n",
    "    train_accuracy.append(train_acc)\n",
    "print(\"the testing accuray are: \")\n",
    "print(test_accuracy)\n",
    "print(\"the training accuray are: \")\n",
    "print(train_accuracy)\n",
    "print(\"the best accuracy is : \" +str(max_acc))"
   ]
  },
  {
   "cell_type": "code",
   "execution_count": 27,
   "metadata": {},
   "outputs": [
    {
     "data": {
      "image/png": "[encoded data removed]",
      "text/plain": [
       "<Figure size 432x288 with 1 Axes>"
      ]
     },
     "metadata": {
      "needs_background": "light"
     },
     "output_type": "display_data"
    }
   ],
   "source": [
    "### draw decision tree result\n",
    "import matplotlib.pyplot as plt\n",
    "plt.plot(range(5, 40, 3), test_accuracy, label='testing accuracy')\n",
    "plt.plot(range(5, 40, 3), train_accuracy, label = 'training accuracy')\n",
    "plt.ylabel(\"the accuracy\")\n",
    "plt.xlabel(\"max_depth of decision tree model\")\n",
    "plt.legend(loc='lower left')\n",
    "plt.show()"
   ]
  },
  {
   "cell_type": "code",
   "execution_count": 35,
   "metadata": {},
   "outputs": [],
   "source": [
    "from sklearn.ensemble import RandomForestClassifier\n",
    "# random forest tree model\n",
    "def train_inference_random_forest_tree(n_estimator_, max_depth_):\n",
    "    print(\" the number of tree is \" + str(n_estimator_))\n",
    "    print(\"train the random forest tree model with maxdepth is \" +str(max_depth_))\n",
    "    model = RandomForestClassifier(max_depth=max_depth_, n_estimators=n_estimator_)\n",
    "    model.fit(X_train, y_train)\n",
    "    test_predictions = model.predict(X_test)\n",
    "    train_predictions = model.predict(X_train)\n",
    "    return np.sum(test_predictions == y_test)/len(y_test), np.sum(train_predictions == y_train)/len(y_train), model"
   ]
  },
  {
   "cell_type": "code",
   "execution_count": 36,
   "metadata": {},
   "outputs": [
    {
     "name": "stdout",
     "output_type": "stream",
     "text": [
      " the number of tree is 10\n",
      "train the random forest tree model with maxdepth is 5\n",
      " the number of tree is 10\n",
      "train the random forest tree model with maxdepth is 8\n",
      " the number of tree is 10\n",
      "train the random forest tree model with maxdepth is 11\n",
      " the number of tree is 10\n",
      "train the random forest tree model with maxdepth is 14\n",
      " the number of tree is 10\n",
      "train the random forest tree model with maxdepth is 17\n",
      " the number of tree is 10\n",
      "train the random forest tree model with maxdepth is 20\n",
      " the number of tree is 10\n",
      "train the random forest tree model with maxdepth is 23\n",
      " the number of tree is 10\n",
      "train the random forest tree model with maxdepth is 26\n",
      " the number of tree is 10\n",
      "train the random forest tree model with maxdepth is 29\n",
      " the number of tree is 10\n",
      "train the random forest tree model with maxdepth is 32\n",
      " the number of tree is 10\n",
      "train the random forest tree model with maxdepth is 35\n",
      " the number of tree is 10\n",
      "train the random forest tree model with maxdepth is 38\n",
      " the number of tree is 10\n",
      "train the random forest tree model with maxdepth is 41\n",
      " the number of tree is 10\n",
      "train the random forest tree model with maxdepth is 44\n",
      " the number of tree is 10\n",
      "train the random forest tree model with maxdepth is 47\n",
      " the number of tree is 10\n",
      "train the random forest tree model with maxdepth is 50\n",
      " the number of tree is 10\n",
      "train the random forest tree model with maxdepth is 53\n",
      " the number of tree is 10\n",
      "train the random forest tree model with maxdepth is 56\n",
      " the number of tree is 10\n",
      "train the random forest tree model with maxdepth is 59\n",
      "the testing accuray are: \n",
      "[0.6845238095238095, 0.7665343915343915, 0.7731481481481481, 0.8227513227513228, 0.841931216931217, 0.8511904761904762, 0.8412698412698413, 0.841931216931217, 0.8458994708994709, 0.8458994708994709, 0.8511904761904762, 0.8511904761904762, 0.8412698412698413, 0.8465608465608465, 0.8531746031746031, 0.8571428571428571, 0.8538359788359788, 0.843915343915344, 0.8458994708994709]\n",
      "the training accuray are: \n",
      "[0.6919459141681364, 0.7815990593768372, 0.842445620223398, 0.92173721340388, 0.9690623162845385, 0.9855232216343327, 0.9899323927101705, 0.9932392710170488, 0.9936801881246325, 0.9937536743092299, 0.9955173427395649, 0.9944150499706055, 0.9929453262786596, 0.994782480893592, 0.9944885361552028, 0.9941945914168137, 0.9940476190476191, 0.9933862433862434, 0.9934597295708407]\n",
      "the best accuracy is : 0.8571428571428571\n"
     ]
    }
   ],
   "source": [
    "# train  random FT model and fix n_estimator == 10\n",
    "# thorugh change depth of tree to investigate the accuracy changes\n",
    "\n",
    "test_accuracy = []\n",
    "train_accuracy = []\n",
    "RFT_model = None\n",
    "max_acc = 0\n",
    "for num in range(5, 60, 3):\n",
    "    test_acc, train_acc, model = train_inference_random_forest_tree(10, num)\n",
    "    if RFT_model==None or max_acc < test_acc:\n",
    "        max_acc = test_acc\n",
    "        RFT_model = model\n",
    "    test_accuracy.append(test_acc)\n",
    "    train_accuracy.append(train_acc)\n",
    "print(\"the testing accuray are: \")\n",
    "print(test_accuracy)\n",
    "print(\"the training accuray are: \")\n",
    "print(train_accuracy)\n",
    "print(\"the best accuracy is : \" +str(max_acc))"
   ]
  },
  {
   "cell_type": "code",
   "execution_count": 37,
   "metadata": {},
   "outputs": [
    {
     "data": {
      "image/png": "[encoded data removed]",
      "text/plain": [
       "<Figure size 432x288 with 1 Axes>"
      ]
     },
     "metadata": {
      "needs_background": "light"
     },
     "output_type": "display_data"
    }
   ],
   "source": [
    "# draw random forest tree result, when we have 10 different tree\n",
    "import matplotlib.pyplot as plt\n",
    "plt.plot(range(5, 60, 3), test_accuracy, label='testing accuracy')\n",
    "plt.plot(range(5, 60, 3), train_accuracy, label = 'training accuracy')\n",
    "plt.ylabel(\"the accuracy\")\n",
    "plt.xlabel(\"max_depth of random forest tree\")\n",
    "plt.legend(loc='lower left')\n",
    "plt.show()"
   ]
  },
  {
   "cell_type": "code",
   "execution_count": 38,
   "metadata": {},
   "outputs": [
    {
     "name": "stdout",
     "output_type": "stream",
     "text": [
      " the number of tree is 30\n",
      "train the random forest tree model with maxdepth is 5\n",
      " the number of tree is 30\n",
      "train the random forest tree model with maxdepth is 8\n",
      " the number of tree is 30\n",
      "train the random forest tree model with maxdepth is 11\n",
      " the number of tree is 30\n",
      "train the random forest tree model with maxdepth is 14\n",
      " the number of tree is 30\n",
      "train the random forest tree model with maxdepth is 17\n",
      " the number of tree is 30\n",
      "train the random forest tree model with maxdepth is 20\n",
      " the number of tree is 30\n",
      "train the random forest tree model with maxdepth is 23\n",
      " the number of tree is 30\n",
      "train the random forest tree model with maxdepth is 26\n",
      " the number of tree is 30\n",
      "train the random forest tree model with maxdepth is 29\n",
      " the number of tree is 30\n",
      "train the random forest tree model with maxdepth is 32\n",
      " the number of tree is 30\n",
      "train the random forest tree model with maxdepth is 35\n",
      " the number of tree is 30\n",
      "train the random forest tree model with maxdepth is 38\n",
      " the number of tree is 30\n",
      "train the random forest tree model with maxdepth is 41\n",
      " the number of tree is 30\n",
      "train the random forest tree model with maxdepth is 44\n",
      " the number of tree is 30\n",
      "train the random forest tree model with maxdepth is 47\n",
      " the number of tree is 30\n",
      "train the random forest tree model with maxdepth is 50\n",
      " the number of tree is 30\n",
      "train the random forest tree model with maxdepth is 53\n",
      " the number of tree is 30\n",
      "train the random forest tree model with maxdepth is 56\n",
      " the number of tree is 30\n",
      "train the random forest tree model with maxdepth is 59\n",
      "the testing accuray are: \n",
      "[0.6898148148148148, 0.7592592592592593, 0.8121693121693122, 0.843915343915344, 0.8564814814814815, 0.8683862433862434, 0.8650793650793651, 0.8624338624338624, 0.8677248677248677, 0.8697089947089947, 0.875, 0.8644179894179894, 0.8677248677248677, 0.8716931216931217, 0.8677248677248677, 0.8736772486772487, 0.8611111111111112, 0.8697089947089947, 0.8657407407407407]\n",
      "the training accuray are: \n",
      "[0.7143592004703115, 0.7889476778365667, 0.8592004703115814, 0.935626102292769, 0.9787624926513815, 0.9950029394473839, 0.9983833039388595, 0.9994855967078189, 0.9997060552616108, 0.9997060552616108, 0.9997795414462081, 0.9998530276308054, 0.9997060552616108, 0.9998530276308054, 0.9995590828924162, 0.9993386243386243, 0.9997060552616108, 0.9997795414462081, 0.9996325690770135]\n",
      "the best accuracy is : 0.875\n"
     ]
    }
   ],
   "source": [
    "# set the number of ramdom forest tree as 30, and re_train the ramdom foreste tree model\n",
    "test_accuracy = []\n",
    "train_accuracy = []\n",
    "RFT_model = None\n",
    "max_acc = 0\n",
    "for num in range(5, 60, 3):\n",
    "    test_acc, train_acc, model = train_inference_random_forest_tree(30, num)\n",
    "    if RFT_model==None or max_acc < test_acc:\n",
    "        max_acc = test_acc\n",
    "        RFT_model = model\n",
    "    test_accuracy.append(test_acc)\n",
    "    train_accuracy.append(train_acc)\n",
    "print(\"the testing accuray are: \")\n",
    "print(test_accuracy)\n",
    "print(\"the training accuray are: \")\n",
    "print(train_accuracy)\n",
    "print(\"the best accuracy is : \" +str(max_acc))"
   ]
  },
  {
   "cell_type": "code",
   "execution_count": 40,
   "metadata": {},
   "outputs": [
    {
     "data": {
      "image/png": "[encoded data removed]",
      "text/plain": [
       "<Figure size 432x288 with 1 Axes>"
      ]
     },
     "metadata": {
      "needs_background": "light"
     },
     "output_type": "display_data"
    }
   ],
   "source": [
    "import matplotlib.pyplot as plt\n",
    "plt.plot(range(5, 60, 3), test_accuracy, label='testing accuracy')\n",
    "plt.plot(range(5, 60, 3), train_accuracy, label = 'training accuracy')\n",
    "plt.ylabel(\"the accuracy\")\n",
    "plt.xlabel(\"max_depth of random forest tree\")\n",
    "plt.legend(loc='lower left')\n",
    "plt.show()"
   ]
  },
  {
   "cell_type": "code",
   "execution_count": 42,
   "metadata": {},
   "outputs": [
    {
     "name": "stdout",
     "output_type": "stream",
     "text": [
      " the number of tree is 100\n",
      "train the random forest tree model with maxdepth is 5\n",
      " the number of tree is 100\n",
      "train the random forest tree model with maxdepth is 8\n",
      " the number of tree is 100\n",
      "train the random forest tree model with maxdepth is 11\n",
      " the number of tree is 100\n",
      "train the random forest tree model with maxdepth is 14\n",
      " the number of tree is 100\n",
      "train the random forest tree model with maxdepth is 17\n",
      " the number of tree is 100\n",
      "train the random forest tree model with maxdepth is 20\n",
      " the number of tree is 100\n",
      "train the random forest tree model with maxdepth is 23\n",
      " the number of tree is 100\n",
      "train the random forest tree model with maxdepth is 26\n",
      " the number of tree is 100\n",
      "train the random forest tree model with maxdepth is 29\n",
      " the number of tree is 100\n",
      "train the random forest tree model with maxdepth is 32\n",
      " the number of tree is 100\n",
      "train the random forest tree model with maxdepth is 35\n",
      " the number of tree is 100\n",
      "train the random forest tree model with maxdepth is 38\n",
      " the number of tree is 100\n",
      "train the random forest tree model with maxdepth is 41\n",
      " the number of tree is 100\n",
      "train the random forest tree model with maxdepth is 44\n",
      " the number of tree is 100\n",
      "train the random forest tree model with maxdepth is 47\n",
      " the number of tree is 100\n",
      "train the random forest tree model with maxdepth is 50\n",
      " the number of tree is 100\n",
      "train the random forest tree model with maxdepth is 53\n",
      " the number of tree is 100\n",
      "train the random forest tree model with maxdepth is 56\n",
      " the number of tree is 100\n",
      "train the random forest tree model with maxdepth is 59\n",
      "the testing accuray are: \n",
      "[0.6858465608465608, 0.753968253968254, 0.8029100529100529, 0.8458994708994709, 0.8617724867724867, 0.8723544973544973, 0.8756613756613757, 0.873015873015873, 0.8716931216931217, 0.8743386243386243, 0.8716931216931217, 0.8723544973544973, 0.871031746031746, 0.8756613756613757, 0.8809523809523809, 0.876984126984127, 0.8697089947089947, 0.8756613756613757, 0.8723544973544973]\n",
      "the training accuray are: \n",
      "[0.7112727807172252, 0.7928424456202234, 0.8709582598471487, 0.9487801293356849, 0.98559670781893, 0.9968400940623163, 0.9994855967078189, 0.9997795414462081, 1.0, 1.0, 1.0, 1.0, 1.0, 1.0, 1.0, 1.0, 1.0, 1.0, 0.9999265138154027]\n",
      "the best accuracy is : 0.8809523809523809\n"
     ]
    },
    {
     "data": {
      "image/png": "[encoded data removed]",
      "text/plain": [
       "<Figure size 432x288 with 1 Axes>"
      ]
     },
     "metadata": {
      "needs_background": "light"
     },
     "output_type": "display_data"
    }
   ],
   "source": [
    "# set the number of ramdom forest tree as 100, and re_train the ramdom foreste tree model\n",
    "test_accuracy = []\n",
    "train_accuracy = []\n",
    "RFT_model = None\n",
    "max_acc = 0\n",
    "for num in range(5, 60, 3):\n",
    "    test_acc, train_acc, model = train_inference_random_forest_tree(100, num)\n",
    "    if RFT_model==None or max_acc < test_acc:\n",
    "        max_acc = test_acc\n",
    "        RFT_model = model\n",
    "    test_accuracy.append(test_acc)\n",
    "    train_accuracy.append(train_acc)\n",
    "print(\"the testing accuray are: \")\n",
    "print(test_accuracy)\n",
    "print(\"the training accuray are: \")\n",
    "print(train_accuracy)\n",
    "print(\"the best accuracy is : \" +str(max_acc))\n",
    "\n",
    "\n",
    "# draw the training and test result\n",
    "plt.plot(range(5, 60, 3), test_accuracy, label='testing accuracy')\n",
    "plt.plot(range(5, 60, 3), train_accuracy, label = 'training accuracy')\n",
    "plt.ylabel(\"the accuracy\")\n",
    "plt.xlabel(\"max depth of random forest tree with number of trees 100\")\n",
    "plt.legend(loc='lower left')\n",
    "plt.show()"
   ]
  },
  {
   "cell_type": "markdown",
   "metadata": {},
   "source": [
    "### now we are going to use gradient boosting tree to improve the result, and hopefully we can get better results!\n"
   ]
  },
  {
   "cell_type": "code",
   "execution_count": 43,
   "metadata": {},
   "outputs": [],
   "source": [
    "def train_inference_GDBT(n_estimator_, max_depth_):\n",
    "    print(\" the number of tree is \" + str(n_estimator_))\n",
    "    print(\"train the GDBT tree model with maxdepth is \" +str(max_depth_))\n",
    "    model = GradientBoostingClassifier(max_depth=max_depth_, n_estimators = n_estimator_)\n",
    "    model.fit(X_train, y_train)\n",
    "    test_predictions = model.predict(X_test)\n",
    "    train_predictions = model.predict(X_train)\n",
    "    return np.sum(test_predictions == y_test)/len(y_test), np.sum(train_predictions == y_train)/len(y_train), model"
   ]
  },
  {
   "cell_type": "code",
   "execution_count": 22,
   "metadata": {},
   "outputs": [
    {
     "name": "stdout",
     "output_type": "stream",
     "text": [
      " the number of tree is 30\n",
      "train the GDBT tree model with maxdepth is 5\n",
      " the number of tree is 30\n",
      "train the GDBT tree model with maxdepth is 8\n",
      " the number of tree is 30\n",
      "train the GDBT tree model with maxdepth is 11\n",
      " the number of tree is 30\n",
      "train the GDBT tree model with maxdepth is 14\n",
      " the number of tree is 30\n",
      "train the GDBT tree model with maxdepth is 17\n",
      " the number of tree is 30\n",
      "train the GDBT tree model with maxdepth is 20\n",
      " the number of tree is 30\n",
      "train the GDBT tree model with maxdepth is 23\n",
      " the number of tree is 30\n",
      "train the GDBT tree model with maxdepth is 26\n",
      " the number of tree is 30\n",
      "train the GDBT tree model with maxdepth is 29\n",
      " the number of tree is 30\n",
      "train the GDBT tree model with maxdepth is 32\n",
      " the number of tree is 30\n",
      "train the GDBT tree model with maxdepth is 35\n",
      " the number of tree is 30\n",
      "train the GDBT tree model with maxdepth is 38\n",
      "the testing accuray are: \n",
      "[0.8005952380952381, 0.8505291005291006, 0.857473544973545, 0.8541666666666666, 0.8416005291005291, 0.8359788359788359, 0.816468253968254, 0.8101851851851852, 0.8012566137566137, 0.8002645502645502, 0.796957671957672, 0.7962962962962963]\n",
      "the training accuracy are: \n",
      "[0.8509424603174603, 0.9633763227513228, 0.9993386243386243, 1.0, 1.0, 1.0, 1.0, 1.0, 1.0, 1.0, 1.0, 1.0]\n",
      "the best accuracy is : 0.857473544973545\n"
     ]
    },
    {
     "data": {
      "image/png": "[encoded data removed]",
      "text/plain": [
       "<Figure size 432x288 with 1 Axes>"
      ]
     },
     "metadata": {
      "needs_background": "light"
     },
     "output_type": "display_data"
    }
   ],
   "source": [
    "test_accuracy = []\n",
    "train_accuracy = []\n",
    "GDBT_model = None\n",
    "max_acc = 0\n",
    "for num in range(5, 40, 3):\n",
    "    test_acc, train_acc, model = train_inference_GDBT(30, num)\n",
    "    if GDBT_model==None or max_acc < test_acc:\n",
    "        max_acc = test_acc\n",
    "        GDBT_model = model\n",
    "    test_accuracy.append(test_acc)\n",
    "    train_accuracy.append(train_acc)\n",
    "print(\"the testing accuray are: \")\n",
    "print(test_accuracy)\n",
    "print(\"the training accuracy are: \")\n",
    "print(train_accuracy)\n",
    "print(\"the best accuracy is : \" + str(max_acc))\n",
    "\n",
    "# draw the training and test result\n",
    "plt.plot(range(5, 40, 3), test_accuracy, label='testing accuracy')\n",
    "plt.plot(range(5, 40, 3), train_accuracy, label = 'training accuracy')\n",
    "plt.ylabel(\"the accuracy\")\n",
    "plt.xlabel(\"the number of neigbors in KNN model\")\n",
    "plt.legend(loc='lower left')\n",
    "plt.show()"
   ]
  },
  {
   "cell_type": "markdown",
   "metadata": {},
   "source": [
    "### Thus, the best model is gradient booting tree, which can acheive testing accuray as 0.85. However, the testing accuracy is a little low ,and it could be likely that we didn't do data preprecessing, Let's try PCA  method to work on cleaning data, and get the most important features of them."
   ]
  },
  {
   "cell_type": "code",
   "execution_count": 8,
   "metadata": {},
   "outputs": [],
   "source": [
    "from sklearn.preprocessing import StandardScaler\n",
    "columns = []\n",
    "for name in train.columns:\n",
    "    columns.append(name)\n",
    "\n",
    "# use PCA to preprocess data, firtly try 25 components \n",
    "from sklearn.decomposition import PCA\n",
    "X = train.loc[:,columns].values\n",
    "X = StandardScaler().fit_transform(X)\n",
    "pca = PCA(n_components=25)\n",
    "principalComponents = pca.fit_transform(X)\n",
    "principalDf = pd.DataFrame(data = principalComponents)"
   ]
  },
  {
   "cell_type": "code",
   "execution_count": 9,
   "metadata": {},
   "outputs": [
    {
     "data": {
      "text/html": [
       "<div>\n",
       "<style scoped>\n",
       "    .dataframe tbody tr th:only-of-type {\n",
       "        vertical-align: middle;\n",
       "    }\n",
       "\n",
       "    .dataframe tbody tr th {\n",
       "        vertical-align: top;\n",
       "    }\n",
       "\n",
       "    .dataframe thead th {\n",
       "        text-align: right;\n",
       "    }\n",
       "</style>\n",
       "<table border=\"1\" class=\"dataframe\">\n",
       "  <thead>\n",
       "    <tr style=\"text-align: right;\">\n",
       "      <th></th>\n",
       "      <th>0</th>\n",
       "      <th>1</th>\n",
       "      <th>2</th>\n",
       "      <th>3</th>\n",
       "      <th>4</th>\n",
       "      <th>5</th>\n",
       "      <th>6</th>\n",
       "      <th>7</th>\n",
       "      <th>8</th>\n",
       "      <th>9</th>\n",
       "      <th>...</th>\n",
       "      <th>15</th>\n",
       "      <th>16</th>\n",
       "      <th>17</th>\n",
       "      <th>18</th>\n",
       "      <th>19</th>\n",
       "      <th>20</th>\n",
       "      <th>21</th>\n",
       "      <th>22</th>\n",
       "      <th>23</th>\n",
       "      <th>24</th>\n",
       "    </tr>\n",
       "  </thead>\n",
       "  <tbody>\n",
       "    <tr>\n",
       "      <td>0</td>\n",
       "      <td>-2.378430</td>\n",
       "      <td>2.091259</td>\n",
       "      <td>-2.622433</td>\n",
       "      <td>0.912669</td>\n",
       "      <td>0.256600</td>\n",
       "      <td>-1.314929</td>\n",
       "      <td>0.503252</td>\n",
       "      <td>1.310466</td>\n",
       "      <td>0.608411</td>\n",
       "      <td>0.843490</td>\n",
       "      <td>...</td>\n",
       "      <td>0.071787</td>\n",
       "      <td>-0.531329</td>\n",
       "      <td>-0.175905</td>\n",
       "      <td>0.167626</td>\n",
       "      <td>-0.433824</td>\n",
       "      <td>-0.100193</td>\n",
       "      <td>0.050340</td>\n",
       "      <td>0.350516</td>\n",
       "      <td>0.399297</td>\n",
       "      <td>0.113984</td>\n",
       "    </tr>\n",
       "    <tr>\n",
       "      <td>1</td>\n",
       "      <td>-2.349558</td>\n",
       "      <td>1.994768</td>\n",
       "      <td>-2.819020</td>\n",
       "      <td>0.791578</td>\n",
       "      <td>0.229658</td>\n",
       "      <td>-1.255069</td>\n",
       "      <td>0.505918</td>\n",
       "      <td>1.273243</td>\n",
       "      <td>0.615627</td>\n",
       "      <td>0.852398</td>\n",
       "      <td>...</td>\n",
       "      <td>0.068344</td>\n",
       "      <td>-0.526312</td>\n",
       "      <td>-0.177385</td>\n",
       "      <td>0.167999</td>\n",
       "      <td>-0.437334</td>\n",
       "      <td>-0.106165</td>\n",
       "      <td>0.058343</td>\n",
       "      <td>0.356464</td>\n",
       "      <td>0.398009</td>\n",
       "      <td>0.111320</td>\n",
       "    </tr>\n",
       "    <tr>\n",
       "      <td>2</td>\n",
       "      <td>-3.168018</td>\n",
       "      <td>1.958574</td>\n",
       "      <td>-2.273433</td>\n",
       "      <td>1.166596</td>\n",
       "      <td>1.047188</td>\n",
       "      <td>-2.074497</td>\n",
       "      <td>1.194961</td>\n",
       "      <td>2.960908</td>\n",
       "      <td>1.970197</td>\n",
       "      <td>-1.516668</td>\n",
       "      <td>...</td>\n",
       "      <td>-0.308642</td>\n",
       "      <td>1.950278</td>\n",
       "      <td>0.319469</td>\n",
       "      <td>-0.324454</td>\n",
       "      <td>2.552289</td>\n",
       "      <td>0.848347</td>\n",
       "      <td>-2.456456</td>\n",
       "      <td>0.080972</td>\n",
       "      <td>-1.634216</td>\n",
       "      <td>-1.794270</td>\n",
       "    </tr>\n",
       "    <tr>\n",
       "      <td>3</td>\n",
       "      <td>-2.379123</td>\n",
       "      <td>2.683793</td>\n",
       "      <td>-0.811007</td>\n",
       "      <td>1.715256</td>\n",
       "      <td>-0.201663</td>\n",
       "      <td>-0.927517</td>\n",
       "      <td>1.363831</td>\n",
       "      <td>-1.810573</td>\n",
       "      <td>0.822030</td>\n",
       "      <td>-1.080794</td>\n",
       "      <td>...</td>\n",
       "      <td>-0.337850</td>\n",
       "      <td>0.037881</td>\n",
       "      <td>-0.313190</td>\n",
       "      <td>-0.375431</td>\n",
       "      <td>0.023265</td>\n",
       "      <td>-0.370217</td>\n",
       "      <td>0.296805</td>\n",
       "      <td>0.295580</td>\n",
       "      <td>-0.398301</td>\n",
       "      <td>0.067306</td>\n",
       "    </tr>\n",
       "    <tr>\n",
       "      <td>4</td>\n",
       "      <td>-2.275535</td>\n",
       "      <td>2.066592</td>\n",
       "      <td>-2.852453</td>\n",
       "      <td>0.738157</td>\n",
       "      <td>0.157435</td>\n",
       "      <td>-1.195043</td>\n",
       "      <td>0.489435</td>\n",
       "      <td>1.279529</td>\n",
       "      <td>0.608816</td>\n",
       "      <td>0.878169</td>\n",
       "      <td>...</td>\n",
       "      <td>0.065574</td>\n",
       "      <td>-0.520098</td>\n",
       "      <td>-0.168890</td>\n",
       "      <td>0.155447</td>\n",
       "      <td>-0.451802</td>\n",
       "      <td>-0.104797</td>\n",
       "      <td>0.056443</td>\n",
       "      <td>0.350903</td>\n",
       "      <td>0.394974</td>\n",
       "      <td>0.108997</td>\n",
       "    </tr>\n",
       "  </tbody>\n",
       "</table>\n",
       "<p>5 rows × 25 columns</p>\n",
       "</div>"
      ],
      "text/plain": [
       "         0         1         2         3         4         5         6   \\\n",
       "0 -2.378430  2.091259 -2.622433  0.912669  0.256600 -1.314929  0.503252   \n",
       "1 -2.349558  1.994768 -2.819020  0.791578  0.229658 -1.255069  0.505918   \n",
       "2 -3.168018  1.958574 -2.273433  1.166596  1.047188 -2.074497  1.194961   \n",
       "3 -2.379123  2.683793 -0.811007  1.715256 -0.201663 -0.927517  1.363831   \n",
       "4 -2.275535  2.066592 -2.852453  0.738157  0.157435 -1.195043  0.489435   \n",
       "\n",
       "         7         8         9   ...        15        16        17        18  \\\n",
       "0  1.310466  0.608411  0.843490  ...  0.071787 -0.531329 -0.175905  0.167626   \n",
       "1  1.273243  0.615627  0.852398  ...  0.068344 -0.526312 -0.177385  0.167999   \n",
       "2  2.960908  1.970197 -1.516668  ... -0.308642  1.950278  0.319469 -0.324454   \n",
       "3 -1.810573  0.822030 -1.080794  ... -0.337850  0.037881 -0.313190 -0.375431   \n",
       "4  1.279529  0.608816  0.878169  ...  0.065574 -0.520098 -0.168890  0.155447   \n",
       "\n",
       "         19        20        21        22        23        24  \n",
       "0 -0.433824 -0.100193  0.050340  0.350516  0.399297  0.113984  \n",
       "1 -0.437334 -0.106165  0.058343  0.356464  0.398009  0.111320  \n",
       "2  2.552289  0.848347 -2.456456  0.080972 -1.634216 -1.794270  \n",
       "3  0.023265 -0.370217  0.296805  0.295580 -0.398301  0.067306  \n",
       "4 -0.451802 -0.104797  0.056443  0.350903  0.394974  0.108997  \n",
       "\n",
       "[5 rows x 25 columns]"
      ]
     },
     "execution_count": 9,
     "metadata": {},
     "output_type": "execute_result"
    }
   ],
   "source": [
    "principalDf.head()"
   ]
  },
  {
   "cell_type": "code",
   "execution_count": 10,
   "metadata": {},
   "outputs": [
    {
     "name": "stdout",
     "output_type": "stream",
     "text": [
      " the number of total pricipalDf is 15120\n"
     ]
    }
   ],
   "source": [
    "print(\" the number of total pricipalDf is \" + str(len(principalDf)))"
   ]
  },
  {
   "cell_type": "code",
   "execution_count": 11,
   "metadata": {},
   "outputs": [],
   "source": [
    "X_train, X_test, y_train, y_test = train_test_split(principalDf, train_labels, test_size=0.2, random_state=42, \\\n",
    "                                                    shuffle = True)"
   ]
  },
  {
   "cell_type": "code",
   "execution_count": 35,
   "metadata": {},
   "outputs": [
    {
     "name": "stdout",
     "output_type": "stream",
     "text": [
      "training KNN model ...\n",
      "the number of neig is: 3\n",
      "training KNN model ...\n",
      "the number of neig is: 5\n",
      "training KNN model ...\n",
      "the number of neig is: 7\n",
      "training KNN model ...\n",
      "the number of neig is: 9\n",
      "training KNN model ...\n",
      "the number of neig is: 11\n",
      "training KNN model ...\n",
      "the number of neig is: 13\n",
      "training KNN model ...\n",
      "the number of neig is: 15\n",
      "training KNN model ...\n",
      "the number of neig is: 17\n",
      "the test accuracies are: \n",
      "[0.7628968253968254, 0.7533068783068783, 0.751984126984127, 0.7423941798941799, 0.7374338624338624, 0.7314814814814815, 0.7268518518518519, 0.7235449735449735]\n",
      "the training accraucy are : \n",
      "[0.8753306878306878, 0.8354828042328042, 0.8088624338624338, 0.7978670634920635, 0.781332671957672, 0.7719080687830688, 0.7651289682539683, 0.7576058201058201]\n",
      "the best accuracy is : 0.7628968253968254\n"
     ]
    }
   ],
   "source": [
    "test_accuracy = []\n",
    "train_accuracy = []\n",
    "max_acc = 0\n",
    "KNN_model = None\n",
    "for num in range(3, 19, 2):\n",
    "    test_acc, train_acc, model = train_inference_KNN(num)\n",
    "    if KNN_model == None or max_acc < test_acc:\n",
    "        max_acc = test_acc\n",
    "        KNN_model = model\n",
    "    test_accuracy.append(test_acc)\n",
    "    train_accuracy.append(train_acc)\n",
    "print(\"the test accuracies are: \")\n",
    "print(test_accuracy)\n",
    "print(\"the training accraucy are : \")\n",
    "print(train_accuracy)\n",
    "print(\"the best accuracy is : \" +str(max_acc))"
   ]
  },
  {
   "cell_type": "code",
   "execution_count": 36,
   "metadata": {},
   "outputs": [
    {
     "data": {
      "image/png": "[encoded data removed]",
      "text/plain": [
       "<Figure size 432x288 with 1 Axes>"
      ]
     },
     "metadata": {
      "needs_background": "light"
     },
     "output_type": "display_data"
    }
   ],
   "source": [
    "import matplotlib.pyplot as plt\n",
    "plt.plot(range(3, 19, 2), test_accuracy, label='testing accuracy')\n",
    "plt.plot(range(3, 19, 2), train_accuracy, label = 'training accuracy')\n",
    "plt.ylabel(\"the accuracy\")\n",
    "plt.xlabel(\"the number of neigbors in KNN model\")\n",
    "plt.legend(loc='lower left')\n",
    "plt.show()"
   ]
  },
  {
   "cell_type": "code",
   "execution_count": 37,
   "metadata": {},
   "outputs": [
    {
     "name": "stdout",
     "output_type": "stream",
     "text": [
      "train the decision tree model with maxdepth is 5\n",
      "train the decision tree model with maxdepth is 8\n",
      "train the decision tree model with maxdepth is 11\n",
      "train the decision tree model with maxdepth is 14\n",
      "train the decision tree model with maxdepth is 17\n",
      "train the decision tree model with maxdepth is 20\n",
      "train the decision tree model with maxdepth is 23\n",
      "train the decision tree model with maxdepth is 26\n",
      "train the decision tree model with maxdepth is 29\n",
      "train the decision tree model with maxdepth is 32\n",
      "train the decision tree model with maxdepth is 35\n",
      "train the decision tree model with maxdepth is 38\n",
      "the testing accuray are: \n",
      "[0.6190476190476191, 0.6812169312169312, 0.7208994708994709, 0.7513227513227513, 0.769510582010582, 0.7628968253968254, 0.7609126984126984, 0.7592592592592593, 0.7566137566137566, 0.751984126984127, 0.7625661375661376, 0.7599206349206349]\n",
      "the training accuray are: \n",
      "[0.6208664021164021, 0.7195767195767195, 0.8314318783068783, 0.9131117724867724, 0.9642857142857143, 0.9830522486772487, 0.9930555555555556, 0.9984292328042328, 0.999834656084656, 1.0, 1.0, 1.0]\n",
      "the best accuracy is : 0.769510582010582\n"
     ]
    },
    {
     "data": {
      "image/png": "[encoded data removed]",
      "text/plain": [
       "<Figure size 432x288 with 1 Axes>"
      ]
     },
     "metadata": {
      "needs_background": "light"
     },
     "output_type": "display_data"
    }
   ],
   "source": [
    "# re-train decision tree on the PCA data\n",
    "test_accuracy = []\n",
    "train_accuracy = []\n",
    "DT_model = None\n",
    "max_acc = 0\n",
    "for num in range(5, 40, 3):\n",
    "    test_acc, train_acc, model = train_inference_DT(num)\n",
    "    if DT_model==None or max_acc < test_acc:\n",
    "        max_acc = test_acc\n",
    "        DT_model = model\n",
    "    test_accuracy.append(test_acc)\n",
    "    train_accuracy.append(train_acc)\n",
    "print(\"the testing accuray are: \")\n",
    "print(test_accuracy)\n",
    "print(\"the training accuray are: \")\n",
    "print(train_accuracy)\n",
    "print(\"the best accuracy is : \" +str(max_acc))\n",
    "\n",
    "# draw the training and test result\n",
    "plt.plot(range(5, 40, 3), test_accuracy, label='testing accuracy')\n",
    "plt.plot(range(5, 40, 3), train_accuracy, label = 'training accuracy')\n",
    "plt.ylabel(\"the accuracy\")\n",
    "plt.xlabel(\"the number of neigbors in KNN model\")\n",
    "plt.legend(loc='lower left')\n",
    "plt.show()"
   ]
  },
  {
   "cell_type": "code",
   "execution_count": 38,
   "metadata": {},
   "outputs": [
    {
     "name": "stdout",
     "output_type": "stream",
     "text": [
      " the number of tree is 100\n",
      "train the random forest tree model with maxdepth is 5\n"
     ]
    },
    {
     "name": "stderr",
     "output_type": "stream",
     "text": [
      "c:\\users\\lixx3527\\anaconda2\\envs\\pytorch_new\\lib\\site-packages\\sklearn\\ensemble\\forest.py:245: FutureWarning: The default value of n_estimators will change from 10 in version 0.20 to 100 in 0.22.\n",
      "  \"10 in version 0.20 to 100 in 0.22.\", FutureWarning)\n"
     ]
    },
    {
     "name": "stdout",
     "output_type": "stream",
     "text": [
      " the number of tree is 100\n",
      "train the random forest tree model with maxdepth is 8\n"
     ]
    },
    {
     "name": "stderr",
     "output_type": "stream",
     "text": [
      "c:\\users\\lixx3527\\anaconda2\\envs\\pytorch_new\\lib\\site-packages\\sklearn\\ensemble\\forest.py:245: FutureWarning: The default value of n_estimators will change from 10 in version 0.20 to 100 in 0.22.\n",
      "  \"10 in version 0.20 to 100 in 0.22.\", FutureWarning)\n"
     ]
    },
    {
     "name": "stdout",
     "output_type": "stream",
     "text": [
      " the number of tree is 100\n",
      "train the random forest tree model with maxdepth is 11\n"
     ]
    },
    {
     "name": "stderr",
     "output_type": "stream",
     "text": [
      "c:\\users\\lixx3527\\anaconda2\\envs\\pytorch_new\\lib\\site-packages\\sklearn\\ensemble\\forest.py:245: FutureWarning: The default value of n_estimators will change from 10 in version 0.20 to 100 in 0.22.\n",
      "  \"10 in version 0.20 to 100 in 0.22.\", FutureWarning)\n"
     ]
    },
    {
     "name": "stdout",
     "output_type": "stream",
     "text": [
      " the number of tree is 100\n",
      "train the random forest tree model with maxdepth is 14\n"
     ]
    },
    {
     "name": "stderr",
     "output_type": "stream",
     "text": [
      "c:\\users\\lixx3527\\anaconda2\\envs\\pytorch_new\\lib\\site-packages\\sklearn\\ensemble\\forest.py:245: FutureWarning: The default value of n_estimators will change from 10 in version 0.20 to 100 in 0.22.\n",
      "  \"10 in version 0.20 to 100 in 0.22.\", FutureWarning)\n"
     ]
    },
    {
     "name": "stdout",
     "output_type": "stream",
     "text": [
      " the number of tree is 100\n",
      "train the random forest tree model with maxdepth is 17\n"
     ]
    },
    {
     "name": "stderr",
     "output_type": "stream",
     "text": [
      "c:\\users\\lixx3527\\anaconda2\\envs\\pytorch_new\\lib\\site-packages\\sklearn\\ensemble\\forest.py:245: FutureWarning: The default value of n_estimators will change from 10 in version 0.20 to 100 in 0.22.\n",
      "  \"10 in version 0.20 to 100 in 0.22.\", FutureWarning)\n"
     ]
    },
    {
     "name": "stdout",
     "output_type": "stream",
     "text": [
      " the number of tree is 100\n",
      "train the random forest tree model with maxdepth is 20\n"
     ]
    },
    {
     "name": "stderr",
     "output_type": "stream",
     "text": [
      "c:\\users\\lixx3527\\anaconda2\\envs\\pytorch_new\\lib\\site-packages\\sklearn\\ensemble\\forest.py:245: FutureWarning: The default value of n_estimators will change from 10 in version 0.20 to 100 in 0.22.\n",
      "  \"10 in version 0.20 to 100 in 0.22.\", FutureWarning)\n"
     ]
    },
    {
     "name": "stdout",
     "output_type": "stream",
     "text": [
      " the number of tree is 100\n",
      "train the random forest tree model with maxdepth is 23\n"
     ]
    },
    {
     "name": "stderr",
     "output_type": "stream",
     "text": [
      "c:\\users\\lixx3527\\anaconda2\\envs\\pytorch_new\\lib\\site-packages\\sklearn\\ensemble\\forest.py:245: FutureWarning: The default value of n_estimators will change from 10 in version 0.20 to 100 in 0.22.\n",
      "  \"10 in version 0.20 to 100 in 0.22.\", FutureWarning)\n"
     ]
    },
    {
     "name": "stdout",
     "output_type": "stream",
     "text": [
      " the number of tree is 100\n",
      "train the random forest tree model with maxdepth is 26\n"
     ]
    },
    {
     "name": "stderr",
     "output_type": "stream",
     "text": [
      "c:\\users\\lixx3527\\anaconda2\\envs\\pytorch_new\\lib\\site-packages\\sklearn\\ensemble\\forest.py:245: FutureWarning: The default value of n_estimators will change from 10 in version 0.20 to 100 in 0.22.\n",
      "  \"10 in version 0.20 to 100 in 0.22.\", FutureWarning)\n"
     ]
    },
    {
     "name": "stdout",
     "output_type": "stream",
     "text": [
      " the number of tree is 100\n",
      "train the random forest tree model with maxdepth is 29\n"
     ]
    },
    {
     "name": "stderr",
     "output_type": "stream",
     "text": [
      "c:\\users\\lixx3527\\anaconda2\\envs\\pytorch_new\\lib\\site-packages\\sklearn\\ensemble\\forest.py:245: FutureWarning: The default value of n_estimators will change from 10 in version 0.20 to 100 in 0.22.\n",
      "  \"10 in version 0.20 to 100 in 0.22.\", FutureWarning)\n"
     ]
    },
    {
     "name": "stdout",
     "output_type": "stream",
     "text": [
      " the number of tree is 100\n",
      "train the random forest tree model with maxdepth is 32\n"
     ]
    },
    {
     "name": "stderr",
     "output_type": "stream",
     "text": [
      "c:\\users\\lixx3527\\anaconda2\\envs\\pytorch_new\\lib\\site-packages\\sklearn\\ensemble\\forest.py:245: FutureWarning: The default value of n_estimators will change from 10 in version 0.20 to 100 in 0.22.\n",
      "  \"10 in version 0.20 to 100 in 0.22.\", FutureWarning)\n"
     ]
    },
    {
     "name": "stdout",
     "output_type": "stream",
     "text": [
      " the number of tree is 100\n",
      "train the random forest tree model with maxdepth is 35\n"
     ]
    },
    {
     "name": "stderr",
     "output_type": "stream",
     "text": [
      "c:\\users\\lixx3527\\anaconda2\\envs\\pytorch_new\\lib\\site-packages\\sklearn\\ensemble\\forest.py:245: FutureWarning: The default value of n_estimators will change from 10 in version 0.20 to 100 in 0.22.\n",
      "  \"10 in version 0.20 to 100 in 0.22.\", FutureWarning)\n"
     ]
    },
    {
     "name": "stdout",
     "output_type": "stream",
     "text": [
      " the number of tree is 100\n",
      "train the random forest tree model with maxdepth is 38\n"
     ]
    },
    {
     "name": "stderr",
     "output_type": "stream",
     "text": [
      "c:\\users\\lixx3527\\anaconda2\\envs\\pytorch_new\\lib\\site-packages\\sklearn\\ensemble\\forest.py:245: FutureWarning: The default value of n_estimators will change from 10 in version 0.20 to 100 in 0.22.\n",
      "  \"10 in version 0.20 to 100 in 0.22.\", FutureWarning)\n"
     ]
    },
    {
     "name": "stdout",
     "output_type": "stream",
     "text": [
      "the testing accuray are: \n",
      "[0.6326058201058201, 0.7013888888888888, 0.7582671957671958, 0.7956349206349206, 0.7992724867724867, 0.8019179894179894, 0.7979497354497355, 0.7992724867724867, 0.8072089947089947, 0.8101851851851852, 0.8009259259259259, 0.8148148148148148]\n",
      "the training accuray are: \n",
      "[0.6364914021164021, 0.7446263227513228, 0.8611111111111112, 0.9481646825396826, 0.9752810846560847, 0.9867724867724867, 0.9907407407407407, 0.9913194444444444, 0.9929728835978836, 0.9914021164021164, 0.9909887566137566, 0.9918981481481481]\n",
      "the best accuracy is : 0.8148148148148148\n"
     ]
    },
    {
     "data": {
      "image/png": "[encoded data removed]",
      "text/plain": [
       "<Figure size 432x288 with 1 Axes>"
      ]
     },
     "metadata": {
      "needs_background": "light"
     },
     "output_type": "display_data"
    }
   ],
   "source": [
    "# set the number of ramdom forest tree as 100, and re_train the ramdom foreste tree model\n",
    "test_accuracy = []\n",
    "train_accuracy = []\n",
    "RFT_model = None\n",
    "max_acc = 0\n",
    "for num in range(5, 40, 3):\n",
    "    test_acc, train_acc, model = train_inference_random_forest_tree(100, num)\n",
    "    if RFT_model==None or max_acc < test_acc:\n",
    "        max_acc = test_acc\n",
    "        RFT_model = model\n",
    "    test_accuracy.append(test_acc)\n",
    "    train_accuracy.append(train_acc)\n",
    "print(\"the testing accuray are: \")\n",
    "print(test_accuracy)\n",
    "print(\"the training accuray are: \")\n",
    "print(train_accuracy)\n",
    "print(\"the best accuracy is : \" +str(max_acc))\n",
    "\n",
    "\n",
    "# draw the training and test result\n",
    "plt.plot(range(5, 40, 3), test_accuracy, label='testing accuracy')\n",
    "plt.plot(range(5, 40, 3), train_accuracy, label = 'training accuracy')\n",
    "plt.ylabel(\"the accuracy\")\n",
    "plt.xlabel(\"the number of neigbors in KNN model\")\n",
    "plt.legend(loc='lower left')\n",
    "plt.show()"
   ]
  },
  {
   "cell_type": "markdown",
   "metadata": {},
   "source": [
    "###  let's retrain graident boosting tree based on preprocessed data and test it!"
   ]
  },
  {
   "cell_type": "code",
   "execution_count": 12,
   "metadata": {},
   "outputs": [
    {
     "name": "stdout",
     "output_type": "stream",
     "text": [
      " the number of tree is 30\n",
      "train the GDBT tree model with maxdepth is 5\n",
      " the number of tree is 30\n",
      "train the GDBT tree model with maxdepth is 8\n",
      " the number of tree is 30\n",
      "train the GDBT tree model with maxdepth is 11\n",
      " the number of tree is 30\n",
      "train the GDBT tree model with maxdepth is 14\n",
      " the number of tree is 30\n",
      "train the GDBT tree model with maxdepth is 17\n",
      " the number of tree is 30\n",
      "train the GDBT tree model with maxdepth is 20\n",
      " the number of tree is 30\n",
      "train the GDBT tree model with maxdepth is 23\n",
      " the number of tree is 30\n",
      "train the GDBT tree model with maxdepth is 26\n",
      " the number of tree is 30\n",
      "train the GDBT tree model with maxdepth is 29\n",
      " the number of tree is 30\n",
      "train the GDBT tree model with maxdepth is 32\n",
      " the number of tree is 30\n",
      "train the GDBT tree model with maxdepth is 35\n",
      " the number of tree is 30\n",
      "train the GDBT tree model with maxdepth is 38\n",
      "the testing accuray are: \n",
      "[0.746031746031746, 0.7913359788359788, 0.8032407407407407, 0.7986111111111112, 0.7767857142857143, 0.7536375661375662, 0.7384259259259259, 0.7271825396825397, 0.7245370370370371, 0.7265211640211641, 0.7255291005291006, 0.7255291005291006]\n",
      "the training accuracy are: \n",
      "[0.8343253968253969, 0.9680886243386243, 1.0, 1.0, 1.0, 1.0, 1.0, 1.0, 1.0, 1.0, 1.0, 1.0]\n",
      "the best accuracy is : 0.8032407407407407\n"
     ]
    },
    {
     "data": {
      "image/png": "[encoded data removed]",
      "text/plain": [
       "<Figure size 432x288 with 1 Axes>"
      ]
     },
     "metadata": {
      "needs_background": "light"
     },
     "output_type": "display_data"
    }
   ],
   "source": [
    "test_accuracy = []\n",
    "train_accuracy = []\n",
    "GDBT_model = None\n",
    "max_acc = 0\n",
    "for num in range(5, 40, 3):\n",
    "    test_acc, train_acc, model = train_inference_GDBT(30, num)\n",
    "    if GDBT_model==None or max_acc < test_acc:\n",
    "        max_acc = test_acc\n",
    "        GDBT_model = model\n",
    "    test_accuracy.append(test_acc)\n",
    "    train_accuracy.append(train_acc)\n",
    "print(\"the testing accuray are: \")\n",
    "print(test_accuracy)\n",
    "print(\"the training accuracy are: \")\n",
    "print(train_accuracy)\n",
    "print(\"the best accuracy is : \" + str(max_acc))\n",
    "\n",
    "# draw the training and test result\n",
    "plt.plot(range(5, 40, 3), test_accuracy, label='testing accuracy')\n",
    "plt.plot(range(5, 40, 3), train_accuracy, label = 'training accuracy')\n",
    "plt.ylabel(\"the accuracy\")\n",
    "plt.xlabel(\"the number of neigbors in KNN model\")\n",
    "plt.legend(loc='lower left')\n",
    "plt.show()"
   ]
  },
  {
   "cell_type": "code",
   "execution_count": null,
   "metadata": {},
   "outputs": [],
   "source": []
  }
 ],
 "metadata": {
  "kernelspec": {
   "display_name": "Python 3",
   "language": "python",
   "name": "python3"
  },
  "language_info": {
   "codemirror_mode": {
    "name": "ipython",
    "version": 3
   },
   "file_extension": ".py",
   "mimetype": "text/x-python",
   "name": "python",
   "nbconvert_exporter": "python",
   "pygments_lexer": "ipython3",
   "version": "3.6.2"
  }
 },
 "nbformat": 4,
 "nbformat_minor": 2
}
